{
 "cells": [
  {
   "cell_type": "code",
   "execution_count": null,
   "metadata": {},
   "outputs": [],
   "source": []
  },
  {
   "cell_type": "code",
   "execution_count": 2,
   "metadata": {},
   "outputs": [
    {
     "name": "stdout",
     "output_type": "stream",
     "text": [
      "physionet.org/files/eicu-crd/2.0/LICENSE.txt\n",
      "physionet.org/files/eicu-crd/2.0/admissionDrug.csv\n",
      "physionet.org/files/eicu-crd/2.0/infusionDrug.csv\n",
      "physionet.org/files/eicu-crd/2.0/nurseCare.csv\n",
      "physionet.org/files/eicu-crd/2.0/note.csv\n",
      "physionet.org/files/eicu-crd/2.0/carePlanCareProvider.csv\n",
      "physionet.org/files/eicu-crd/2.0/customLab.csv\n",
      "physionet.org/files/eicu-crd/2.0/hospital.csv\n",
      "physionet.org/files/eicu-crd/2.0/carePlanEOL.csv\n",
      "physionet.org/files/eicu-crd/2.0/vitalAperiodic.csv\n",
      "physionet.org/files/eicu-crd/2.0/nurseAssessment.csv\n",
      "physionet.org/files/eicu-crd/2.0/admissionDx.csv\n",
      "physionet.org/files/eicu-crd/2.0/apacheApsVar.csv\n",
      "physionet.org/files/eicu-crd/2.0/diagnosis.csv\n",
      "physionet.org/files/eicu-crd/2.0/physicalExam.csv\n",
      "physionet.org/files/eicu-crd/2.0/microLab.csv\n",
      "physionet.org/files/eicu-crd/2.0/patient.csv\n",
      "physionet.org/files/eicu-crd/2.0/pastHistory.csv\n",
      "physionet.org/files/eicu-crd/2.0/carePlanGeneral.csv\n",
      "physionet.org/files/eicu-crd/2.0/treatment.csv\n",
      "physionet.org/files/eicu-crd/2.0/SHA256SUMS.txt\n",
      "physionet.org/files/eicu-crd/2.0/carePlanInfectiousDisease.csv\n",
      "physionet.org/files/eicu-crd/2.0/vitalPeriodic.csv\n",
      "physionet.org/files/eicu-crd/2.0/nurseCharting.csv\n",
      "physionet.org/files/eicu-crd/2.0/intakeOutput.csv\n",
      "physionet.org/files/eicu-crd/2.0/respiratoryCare.csv\n",
      "physionet.org/files/eicu-crd/2.0/apachePredVar.csv\n",
      "physionet.org/files/eicu-crd/2.0/respiratoryCharting.csv\n",
      "physionet.org/files/eicu-crd/2.0/lab.csv\n",
      "physionet.org/files/eicu-crd/2.0/apachePatientResult.csv\n",
      "physionet.org/files/eicu-crd/2.0/allergy.csv\n",
      "physionet.org/files/eicu-crd/2.0/medication.csv\n",
      "physionet.org/files/eicu-crd/2.0/carePlanGoal.csv\n",
      "physionet.org/files/eicu-crd/2.0/index.html\n"
     ]
    }
   ],
   "source": [
    "! find physionet.org/files/eicu-crd -type f "
   ]
  },
  {
   "cell_type": "code",
   "execution_count": 4,
   "metadata": {},
   "outputs": [],
   "source": [
    "import numpy as np"
   ]
  },
  {
   "cell_type": "code",
   "execution_count": 5,
   "metadata": {},
   "outputs": [
    {
     "name": "stdout",
     "output_type": "stream",
     "text": [
      "Collecting pandas\n",
      "  Downloading https://files.pythonhosted.org/packages/52/3f/f6a428599e0d4497e1595030965b5ba455fd8ade6e977e3c819973c4b41d/pandas-0.25.3-cp36-cp36m-manylinux1_x86_64.whl (10.4MB)\n",
      "\u001b[K    100% |████████████████████████████████| 10.4MB 111kB/s eta 0:00:01\n",
      "\u001b[?25hRequirement already satisfied: numpy>=1.13.3 in /jet/lib/python3.6/site-packages/numpy-1.13.3-py3.6-linux-x86_64.egg (from pandas)\n",
      "Collecting pytz>=2017.2 (from pandas)\n",
      "  Downloading https://files.pythonhosted.org/packages/e7/f9/f0b53f88060247251bf481fa6ea62cd0d25bf1b11a87888e53ce5b7c8ad2/pytz-2019.3-py2.py3-none-any.whl (509kB)\n",
      "\u001b[K    100% |████████████████████████████████| 512kB 2.6MB/s eta 0:00:01\n",
      "\u001b[?25hCollecting python-dateutil>=2.6.1 (from pandas)\n",
      "  Downloading https://files.pythonhosted.org/packages/d4/70/d60450c3dd48ef87586924207ae8907090de0b306af2bce5d134d78615cb/python_dateutil-2.8.1-py2.py3-none-any.whl (227kB)\n",
      "\u001b[K    100% |████████████████████████████████| 235kB 5.0MB/s eta 0:00:01\n",
      "\u001b[?25hRequirement already satisfied: six>=1.5 in /jet/lib/python3.6/site-packages (from python-dateutil>=2.6.1->pandas)\n",
      "Installing collected packages: pytz, python-dateutil, pandas\n",
      "  Found existing installation: python-dateutil 2.6.0\n",
      "    Uninstalling python-dateutil-2.6.0:\n",
      "      Successfully uninstalled python-dateutil-2.6.0\n",
      "Successfully installed pandas-0.25.3 python-dateutil-2.8.1 pytz-2019.3\n",
      "\u001b[33mYou are using pip version 9.0.1, however version 19.3.1 is available.\n",
      "You should consider upgrading via the 'pip install --upgrade pip' command.\u001b[0m\n"
     ]
    }
   ],
   "source": [
    "!pip install pandas"
   ]
  },
  {
   "cell_type": "code",
   "execution_count": 6,
   "metadata": {},
   "outputs": [],
   "source": [
    "import pandas as pd"
   ]
  },
  {
   "cell_type": "code",
   "execution_count": 7,
   "metadata": {},
   "outputs": [],
   "source": [
    "import csv"
   ]
  },
  {
   "cell_type": "code",
   "execution_count": 10,
   "metadata": {},
   "outputs": [],
   "source": [
    "import matplotlib.pyplot as plt"
   ]
  },
  {
   "cell_type": "code",
   "execution_count": 9,
   "metadata": {},
   "outputs": [
    {
     "name": "stdout",
     "output_type": "stream",
     "text": [
      "Collecting matplotlib\n",
      "  Downloading https://files.pythonhosted.org/packages/4e/11/06958a2b895a3853206dea1fb2a5b11bf044f626f90745987612af9c8f2c/matplotlib-3.1.2-cp36-cp36m-manylinux1_x86_64.whl (13.1MB)\n",
      "\u001b[K    100% |████████████████████████████████| 13.1MB 87kB/s  eta 0:00:01\n",
      "\u001b[?25hCollecting pyparsing!=2.0.4,!=2.1.2,!=2.1.6,>=2.0.1 (from matplotlib)\n",
      "  Downloading https://files.pythonhosted.org/packages/5d/bc/1e58593167fade7b544bfe9502a26dc860940a79ab306e651e7f13be68c2/pyparsing-2.4.6-py2.py3-none-any.whl (67kB)\n",
      "\u001b[K    100% |████████████████████████████████| 71kB 9.0MB/s eta 0:00:01\n",
      "\u001b[?25hRequirement already satisfied: python-dateutil>=2.1 in /jet/lib/python3.6/site-packages (from matplotlib)\n",
      "Collecting kiwisolver>=1.0.1 (from matplotlib)\n",
      "  Downloading https://files.pythonhosted.org/packages/f8/a1/5742b56282449b1c0968197f63eae486eca2c35dcd334bab75ad524e0de1/kiwisolver-1.1.0-cp36-cp36m-manylinux1_x86_64.whl (90kB)\n",
      "\u001b[K    100% |████████████████████████████████| 92kB 8.9MB/s eta 0:00:01\n",
      "\u001b[?25hRequirement already satisfied: numpy>=1.11 in /jet/lib/python3.6/site-packages/numpy-1.13.3-py3.6-linux-x86_64.egg (from matplotlib)\n",
      "Collecting cycler>=0.10 (from matplotlib)\n",
      "  Downloading https://files.pythonhosted.org/packages/f7/d2/e07d3ebb2bd7af696440ce7e754c59dd546ffe1bbe732c8ab68b9c834e61/cycler-0.10.0-py2.py3-none-any.whl\n",
      "Requirement already satisfied: six>=1.5 in /jet/lib/python3.6/site-packages (from python-dateutil>=2.1->matplotlib)\n",
      "Requirement already satisfied: setuptools in /jet/lib/python3.6/site-packages/setuptools-36.0.1-py3.6.egg (from kiwisolver>=1.0.1->matplotlib)\n",
      "Installing collected packages: pyparsing, kiwisolver, cycler, matplotlib\n",
      "Successfully installed cycler-0.10.0 kiwisolver-1.1.0 matplotlib-3.1.2 pyparsing-2.4.6\n",
      "\u001b[33mYou are using pip version 9.0.1, however version 19.3.1 is available.\n",
      "You should consider upgrading via the 'pip install --upgrade pip' command.\u001b[0m\n"
     ]
    }
   ],
   "source": [
    "! pip install matplotlib"
   ]
  },
  {
   "cell_type": "code",
   "execution_count": 11,
   "metadata": {},
   "outputs": [],
   "source": [
    "dxs = pd.read_csv('physionet.org/files/eicu-crd/2.0/diagnosis.csv')"
   ]
  },
  {
   "cell_type": "code",
   "execution_count": 13,
   "metadata": {},
   "outputs": [
    {
     "data": {
      "text/html": [
       "<div>\n",
       "<style scoped>\n",
       "    .dataframe tbody tr th:only-of-type {\n",
       "        vertical-align: middle;\n",
       "    }\n",
       "\n",
       "    .dataframe tbody tr th {\n",
       "        vertical-align: top;\n",
       "    }\n",
       "\n",
       "    .dataframe thead th {\n",
       "        text-align: right;\n",
       "    }\n",
       "</style>\n",
       "<table border=\"1\" class=\"dataframe\">\n",
       "  <thead>\n",
       "    <tr style=\"text-align: right;\">\n",
       "      <th></th>\n",
       "      <th>diagnosisid</th>\n",
       "      <th>patientunitstayid</th>\n",
       "      <th>activeupondischarge</th>\n",
       "      <th>diagnosisoffset</th>\n",
       "      <th>diagnosisstring</th>\n",
       "      <th>icd9code</th>\n",
       "      <th>diagnosispriority</th>\n",
       "    </tr>\n",
       "  </thead>\n",
       "  <tbody>\n",
       "    <tr>\n",
       "      <th>0</th>\n",
       "      <td>4222318</td>\n",
       "      <td>141168</td>\n",
       "      <td>False</td>\n",
       "      <td>72</td>\n",
       "      <td>cardiovascular|chest pain / ASHD|coronary arte...</td>\n",
       "      <td>414.00, I25.10</td>\n",
       "      <td>Other</td>\n",
       "    </tr>\n",
       "    <tr>\n",
       "      <th>1</th>\n",
       "      <td>3370568</td>\n",
       "      <td>141168</td>\n",
       "      <td>True</td>\n",
       "      <td>118</td>\n",
       "      <td>cardiovascular|ventricular disorders|cardiomyo...</td>\n",
       "      <td>NaN</td>\n",
       "      <td>Other</td>\n",
       "    </tr>\n",
       "    <tr>\n",
       "      <th>2</th>\n",
       "      <td>4160941</td>\n",
       "      <td>141168</td>\n",
       "      <td>False</td>\n",
       "      <td>72</td>\n",
       "      <td>pulmonary|disorders of the airways|COPD</td>\n",
       "      <td>491.20, J44.9</td>\n",
       "      <td>Other</td>\n",
       "    </tr>\n",
       "    <tr>\n",
       "      <th>3</th>\n",
       "      <td>4103261</td>\n",
       "      <td>141168</td>\n",
       "      <td>True</td>\n",
       "      <td>118</td>\n",
       "      <td>pulmonary|disorders of the airways|COPD</td>\n",
       "      <td>491.20, J44.9</td>\n",
       "      <td>Other</td>\n",
       "    </tr>\n",
       "    <tr>\n",
       "      <th>4</th>\n",
       "      <td>3545241</td>\n",
       "      <td>141168</td>\n",
       "      <td>True</td>\n",
       "      <td>118</td>\n",
       "      <td>cardiovascular|ventricular disorders|congestiv...</td>\n",
       "      <td>428.0, I50.9</td>\n",
       "      <td>Other</td>\n",
       "    </tr>\n",
       "    <tr>\n",
       "      <th>5</th>\n",
       "      <td>3820204</td>\n",
       "      <td>141168</td>\n",
       "      <td>True</td>\n",
       "      <td>118</td>\n",
       "      <td>cardiovascular|arrhythmias|atrial fibrillation...</td>\n",
       "      <td>427.31, I48.0</td>\n",
       "      <td>Primary</td>\n",
       "    </tr>\n",
       "    <tr>\n",
       "      <th>6</th>\n",
       "      <td>3656305</td>\n",
       "      <td>141168</td>\n",
       "      <td>True</td>\n",
       "      <td>118</td>\n",
       "      <td>renal|disorder of kidney|chronic kidney disease</td>\n",
       "      <td>585.9, N18.9</td>\n",
       "      <td>Other</td>\n",
       "    </tr>\n",
       "    <tr>\n",
       "      <th>7</th>\n",
       "      <td>3955157</td>\n",
       "      <td>141168</td>\n",
       "      <td>True</td>\n",
       "      <td>118</td>\n",
       "      <td>cardiovascular|chest pain / ASHD|coronary arte...</td>\n",
       "      <td>414.00, I25.10</td>\n",
       "      <td>Other</td>\n",
       "    </tr>\n",
       "    <tr>\n",
       "      <th>8</th>\n",
       "      <td>3827059</td>\n",
       "      <td>141168</td>\n",
       "      <td>False</td>\n",
       "      <td>72</td>\n",
       "      <td>cardiovascular|ventricular disorders|congestiv...</td>\n",
       "      <td>428.0, I50.9</td>\n",
       "      <td>Other</td>\n",
       "    </tr>\n",
       "    <tr>\n",
       "      <th>9</th>\n",
       "      <td>3743877</td>\n",
       "      <td>141168</td>\n",
       "      <td>False</td>\n",
       "      <td>72</td>\n",
       "      <td>cardiovascular|ventricular disorders|cardiomyo...</td>\n",
       "      <td>NaN</td>\n",
       "      <td>Other</td>\n",
       "    </tr>\n",
       "    <tr>\n",
       "      <th>10</th>\n",
       "      <td>3973447</td>\n",
       "      <td>141168</td>\n",
       "      <td>False</td>\n",
       "      <td>72</td>\n",
       "      <td>renal|disorder of kidney|chronic kidney disease</td>\n",
       "      <td>585.9, N18.9</td>\n",
       "      <td>Other</td>\n",
       "    </tr>\n",
       "    <tr>\n",
       "      <th>11</th>\n",
       "      <td>3695171</td>\n",
       "      <td>141168</td>\n",
       "      <td>False</td>\n",
       "      <td>72</td>\n",
       "      <td>cardiovascular|arrhythmias|atrial fibrillation...</td>\n",
       "      <td>427.31, I48.0</td>\n",
       "      <td>Primary</td>\n",
       "    </tr>\n",
       "    <tr>\n",
       "      <th>12</th>\n",
       "      <td>4100620</td>\n",
       "      <td>141203</td>\n",
       "      <td>True</td>\n",
       "      <td>1141</td>\n",
       "      <td>infectious diseases|skin, bone and joint infec...</td>\n",
       "      <td>NaN</td>\n",
       "      <td>Other</td>\n",
       "    </tr>\n",
       "    <tr>\n",
       "      <th>13</th>\n",
       "      <td>3455713</td>\n",
       "      <td>141203</td>\n",
       "      <td>False</td>\n",
       "      <td>74</td>\n",
       "      <td>pulmonary|respiratory failure|acute respirator...</td>\n",
       "      <td>518.82</td>\n",
       "      <td>Other</td>\n",
       "    </tr>\n",
       "    <tr>\n",
       "      <th>14</th>\n",
       "      <td>3663517</td>\n",
       "      <td>141203</td>\n",
       "      <td>True</td>\n",
       "      <td>1141</td>\n",
       "      <td>endocrine|glucose metabolism|diabetes mellitus</td>\n",
       "      <td>NaN</td>\n",
       "      <td>Other</td>\n",
       "    </tr>\n",
       "    <tr>\n",
       "      <th>15</th>\n",
       "      <td>3384190</td>\n",
       "      <td>141203</td>\n",
       "      <td>True</td>\n",
       "      <td>1141</td>\n",
       "      <td>neurologic|altered mental status / pain|dementia</td>\n",
       "      <td>294.9, F03</td>\n",
       "      <td>Other</td>\n",
       "    </tr>\n",
       "    <tr>\n",
       "      <th>16</th>\n",
       "      <td>4167821</td>\n",
       "      <td>141203</td>\n",
       "      <td>True</td>\n",
       "      <td>1141</td>\n",
       "      <td>infectious diseases|skin, bone and joint infec...</td>\n",
       "      <td>NaN</td>\n",
       "      <td>Other</td>\n",
       "    </tr>\n",
       "    <tr>\n",
       "      <th>17</th>\n",
       "      <td>3601675</td>\n",
       "      <td>141203</td>\n",
       "      <td>False</td>\n",
       "      <td>74</td>\n",
       "      <td>neurologic|seizures|seizures</td>\n",
       "      <td>345.90, R56.9</td>\n",
       "      <td>Other</td>\n",
       "    </tr>\n",
       "    <tr>\n",
       "      <th>18</th>\n",
       "      <td>3722929</td>\n",
       "      <td>141203</td>\n",
       "      <td>True</td>\n",
       "      <td>1141</td>\n",
       "      <td>neurologic|seizures|seizures</td>\n",
       "      <td>345.90, R56.9</td>\n",
       "      <td>Other</td>\n",
       "    </tr>\n",
       "    <tr>\n",
       "      <th>19</th>\n",
       "      <td>3712299</td>\n",
       "      <td>141203</td>\n",
       "      <td>False</td>\n",
       "      <td>74</td>\n",
       "      <td>neurologic|altered mental status / pain|dementia</td>\n",
       "      <td>294.9, F03</td>\n",
       "      <td>Other</td>\n",
       "    </tr>\n",
       "  </tbody>\n",
       "</table>\n",
       "</div>"
      ],
      "text/plain": [
       "    diagnosisid  patientunitstayid  activeupondischarge  diagnosisoffset  \\\n",
       "0       4222318             141168                False               72   \n",
       "1       3370568             141168                 True              118   \n",
       "2       4160941             141168                False               72   \n",
       "3       4103261             141168                 True              118   \n",
       "4       3545241             141168                 True              118   \n",
       "5       3820204             141168                 True              118   \n",
       "6       3656305             141168                 True              118   \n",
       "7       3955157             141168                 True              118   \n",
       "8       3827059             141168                False               72   \n",
       "9       3743877             141168                False               72   \n",
       "10      3973447             141168                False               72   \n",
       "11      3695171             141168                False               72   \n",
       "12      4100620             141203                 True             1141   \n",
       "13      3455713             141203                False               74   \n",
       "14      3663517             141203                 True             1141   \n",
       "15      3384190             141203                 True             1141   \n",
       "16      4167821             141203                 True             1141   \n",
       "17      3601675             141203                False               74   \n",
       "18      3722929             141203                 True             1141   \n",
       "19      3712299             141203                False               74   \n",
       "\n",
       "                                      diagnosisstring        icd9code  \\\n",
       "0   cardiovascular|chest pain / ASHD|coronary arte...  414.00, I25.10   \n",
       "1   cardiovascular|ventricular disorders|cardiomyo...             NaN   \n",
       "2             pulmonary|disorders of the airways|COPD   491.20, J44.9   \n",
       "3             pulmonary|disorders of the airways|COPD   491.20, J44.9   \n",
       "4   cardiovascular|ventricular disorders|congestiv...    428.0, I50.9   \n",
       "5   cardiovascular|arrhythmias|atrial fibrillation...   427.31, I48.0   \n",
       "6     renal|disorder of kidney|chronic kidney disease    585.9, N18.9   \n",
       "7   cardiovascular|chest pain / ASHD|coronary arte...  414.00, I25.10   \n",
       "8   cardiovascular|ventricular disorders|congestiv...    428.0, I50.9   \n",
       "9   cardiovascular|ventricular disorders|cardiomyo...             NaN   \n",
       "10    renal|disorder of kidney|chronic kidney disease    585.9, N18.9   \n",
       "11  cardiovascular|arrhythmias|atrial fibrillation...   427.31, I48.0   \n",
       "12  infectious diseases|skin, bone and joint infec...             NaN   \n",
       "13  pulmonary|respiratory failure|acute respirator...          518.82   \n",
       "14     endocrine|glucose metabolism|diabetes mellitus             NaN   \n",
       "15   neurologic|altered mental status / pain|dementia      294.9, F03   \n",
       "16  infectious diseases|skin, bone and joint infec...             NaN   \n",
       "17                       neurologic|seizures|seizures   345.90, R56.9   \n",
       "18                       neurologic|seizures|seizures   345.90, R56.9   \n",
       "19   neurologic|altered mental status / pain|dementia      294.9, F03   \n",
       "\n",
       "   diagnosispriority  \n",
       "0              Other  \n",
       "1              Other  \n",
       "2              Other  \n",
       "3              Other  \n",
       "4              Other  \n",
       "5            Primary  \n",
       "6              Other  \n",
       "7              Other  \n",
       "8              Other  \n",
       "9              Other  \n",
       "10             Other  \n",
       "11           Primary  \n",
       "12             Other  \n",
       "13             Other  \n",
       "14             Other  \n",
       "15             Other  \n",
       "16             Other  \n",
       "17             Other  \n",
       "18             Other  \n",
       "19             Other  "
      ]
     },
     "execution_count": 13,
     "metadata": {},
     "output_type": "execute_result"
    }
   ],
   "source": [
    "dxs.head(20)"
   ]
  },
  {
   "cell_type": "code",
   "execution_count": 14,
   "metadata": {},
   "outputs": [],
   "source": [
    "pts = pd.read_csv('physionet.org/files/eicu-crd/2.0/patient.csv')"
   ]
  },
  {
   "cell_type": "code",
   "execution_count": 287,
   "metadata": {},
   "outputs": [
    {
     "data": {
      "text/html": [
       "<div>\n",
       "<style scoped>\n",
       "    .dataframe tbody tr th:only-of-type {\n",
       "        vertical-align: middle;\n",
       "    }\n",
       "\n",
       "    .dataframe tbody tr th {\n",
       "        vertical-align: top;\n",
       "    }\n",
       "\n",
       "    .dataframe thead th {\n",
       "        text-align: right;\n",
       "    }\n",
       "</style>\n",
       "<table border=\"1\" class=\"dataframe\">\n",
       "  <thead>\n",
       "    <tr style=\"text-align: right;\">\n",
       "      <th></th>\n",
       "      <th>patientunitstayid</th>\n",
       "      <th>patienthealthsystemstayid</th>\n",
       "      <th>gender</th>\n",
       "      <th>age</th>\n",
       "      <th>ethnicity</th>\n",
       "      <th>hospitalid</th>\n",
       "      <th>wardid</th>\n",
       "      <th>apacheadmissiondx</th>\n",
       "      <th>admissionheight</th>\n",
       "      <th>hospitaladmittime24</th>\n",
       "      <th>...</th>\n",
       "      <th>unitadmitsource</th>\n",
       "      <th>unitvisitnumber</th>\n",
       "      <th>unitstaytype</th>\n",
       "      <th>admissionweight</th>\n",
       "      <th>dischargeweight</th>\n",
       "      <th>unitdischargetime24</th>\n",
       "      <th>unitdischargeoffset</th>\n",
       "      <th>unitdischargelocation</th>\n",
       "      <th>unitdischargestatus</th>\n",
       "      <th>uniquepid</th>\n",
       "    </tr>\n",
       "  </thead>\n",
       "  <tbody>\n",
       "    <tr>\n",
       "      <th>0</th>\n",
       "      <td>141168</td>\n",
       "      <td>128919</td>\n",
       "      <td>Female</td>\n",
       "      <td>70</td>\n",
       "      <td>Caucasian</td>\n",
       "      <td>59</td>\n",
       "      <td>91</td>\n",
       "      <td>Rhythm disturbance (atrial, supraventricular)</td>\n",
       "      <td>152.4</td>\n",
       "      <td>15:54:00</td>\n",
       "      <td>...</td>\n",
       "      <td>Direct Admit</td>\n",
       "      <td>1</td>\n",
       "      <td>admit</td>\n",
       "      <td>84.3</td>\n",
       "      <td>85.8</td>\n",
       "      <td>03:50:00</td>\n",
       "      <td>3596</td>\n",
       "      <td>Death</td>\n",
       "      <td>Expired</td>\n",
       "      <td>002-34851</td>\n",
       "    </tr>\n",
       "    <tr>\n",
       "      <th>1</th>\n",
       "      <td>141178</td>\n",
       "      <td>128927</td>\n",
       "      <td>Female</td>\n",
       "      <td>52</td>\n",
       "      <td>Caucasian</td>\n",
       "      <td>60</td>\n",
       "      <td>83</td>\n",
       "      <td>NaN</td>\n",
       "      <td>162.6</td>\n",
       "      <td>08:56:00</td>\n",
       "      <td>...</td>\n",
       "      <td>Emergency Department</td>\n",
       "      <td>1</td>\n",
       "      <td>admit</td>\n",
       "      <td>54.4</td>\n",
       "      <td>54.4</td>\n",
       "      <td>09:18:00</td>\n",
       "      <td>8</td>\n",
       "      <td>Step-Down Unit (SDU)</td>\n",
       "      <td>Alive</td>\n",
       "      <td>002-33870</td>\n",
       "    </tr>\n",
       "    <tr>\n",
       "      <th>2</th>\n",
       "      <td>141179</td>\n",
       "      <td>128927</td>\n",
       "      <td>Female</td>\n",
       "      <td>52</td>\n",
       "      <td>Caucasian</td>\n",
       "      <td>60</td>\n",
       "      <td>83</td>\n",
       "      <td>NaN</td>\n",
       "      <td>162.6</td>\n",
       "      <td>08:56:00</td>\n",
       "      <td>...</td>\n",
       "      <td>ICU to SDU</td>\n",
       "      <td>2</td>\n",
       "      <td>stepdown/other</td>\n",
       "      <td>NaN</td>\n",
       "      <td>60.4</td>\n",
       "      <td>19:20:00</td>\n",
       "      <td>2042</td>\n",
       "      <td>Home</td>\n",
       "      <td>Alive</td>\n",
       "      <td>002-33870</td>\n",
       "    </tr>\n",
       "    <tr>\n",
       "      <th>3</th>\n",
       "      <td>141194</td>\n",
       "      <td>128941</td>\n",
       "      <td>Male</td>\n",
       "      <td>68</td>\n",
       "      <td>Caucasian</td>\n",
       "      <td>73</td>\n",
       "      <td>92</td>\n",
       "      <td>Sepsis, renal/UTI (including bladder)</td>\n",
       "      <td>180.3</td>\n",
       "      <td>18:18:40</td>\n",
       "      <td>...</td>\n",
       "      <td>Floor</td>\n",
       "      <td>1</td>\n",
       "      <td>admit</td>\n",
       "      <td>73.9</td>\n",
       "      <td>76.7</td>\n",
       "      <td>15:31:00</td>\n",
       "      <td>4813</td>\n",
       "      <td>Floor</td>\n",
       "      <td>Alive</td>\n",
       "      <td>002-5276</td>\n",
       "    </tr>\n",
       "    <tr>\n",
       "      <th>4</th>\n",
       "      <td>141196</td>\n",
       "      <td>128943</td>\n",
       "      <td>Male</td>\n",
       "      <td>71</td>\n",
       "      <td>Caucasian</td>\n",
       "      <td>67</td>\n",
       "      <td>109</td>\n",
       "      <td>NaN</td>\n",
       "      <td>162.6</td>\n",
       "      <td>20:21:00</td>\n",
       "      <td>...</td>\n",
       "      <td>ICU to SDU</td>\n",
       "      <td>2</td>\n",
       "      <td>stepdown/other</td>\n",
       "      <td>NaN</td>\n",
       "      <td>63.2</td>\n",
       "      <td>22:23:00</td>\n",
       "      <td>1463</td>\n",
       "      <td>Floor</td>\n",
       "      <td>Alive</td>\n",
       "      <td>002-37665</td>\n",
       "    </tr>\n",
       "    <tr>\n",
       "      <th>...</th>\n",
       "      <td>...</td>\n",
       "      <td>...</td>\n",
       "      <td>...</td>\n",
       "      <td>...</td>\n",
       "      <td>...</td>\n",
       "      <td>...</td>\n",
       "      <td>...</td>\n",
       "      <td>...</td>\n",
       "      <td>...</td>\n",
       "      <td>...</td>\n",
       "      <td>...</td>\n",
       "      <td>...</td>\n",
       "      <td>...</td>\n",
       "      <td>...</td>\n",
       "      <td>...</td>\n",
       "      <td>...</td>\n",
       "      <td>...</td>\n",
       "      <td>...</td>\n",
       "      <td>...</td>\n",
       "      <td>...</td>\n",
       "      <td>...</td>\n",
       "    </tr>\n",
       "    <tr>\n",
       "      <th>95</th>\n",
       "      <td>141834</td>\n",
       "      <td>129446</td>\n",
       "      <td>Male</td>\n",
       "      <td>75</td>\n",
       "      <td>Caucasian</td>\n",
       "      <td>68</td>\n",
       "      <td>103</td>\n",
       "      <td>NaN</td>\n",
       "      <td>177.8</td>\n",
       "      <td>07:57:00</td>\n",
       "      <td>...</td>\n",
       "      <td>ICU to SDU</td>\n",
       "      <td>2</td>\n",
       "      <td>stepdown/other</td>\n",
       "      <td>NaN</td>\n",
       "      <td>80.1</td>\n",
       "      <td>15:47:00</td>\n",
       "      <td>451</td>\n",
       "      <td>Other ICU</td>\n",
       "      <td>Alive</td>\n",
       "      <td>002-29690</td>\n",
       "    </tr>\n",
       "    <tr>\n",
       "      <th>96</th>\n",
       "      <td>141835</td>\n",
       "      <td>129446</td>\n",
       "      <td>Male</td>\n",
       "      <td>75</td>\n",
       "      <td>Caucasian</td>\n",
       "      <td>68</td>\n",
       "      <td>103</td>\n",
       "      <td>NaN</td>\n",
       "      <td>177.8</td>\n",
       "      <td>07:57:00</td>\n",
       "      <td>...</td>\n",
       "      <td>ICU to SDU</td>\n",
       "      <td>4</td>\n",
       "      <td>stepdown/other</td>\n",
       "      <td>NaN</td>\n",
       "      <td>86.0</td>\n",
       "      <td>23:04:00</td>\n",
       "      <td>1314</td>\n",
       "      <td>Floor</td>\n",
       "      <td>Alive</td>\n",
       "      <td>002-29690</td>\n",
       "    </tr>\n",
       "    <tr>\n",
       "      <th>97</th>\n",
       "      <td>141836</td>\n",
       "      <td>129446</td>\n",
       "      <td>Male</td>\n",
       "      <td>75</td>\n",
       "      <td>Caucasian</td>\n",
       "      <td>68</td>\n",
       "      <td>103</td>\n",
       "      <td>Bleeding, lower GI</td>\n",
       "      <td>177.8</td>\n",
       "      <td>07:57:00</td>\n",
       "      <td>...</td>\n",
       "      <td>Step-Down Unit (SDU)</td>\n",
       "      <td>3</td>\n",
       "      <td>readmit</td>\n",
       "      <td>NaN</td>\n",
       "      <td>NaN</td>\n",
       "      <td>01:10:00</td>\n",
       "      <td>563</td>\n",
       "      <td>Step-Down Unit (SDU)</td>\n",
       "      <td>Alive</td>\n",
       "      <td>002-29690</td>\n",
       "    </tr>\n",
       "    <tr>\n",
       "      <th>98</th>\n",
       "      <td>141837</td>\n",
       "      <td>129446</td>\n",
       "      <td>Male</td>\n",
       "      <td>75</td>\n",
       "      <td>Caucasian</td>\n",
       "      <td>68</td>\n",
       "      <td>103</td>\n",
       "      <td>Bleeding, GI-location unknown</td>\n",
       "      <td>177.8</td>\n",
       "      <td>07:57:00</td>\n",
       "      <td>...</td>\n",
       "      <td>Emergency Department</td>\n",
       "      <td>1</td>\n",
       "      <td>admit</td>\n",
       "      <td>78.5</td>\n",
       "      <td>78.5</td>\n",
       "      <td>08:16:00</td>\n",
       "      <td>11</td>\n",
       "      <td>Step-Down Unit (SDU)</td>\n",
       "      <td>Alive</td>\n",
       "      <td>002-29690</td>\n",
       "    </tr>\n",
       "    <tr>\n",
       "      <th>99</th>\n",
       "      <td>141844</td>\n",
       "      <td>129452</td>\n",
       "      <td>Female</td>\n",
       "      <td>53</td>\n",
       "      <td>Caucasian</td>\n",
       "      <td>73</td>\n",
       "      <td>92</td>\n",
       "      <td>CABG alone, coronary artery bypass grafting</td>\n",
       "      <td>162.6</td>\n",
       "      <td>23:20:00</td>\n",
       "      <td>...</td>\n",
       "      <td>Operating Room</td>\n",
       "      <td>1</td>\n",
       "      <td>admit</td>\n",
       "      <td>NaN</td>\n",
       "      <td>142.2</td>\n",
       "      <td>22:20:00</td>\n",
       "      <td>4110</td>\n",
       "      <td>Floor</td>\n",
       "      <td>Alive</td>\n",
       "      <td>002-9997</td>\n",
       "    </tr>\n",
       "  </tbody>\n",
       "</table>\n",
       "<p>100 rows × 29 columns</p>\n",
       "</div>"
      ],
      "text/plain": [
       "    patientunitstayid  patienthealthsystemstayid  gender age  ethnicity  \\\n",
       "0              141168                     128919  Female  70  Caucasian   \n",
       "1              141178                     128927  Female  52  Caucasian   \n",
       "2              141179                     128927  Female  52  Caucasian   \n",
       "3              141194                     128941    Male  68  Caucasian   \n",
       "4              141196                     128943    Male  71  Caucasian   \n",
       "..                ...                        ...     ...  ..        ...   \n",
       "95             141834                     129446    Male  75  Caucasian   \n",
       "96             141835                     129446    Male  75  Caucasian   \n",
       "97             141836                     129446    Male  75  Caucasian   \n",
       "98             141837                     129446    Male  75  Caucasian   \n",
       "99             141844                     129452  Female  53  Caucasian   \n",
       "\n",
       "    hospitalid  wardid                              apacheadmissiondx  \\\n",
       "0           59      91  Rhythm disturbance (atrial, supraventricular)   \n",
       "1           60      83                                            NaN   \n",
       "2           60      83                                            NaN   \n",
       "3           73      92          Sepsis, renal/UTI (including bladder)   \n",
       "4           67     109                                            NaN   \n",
       "..         ...     ...                                            ...   \n",
       "95          68     103                                            NaN   \n",
       "96          68     103                                            NaN   \n",
       "97          68     103                             Bleeding, lower GI   \n",
       "98          68     103                  Bleeding, GI-location unknown   \n",
       "99          73      92    CABG alone, coronary artery bypass grafting   \n",
       "\n",
       "    admissionheight hospitaladmittime24  ...       unitadmitsource  \\\n",
       "0             152.4            15:54:00  ...          Direct Admit   \n",
       "1             162.6            08:56:00  ...  Emergency Department   \n",
       "2             162.6            08:56:00  ...            ICU to SDU   \n",
       "3             180.3            18:18:40  ...                 Floor   \n",
       "4             162.6            20:21:00  ...            ICU to SDU   \n",
       "..              ...                 ...  ...                   ...   \n",
       "95            177.8            07:57:00  ...            ICU to SDU   \n",
       "96            177.8            07:57:00  ...            ICU to SDU   \n",
       "97            177.8            07:57:00  ...  Step-Down Unit (SDU)   \n",
       "98            177.8            07:57:00  ...  Emergency Department   \n",
       "99            162.6            23:20:00  ...        Operating Room   \n",
       "\n",
       "   unitvisitnumber    unitstaytype admissionweight  dischargeweight  \\\n",
       "0                1           admit            84.3             85.8   \n",
       "1                1           admit            54.4             54.4   \n",
       "2                2  stepdown/other             NaN             60.4   \n",
       "3                1           admit            73.9             76.7   \n",
       "4                2  stepdown/other             NaN             63.2   \n",
       "..             ...             ...             ...              ...   \n",
       "95               2  stepdown/other             NaN             80.1   \n",
       "96               4  stepdown/other             NaN             86.0   \n",
       "97               3         readmit             NaN              NaN   \n",
       "98               1           admit            78.5             78.5   \n",
       "99               1           admit             NaN            142.2   \n",
       "\n",
       "   unitdischargetime24 unitdischargeoffset unitdischargelocation  \\\n",
       "0             03:50:00                3596                 Death   \n",
       "1             09:18:00                   8  Step-Down Unit (SDU)   \n",
       "2             19:20:00                2042                  Home   \n",
       "3             15:31:00                4813                 Floor   \n",
       "4             22:23:00                1463                 Floor   \n",
       "..                 ...                 ...                   ...   \n",
       "95            15:47:00                 451             Other ICU   \n",
       "96            23:04:00                1314                 Floor   \n",
       "97            01:10:00                 563  Step-Down Unit (SDU)   \n",
       "98            08:16:00                  11  Step-Down Unit (SDU)   \n",
       "99            22:20:00                4110                 Floor   \n",
       "\n",
       "   unitdischargestatus  uniquepid  \n",
       "0              Expired  002-34851  \n",
       "1                Alive  002-33870  \n",
       "2                Alive  002-33870  \n",
       "3                Alive   002-5276  \n",
       "4                Alive  002-37665  \n",
       "..                 ...        ...  \n",
       "95               Alive  002-29690  \n",
       "96               Alive  002-29690  \n",
       "97               Alive  002-29690  \n",
       "98               Alive  002-29690  \n",
       "99               Alive   002-9997  \n",
       "\n",
       "[100 rows x 29 columns]"
      ]
     },
     "execution_count": 287,
     "metadata": {},
     "output_type": "execute_result"
    }
   ],
   "source": [
    "pts.head(100)"
   ]
  },
  {
   "cell_type": "code",
   "execution_count": 18,
   "metadata": {},
   "outputs": [
    {
     "data": {
      "text/plain": [
       "(200859, 29)"
      ]
     },
     "execution_count": 18,
     "metadata": {},
     "output_type": "execute_result"
    }
   ],
   "source": [
    "pts.shape"
   ]
  },
  {
   "cell_type": "code",
   "execution_count": 23,
   "metadata": {},
   "outputs": [
    {
     "data": {
      "text/plain": [
       "(139367,)"
      ]
     },
     "execution_count": 23,
     "metadata": {},
     "output_type": "execute_result"
    }
   ],
   "source": [
    "np.unique(pts['uniquepid']).shape"
   ]
  },
  {
   "cell_type": "code",
   "execution_count": 70,
   "metadata": {},
   "outputs": [],
   "source": [
    "unipts = pts.drop_duplicates('uniquepid')"
   ]
  },
  {
   "cell_type": "code",
   "execution_count": 24,
   "metadata": {},
   "outputs": [],
   "source": [
    "txs = pd.read_csv('physionet.org/files/eicu-crd/2.0/treatment.csv')\n"
   ]
  },
  {
   "cell_type": "code",
   "execution_count": 26,
   "metadata": {},
   "outputs": [],
   "source": [
    "# Q1: of all the patients admitted to the emergency room, does race significantly correlate with transfer to the ICU?\n",
    "# Q2: for patients with diagnoses of trauma/sepsis, does race predict getting a CT?\n",
    "# Q3: for patients with diagnoses of trauma/sepsis, does race predict getting an MRI?\n",
    "# Q4: for patients with diagnoses of trauma/sepsis, does race predict getting any particular meds (ABx,IVF)?\n",
    "# Q5: for patients with diagnoses of trauma/sepsis, does race predict outcomes?\n",
    "# Q6: does race predict number and duration(s) of ICU stay?\n",
    "# Q7: does race predict illness severity (APACHE 2 Score)?"
   ]
  },
  {
   "cell_type": "code",
   "execution_count": 71,
   "metadata": {},
   "outputs": [
    {
     "data": {
      "text/plain": [
       "Index(['patientunitstayid', 'patienthealthsystemstayid', 'gender', 'age',\n",
       "       'ethnicity', 'hospitalid', 'wardid', 'apacheadmissiondx',\n",
       "       'admissionheight', 'hospitaladmittime24', 'hospitaladmitoffset',\n",
       "       'hospitaladmitsource', 'hospitaldischargeyear',\n",
       "       'hospitaldischargetime24', 'hospitaldischargeoffset',\n",
       "       'hospitaldischargelocation', 'hospitaldischargestatus', 'unittype',\n",
       "       'unitadmittime24', 'unitadmitsource', 'unitvisitnumber', 'unitstaytype',\n",
       "       'admissionweight', 'dischargeweight', 'unitdischargetime24',\n",
       "       'unitdischargeoffset', 'unitdischargelocation', 'unitdischargestatus',\n",
       "       'uniquepid'],\n",
       "      dtype='object')"
      ]
     },
     "execution_count": 71,
     "metadata": {},
     "output_type": "execute_result"
    }
   ],
   "source": [
    "unipts.keys()"
   ]
  },
  {
   "cell_type": "code",
   "execution_count": 41,
   "metadata": {},
   "outputs": [],
   "source": [
    "for i,p in enumerate(pts['ethnicity']):\n",
    "    if p == 0:\n",
    "        pts\n",
    "    pass\n",
    "    #if :\n",
    "    #    pts['ethnicity'][i] = 'Unknown'"
   ]
  },
  {
   "cell_type": "code",
   "execution_count": 45,
   "metadata": {},
   "outputs": [
    {
     "ename": "AttributeError",
     "evalue": "'str' object has no attribute 'dtype'",
     "traceback": [
      "\u001b[0;31m---------------------------------------------------------------------------\u001b[0m",
      "\u001b[0;31mAttributeError\u001b[0m                            Traceback (most recent call last)",
      "\u001b[0;32m<ipython-input-45-ba0dffdb149c>\u001b[0m in \u001b[0;36m<module>\u001b[0;34m()\u001b[0m\n\u001b[0;32m----> 1\u001b[0;31m \u001b[0mpts\u001b[0m\u001b[0;34m[\u001b[0m\u001b[0;34m'ethnicity'\u001b[0m\u001b[0;34m]\u001b[0m\u001b[0;34m[\u001b[0m\u001b[0;36m1\u001b[0m\u001b[0;34m]\u001b[0m\u001b[0;34m.\u001b[0m\u001b[0mdtype\u001b[0m\u001b[0;34m\u001b[0m\u001b[0m\n\u001b[0m",
      "\u001b[0;31mAttributeError\u001b[0m: 'str' object has no attribute 'dtype'"
     ],
     "output_type": "error"
    }
   ],
   "source": [
    "pts['ethnicity'][1].dtype"
   ]
  },
  {
   "cell_type": "code",
   "execution_count": 46,
   "metadata": {},
   "outputs": [
    {
     "data": {
      "text/plain": [
       "0                Caucasian\n",
       "1                Caucasian\n",
       "2                Caucasian\n",
       "3                Caucasian\n",
       "4                Caucasian\n",
       "                ...       \n",
       "200854           Caucasian\n",
       "200855           Caucasian\n",
       "200856    African American\n",
       "200857           Caucasian\n",
       "200858    African American\n",
       "Name: ethnicity, Length: 200859, dtype: object"
      ]
     },
     "execution_count": 46,
     "metadata": {},
     "output_type": "execute_result"
    }
   ],
   "source": [
    "pd.Series(unipts['ethnicity'], dtype=float)"
   ]
  },
  {
   "cell_type": "code",
   "execution_count": 72,
   "metadata": {},
   "outputs": [
    {
     "data": {
      "text/plain": [
       "array(['Caucasian', 'African American', '', 'Hispanic', 'Asian',\n",
       "       'Native American', 'Other/Unknown'], dtype=object)"
      ]
     },
     "execution_count": 72,
     "metadata": {},
     "output_type": "execute_result"
    }
   ],
   "source": [
    "unipts['ethnicity'].fillna('').unique()"
   ]
  },
  {
   "cell_type": "code",
   "execution_count": 77,
   "metadata": {},
   "outputs": [
    {
     "data": {
      "text/plain": [
       "<Figure size 432x288 with 0 Axes>"
      ]
     },
     "metadata": {},
     "output_type": "display_data"
    },
    {
     "data": {
      "image/png": "[encoded data removed]",
      "text/plain": [
       "<Figure size 432x288 with 1 Axes>"
      ]
     },
     "metadata": {},
     "output_type": "display_data"
    }
   ],
   "source": [
    "from collections import Counter\n",
    "a = unipts['ethnicity'].fillna('Other/Unknown')\n",
    "\n",
    "letter_counts = Counter(a)\n",
    "df = pd.DataFrame.from_dict(letter_counts, orient='index')\n",
    "plt.clf()\n",
    "df.plot(kind='bar')\n",
    "letter_counts\n",
    "plt.show()"
   ]
  },
  {
   "cell_type": "code",
   "execution_count": 78,
   "metadata": {},
   "outputs": [],
   "source": [
    "hosp = pd.read_csv('physionet.org/files/eicu-crd/2.0/hospital.csv')"
   ]
  },
  {
   "cell_type": "code",
   "execution_count": 82,
   "metadata": {},
   "outputs": [
    {
     "name": "stdout",
     "output_type": "stream",
     "text": [
      "Collecting scipy\n",
      "  Downloading https://files.pythonhosted.org/packages/dc/29/162476fd44203116e7980cfbd9352eef9db37c49445d1fec35509022f6aa/scipy-1.4.1-cp36-cp36m-manylinux1_x86_64.whl (26.1MB)\n",
      "\u001b[K    100% |████████████████████████████████| 26.1MB 42kB/s  eta 0:00:01\n",
      "\u001b[?25hRequirement already satisfied: numpy>=1.13.3 in /jet/lib/python3.6/site-packages/numpy-1.13.3-py3.6-linux-x86_64.egg (from scipy)\n",
      "Installing collected packages: scipy\n",
      "Successfully installed scipy-1.4.1\n",
      "\u001b[33mYou are using pip version 9.0.1, however version 19.3.1 is available.\n",
      "You should consider upgrading via the 'pip install --upgrade pip' command.\u001b[0m\n"
     ]
    }
   ],
   "source": [
    "!pip install scipy"
   ]
  },
  {
   "cell_type": "code",
   "execution_count": 95,
   "metadata": {},
   "outputs": [],
   "source": [
    "bpts =  pts[pts['ethnicity'] == 'African American']\n",
    "wpts = pts[pts['ethnicity'] == 'Caucasian']\n",
    "hpts = pts[pts['ethnicity'] == 'Hispanic']\n",
    "apts = pts[pts['ethnicity'] == 'Asian']\n",
    "npts = pts[pts['ethnicity'] == 'Native American']\n",
    "opts = pts[pts['ethnicity'] == 'Other/Unknown']\n"
   ]
  },
  {
   "cell_type": "code",
   "execution_count": 96,
   "metadata": {},
   "outputs": [],
   "source": [
    "import scipy as sp\n",
    "import scipy.stats as stat"
   ]
  },
  {
   "cell_type": "code",
   "execution_count": 97,
   "metadata": {},
   "outputs": [
    {
     "data": {
      "text/plain": [
       "12         69.9\n",
       "26          NaN\n",
       "58          NaN\n",
       "59         86.1\n",
       "73         78.4\n",
       "          ...  \n",
       "200841     64.9\n",
       "200852     55.4\n",
       "200853     58.4\n",
       "200856    102.0\n",
       "200858    100.8\n",
       "Name: admissionweight, Length: 21308, dtype: float64"
      ]
     },
     "execution_count": 97,
     "metadata": {},
     "output_type": "execute_result"
    }
   ],
   "source": [
    "bpts['admissionweight']"
   ]
  },
  {
   "cell_type": "code",
   "execution_count": 98,
   "metadata": {},
   "outputs": [
    {
     "data": {
      "text/plain": [
       "Ttest_indResult(statistic=14.189072387482424, pvalue=1.1402864783983051e-45)"
      ]
     },
     "execution_count": 98,
     "metadata": {},
     "output_type": "execute_result"
    }
   ],
   "source": [
    "stat.ttest_ind(bpts['admissionweight'].dropna(),wpts['admissionweight'].dropna())\n"
   ]
  },
  {
   "cell_type": "code",
   "execution_count": 99,
   "metadata": {},
   "outputs": [
    {
     "data": {
      "text/plain": [
       "F_onewayResult(statistic=408.74081210739229, pvalue=0.0)"
      ]
     },
     "execution_count": 99,
     "metadata": {},
     "output_type": "execute_result"
    }
   ],
   "source": [
    "stat.f_oneway(bpts['admissionweight'].dropna(),wpts['admissionweight'].dropna(),apts['admissionweight'].dropna(),npts['admissionweight'].dropna(),hpts['admissionweight'].dropna(),opts['admissionweight'].dropna())"
   ]
  },
  {
   "cell_type": "code",
   "execution_count": 100,
   "metadata": {},
   "outputs": [
    {
     "ename": "TypeError",
     "evalue": "bar() takes from 2 to 4 positional arguments but 6 were given",
     "traceback": [
      "\u001b[0;31m---------------------------------------------------------------------------\u001b[0m",
      "\u001b[0;31mTypeError\u001b[0m                                 Traceback (most recent call last)",
      "\u001b[0;32m<ipython-input-100-0da44576ce99>\u001b[0m in \u001b[0;36m<module>\u001b[0;34m()\u001b[0m\n\u001b[0;32m----> 1\u001b[0;31m \u001b[0mplt\u001b[0m\u001b[0;34m.\u001b[0m\u001b[0mbar\u001b[0m\u001b[0;34m(\u001b[0m\u001b[0mbpts\u001b[0m\u001b[0;34m[\u001b[0m\u001b[0;34m'admissionweight'\u001b[0m\u001b[0;34m]\u001b[0m\u001b[0;34m.\u001b[0m\u001b[0mdropna\u001b[0m\u001b[0;34m(\u001b[0m\u001b[0;34m)\u001b[0m\u001b[0;34m,\u001b[0m\u001b[0mwpts\u001b[0m\u001b[0;34m[\u001b[0m\u001b[0;34m'admissionweight'\u001b[0m\u001b[0;34m]\u001b[0m\u001b[0;34m.\u001b[0m\u001b[0mdropna\u001b[0m\u001b[0;34m(\u001b[0m\u001b[0;34m)\u001b[0m\u001b[0;34m,\u001b[0m\u001b[0mapts\u001b[0m\u001b[0;34m[\u001b[0m\u001b[0;34m'admissionweight'\u001b[0m\u001b[0;34m]\u001b[0m\u001b[0;34m.\u001b[0m\u001b[0mdropna\u001b[0m\u001b[0;34m(\u001b[0m\u001b[0;34m)\u001b[0m\u001b[0;34m,\u001b[0m\u001b[0mnpts\u001b[0m\u001b[0;34m[\u001b[0m\u001b[0;34m'admissionweight'\u001b[0m\u001b[0;34m]\u001b[0m\u001b[0;34m.\u001b[0m\u001b[0mdropna\u001b[0m\u001b[0;34m(\u001b[0m\u001b[0;34m)\u001b[0m\u001b[0;34m,\u001b[0m\u001b[0mhpts\u001b[0m\u001b[0;34m[\u001b[0m\u001b[0;34m'admissionweight'\u001b[0m\u001b[0;34m]\u001b[0m\u001b[0;34m.\u001b[0m\u001b[0mdropna\u001b[0m\u001b[0;34m(\u001b[0m\u001b[0;34m)\u001b[0m\u001b[0;34m,\u001b[0m\u001b[0mopts\u001b[0m\u001b[0;34m[\u001b[0m\u001b[0;34m'admissionweight'\u001b[0m\u001b[0;34m]\u001b[0m\u001b[0;34m.\u001b[0m\u001b[0mdropna\u001b[0m\u001b[0;34m(\u001b[0m\u001b[0;34m)\u001b[0m\u001b[0;34m)\u001b[0m\u001b[0;34m\u001b[0m\u001b[0m\n\u001b[0m",
      "\u001b[0;31mTypeError\u001b[0m: bar() takes from 2 to 4 positional arguments but 6 were given"
     ],
     "output_type": "error"
    }
   ],
   "source": [
    "plt.bar(bpts['admissionweight'].dropna(),wpts['admissionweight'].dropna(),apts['admissionweight'].dropna(),npts['admissionweight'].dropna(),hpts['admissionweight'].dropna(),opts['admissionweight'].dropna())"
   ]
  },
  {
   "cell_type": "code",
   "execution_count": 107,
   "metadata": {},
   "outputs": [
    {
     "data": {
      "image/png": "[encoded data removed]",
      "text/plain": [
       "<Figure size 432x288 with 1 Axes>"
      ]
     },
     "metadata": {},
     "output_type": "display_data"
    }
   ],
   "source": [
    "y = [np.mean(bpts['admissionweight'].dropna()),np.mean(wpts['admissionweight'].dropna()),np.mean(apts['admissionweight'].dropna()),np.mean(npts['admissionweight'].dropna()),np.mean(hpts['admissionweight'].dropna()),np.mean(opts['admissionweight'].dropna())]\n",
    "x = ['Black', 'White','Asian','Native','Hispanic','Unknown']\n",
    "e = [np.std(bpts['admissionweight'].dropna()),np.std(wpts['admissionweight'].dropna()),np.std(apts['admissionweight'].dropna()),np.std(npts['admissionweight'].dropna()),np.std(hpts['admissionweight'].dropna()),np.std(opts['admissionweight'].dropna())]\n",
    "plt.errorbar(x, y, e, linestyle='None', marker='^')\n",
    "plt.show()"
   ]
  },
  {
   "cell_type": "code",
   "execution_count": 108,
   "metadata": {},
   "outputs": [
    {
     "data": {
      "image/png": "[encoded data removed]",
      "text/plain": [
       "<Figure size 432x288 with 1 Axes>"
      ]
     },
     "metadata": {},
     "output_type": "display_data"
    }
   ],
   "source": [
    "y = [np.mean(bpts['admissionheight'].dropna()),np.mean(wpts['admissionheight'].dropna()),np.mean(apts['admissionheight'].dropna()),np.mean(npts['admissionheight'].dropna()),np.mean(hpts['admissionheight'].dropna()),np.mean(opts['admissionheight'].dropna())]\n",
    "x = ['Black', 'White','Asian','Native','Hispanic','Unknown']\n",
    "e = [np.std(bpts['admissionheight'].dropna()),np.std(wpts['admissionheight'].dropna()),np.std(apts['admissionheight'].dropna()),np.std(npts['admissionheight'].dropna()),np.std(hpts['admissionheight'].dropna()),np.std(opts['admissionheight'].dropna())]\n",
    "plt.errorbar(x, y, e, linestyle='None', marker='^')\n",
    "plt.show()"
   ]
  },
  {
   "cell_type": "code",
   "execution_count": 130,
   "metadata": {},
   "outputs": [
    {
     "data": {
      "text/plain": [
       "11008"
      ]
     },
     "execution_count": 130,
     "metadata": {},
     "output_type": "execute_result"
    }
   ],
   "source": [
    "bt = np.sum(bpts['unitadmitsource'] == 'Emergency Department')\n",
    "bt"
   ]
  },
  {
   "cell_type": "code",
   "execution_count": 131,
   "metadata": {},
   "outputs": [
    {
     "data": {
      "text/plain": [
       "67383"
      ]
     },
     "execution_count": 131,
     "metadata": {},
     "output_type": "execute_result"
    }
   ],
   "source": [
    "wt = np.sum(wpts['unitadmitsource'] == 'Emergency Department')\n",
    "wt"
   ]
  },
  {
   "cell_type": "code",
   "execution_count": 132,
   "metadata": {},
   "outputs": [
    {
     "data": {
      "text/plain": [
       "3682"
      ]
     },
     "execution_count": 132,
     "metadata": {},
     "output_type": "execute_result"
    }
   ],
   "source": [
    "ht = np.sum(hpts['unitadmitsource'] == 'Emergency Department')\n",
    "ht"
   ]
  },
  {
   "cell_type": "code",
   "execution_count": 133,
   "metadata": {},
   "outputs": [
    {
     "data": {
      "text/plain": [
       "656"
      ]
     },
     "execution_count": 133,
     "metadata": {},
     "output_type": "execute_result"
    }
   ],
   "source": [
    "nt = np.sum(npts['unitadmitsource'] == 'Emergency Department')\n",
    "nt"
   ]
  },
  {
   "cell_type": "code",
   "execution_count": 134,
   "metadata": {},
   "outputs": [
    {
     "data": {
      "text/plain": [
       "1531"
      ]
     },
     "execution_count": 134,
     "metadata": {},
     "output_type": "execute_result"
    }
   ],
   "source": [
    "at = np.sum(apts['unitadmitsource'] == 'Emergency Department')\n",
    "at"
   ]
  },
  {
   "cell_type": "code",
   "execution_count": 152,
   "metadata": {},
   "outputs": [
    {
     "data": {
      "text/plain": [
       "5334"
      ]
     },
     "execution_count": 152,
     "metadata": {},
     "output_type": "execute_result"
    }
   ],
   "source": [
    "ot = np.sum(opts['unitadmitsource'] == 'Emergency Department') + 1071\n",
    "ot"
   ]
  },
  {
   "cell_type": "code",
   "execution_count": 212,
   "metadata": {},
   "outputs": [
    {
     "name": "stdout",
     "output_type": "stream",
     "text": [
      "11008\n"
     ]
    }
   ],
   "source": [
    "tot = bt + wt + ht + nt + at + ot\n",
    "tot\n",
    "print(bt)"
   ]
  },
  {
   "cell_type": "code",
   "execution_count": 147,
   "metadata": {},
   "outputs": [],
   "source": [
    "edpts = pts[pts['unitadmitsource'] == 'Emergency Department']"
   ]
  },
  {
   "cell_type": "code",
   "execution_count": 143,
   "metadata": {},
   "outputs": [],
   "source": [
    "edunipts = unipts[unipts['unitadmitsource'] == 'Emergency Department']"
   ]
  },
  {
   "cell_type": "code",
   "execution_count": 151,
   "metadata": {},
   "outputs": [
    {
     "data": {
      "text/plain": [
       "89594"
      ]
     },
     "execution_count": 151,
     "metadata": {},
     "output_type": "execute_result"
    }
   ],
   "source": [
    "len(edpts)"
   ]
  },
  {
   "cell_type": "code",
   "execution_count": 145,
   "metadata": {},
   "outputs": [
    {
     "data": {
      "text/plain": [
       "67361"
      ]
     },
     "execution_count": 145,
     "metadata": {},
     "output_type": "execute_result"
    }
   ],
   "source": [
    "len(edunipts)"
   ]
  },
  {
   "cell_type": "code",
   "execution_count": 153,
   "metadata": {},
   "outputs": [
    {
     "data": {
      "text/plain": [
       "0       56\n",
       "1       58\n",
       "2       59\n",
       "3       60\n",
       "4       61\n",
       "      ... \n",
       "203    447\n",
       "204    449\n",
       "205    452\n",
       "206    458\n",
       "207    459\n",
       "Name: hospitalid, Length: 208, dtype: int64"
      ]
     },
     "execution_count": 153,
     "metadata": {},
     "output_type": "execute_result"
    }
   ],
   "source": [
    "hosp['hospitalid']"
   ]
  },
  {
   "cell_type": "code",
   "execution_count": 159,
   "metadata": {},
   "outputs": [
    {
     "data": {
      "text/plain": [
       "656"
      ]
     },
     "execution_count": 159,
     "metadata": {},
     "output_type": "execute_result"
    }
   ],
   "source": [
    "nt"
   ]
  },
  {
   "cell_type": "code",
   "execution_count": 161,
   "metadata": {},
   "outputs": [
    {
     "data": {
      "text/plain": [
       "0.060255526812240889"
      ]
     },
     "execution_count": 161,
     "metadata": {},
     "output_type": "execute_result"
    }
   ],
   "source": [
    "ot/tot"
   ]
  },
  {
   "cell_type": "code",
   "execution_count": 169,
   "metadata": {},
   "outputs": [
    {
     "data": {
      "text/plain": [
       "14650"
      ]
     },
     "execution_count": 169,
     "metadata": {},
     "output_type": "execute_result"
    }
   ],
   "source": [
    "np.sum(edpts['apacheadmissiondx'].str.contains('Sepsis'))"
   ]
  },
  {
   "cell_type": "code",
   "execution_count": 171,
   "metadata": {},
   "outputs": [
    {
     "data": {
      "text/plain": [
       "4959"
      ]
     },
     "execution_count": 171,
     "metadata": {},
     "output_type": "execute_result"
    }
   ],
   "source": [
    "np.sum(edpts['apacheadmissiondx'].str.contains('trauma'))"
   ]
  },
  {
   "cell_type": "code",
   "execution_count": 215,
   "metadata": {},
   "outputs": [
    {
     "name": "stdout",
     "output_type": "stream",
     "text": [
      "0.0536085005692\n",
      "4803\n",
      "89594\n"
     ]
    }
   ],
   "source": [
    "overallmortrate = np.sum(edpts['unitdischargestatus']=='Expired')/tot\n",
    "print(overallmortrate)\n",
    "print(np.sum(edpts['unitdischargestatus']=='Expired'))\n",
    "print(tot)"
   ]
  },
  {
   "cell_type": "code",
   "execution_count": 218,
   "metadata": {},
   "outputs": [
    {
     "data": {
      "text/plain": [
       "155285"
      ]
     },
     "execution_count": 218,
     "metadata": {},
     "output_type": "execute_result"
    }
   ],
   "source": [
    "len(wpts['unitdischargestatus']=='Expired')"
   ]
  },
  {
   "cell_type": "code",
   "execution_count": 219,
   "metadata": {},
   "outputs": [
    {
     "name": "stdout",
     "output_type": "stream",
     "text": [
      "[519, 3685, 94, 179, 30, 238]\n",
      "[  590.12237427  3612.30159386    82.07461437   197.3864991     35.16717637\n",
      "   285.94774204]\n"
     ]
    }
   ],
   "source": [
    "\n",
    "\n",
    "\n",
    "\n",
    "bepts = bpts[bpts['unitadmitsource'] == 'Emergency Department']\n",
    "wepts = wpts[wpts['unitadmitsource'] == 'Emergency Department']\n",
    "aepts = apts[apts['unitadmitsource'] == 'Emergency Department']\n",
    "hepts = hpts[hpts['unitadmitsource'] == 'Emergency Department']\n",
    "nepts = npts[npts['unitadmitsource'] == 'Emergency Department']\n",
    "oepts = opts[opts['unitadmitsource'] == 'Emergency Department']\n",
    "\n",
    "btm = np.sum(bepts['unitdischargestatus']=='Expired')\n",
    "wtm = np.sum(wepts['unitdischargestatus']=='Expired')\n",
    "atm = np.sum(aepts['unitdischargestatus']=='Expired')\n",
    "htm = np.sum(hepts['unitdischargestatus']=='Expired')\n",
    "ntm = np.sum(nepts['unitdischargestatus']=='Expired')\n",
    "otm = np.sum(oepts['unitdischargestatus']=='Expired')\n",
    "expmorts = np.multiply(overallmortrate,[bt, wt, at, ht, nt, ot])\n",
    "obsmorts = [btm, wtm, atm, htm, ntm, otm]\n",
    "print(obsmorts)\n",
    "print(expmorts)"
   ]
  },
  {
   "cell_type": "code",
   "execution_count": 220,
   "metadata": {},
   "outputs": [
    {
     "data": {
      "text/plain": [
       "Power_divergenceResult(statistic=22.279392189267305, pvalue=0.00046328041898529123)"
      ]
     },
     "execution_count": 220,
     "metadata": {},
     "output_type": "execute_result"
    }
   ],
   "source": [
    "stat.chisquare(obsmorts,expmorts)"
   ]
  },
  {
   "cell_type": "code",
   "execution_count": 277,
   "metadata": {},
   "outputs": [
    {
     "name": "stdout",
     "output_type": "stream",
     "text": [
      "0.0890102389078\n",
      "[135, 993, 34, 57, 9, 58]\n",
      "[ 135.56259386  999.0509215    26.43604096   57.58962457   10.41419795\n",
      "   64.17638225]\n"
     ]
    },
    {
     "data": {
      "text/plain": [
       "Power_divergenceResult(statistic=2.9957034517967913, pvalue=0.70064827875768054)"
      ]
     },
     "execution_count": 277,
     "metadata": {},
     "output_type": "execute_result"
    }
   ],
   "source": [
    "bsepts = bepts[bepts['apacheadmissiondx'].str.contains('Sepsis').fillna(False)]\n",
    "wsepts = wepts[wepts['apacheadmissiondx'].str.contains('Sepsis').fillna(False)]\n",
    "asepts = aepts[aepts['apacheadmissiondx'].str.contains('Sepsis').fillna(False)]\n",
    "hsepts = hepts[hepts['apacheadmissiondx'].str.contains('Sepsis').fillna(False)]\n",
    "nsepts = nepts[nepts['apacheadmissiondx'].str.contains('Sepsis').fillna(False)]\n",
    "osepts = oepts[oepts['apacheadmissiondx'].str.contains('Sepsis').fillna(False)]\n",
    "\n",
    "btm = np.sum(bsepts['unitdischargestatus']=='Expired')\n",
    "wtm = np.sum(wsepts['unitdischargestatus']=='Expired')\n",
    "atm = np.sum(asepts['unitdischargestatus']=='Expired')\n",
    "htm = np.sum(hsepts['unitdischargestatus']=='Expired')\n",
    "ntm = np.sum(nsepts['unitdischargestatus']=='Expired')\n",
    "otm = np.sum(osepts['unitdischargestatus']=='Expired')\n",
    "\n",
    "sedpts = edpts[edpts['apacheadmissiondx'].str.contains('Sepsis').fillna(False)]\n",
    "\n",
    "sepmortrate = np.sum(sedpts['unitdischargestatus']=='Expired')/len(sedpts)\n",
    "\n",
    "print(sepmortrate)\n",
    "\n",
    "obsmorts = [btm, wtm, atm, htm, ntm, otm]\n",
    "expmorts = np.multiply(sepmortrate,[len(bsepts), len(wsepts), len(asepts), len(hsepts), len(nsepts), len(osepts)])\n",
    "print(obsmorts)\n",
    "print(expmorts)\n",
    "stat.chisquare(obsmorts, expmorts)"
   ]
  },
  {
   "cell_type": "code",
   "execution_count": 273,
   "metadata": {},
   "outputs": [
    {
     "data": {
      "text/plain": [
       "Power_divergenceResult(statistic=9.1057552042841028, pvalue=0.01053683988331109)"
      ]
     },
     "execution_count": 273,
     "metadata": {},
     "output_type": "execute_result"
    }
   ],
   "source": [
    "stat.chisquare([btm, wtm,34],[135.5,999.1,20.4])"
   ]
  },
  {
   "cell_type": "code",
   "execution_count": 276,
   "metadata": {},
   "outputs": [
    {
     "name": "stdout",
     "output_type": "stream",
     "text": [
      "0.0504133897963\n",
      "[27, 195, 3, 3, 1, 17]\n",
      "[  21.77858439  198.32627546    3.62976407    8.21738254    1.76446864\n",
      "   13.10748135]\n"
     ]
    },
    {
     "data": {
      "text/plain": [
       "Power_divergenceResult(statistic=6.2166774339822837, pvalue=0.28570261594084878)"
      ]
     },
     "execution_count": 276,
     "metadata": {},
     "output_type": "execute_result"
    }
   ],
   "source": [
    "bsepts = bepts[bepts['apacheadmissiondx'].str.contains('trauma').fillna(False)]\n",
    "wsepts = wepts[wepts['apacheadmissiondx'].str.contains('trauma').fillna(False)]\n",
    "asepts = aepts[aepts['apacheadmissiondx'].str.contains('trauma').fillna(False)]\n",
    "hsepts = hepts[hepts['apacheadmissiondx'].str.contains('trauma').fillna(False)]\n",
    "nsepts = nepts[nepts['apacheadmissiondx'].str.contains('trauma').fillna(False)]\n",
    "osepts = oepts[oepts['apacheadmissiondx'].str.contains('trauma').fillna(False)]\n",
    "\n",
    "btm = np.sum(bsepts['unitdischargestatus']=='Expired')\n",
    "wtm = np.sum(wsepts['unitdischargestatus']=='Expired')\n",
    "atm = np.sum(asepts['unitdischargestatus']=='Expired')\n",
    "htm = np.sum(hsepts['unitdischargestatus']=='Expired')\n",
    "ntm = np.sum(nsepts['unitdischargestatus']=='Expired')\n",
    "otm = np.sum(osepts['unitdischargestatus']=='Expired')\n",
    "\n",
    "sedpts = edpts[edpts['apacheadmissiondx'].str.contains('trauma').fillna(False)]\n",
    "\n",
    "sepmortrate = np.sum(sedpts['unitdischargestatus']=='Expired')/len(sedpts)\n",
    "\n",
    "print(sepmortrate)\n",
    "\n",
    "obsmorts = [btm, wtm, atm, htm, ntm, otm]\n",
    "expmorts = np.multiply(sepmortrate,[len(bsepts), len(wsepts), len(asepts), len(hsepts), len(nsepts), len(osepts)])\n",
    "print(obsmorts)\n",
    "print(expmorts)\n",
    "stat.chisquare(obsmorts, expmorts)"
   ]
  },
  {
   "cell_type": "code",
   "execution_count": 233,
   "metadata": {},
   "outputs": [
    {
     "data": {
      "text/plain": [
       "0           True\n",
       "1           True\n",
       "2          False\n",
       "3          False\n",
       "4           True\n",
       "           ...  \n",
       "2710667    False\n",
       "2710668     True\n",
       "2710669    False\n",
       "2710670    False\n",
       "2710671    False\n",
       "Name: diagnosisstring, Length: 2710672, dtype: bool"
      ]
     },
     "execution_count": 233,
     "metadata": {},
     "output_type": "execute_result"
    }
   ],
   "source": [
    "(dxs['diagnosisstring'].str.contains('cardiovascular'))"
   ]
  },
  {
   "cell_type": "code",
   "execution_count": 236,
   "metadata": {},
   "outputs": [
    {
     "data": {
      "text/plain": [
       "2710672"
      ]
     },
     "execution_count": 236,
     "metadata": {},
     "output_type": "execute_result"
    }
   ],
   "source": [
    "len(dxs)"
   ]
  },
  {
   "cell_type": "code",
   "execution_count": 237,
   "metadata": {},
   "outputs": [
    {
     "data": {
      "text/plain": [
       "0             Rhythm disturbance (atrial, supraventricular)\n",
       "1                                                       NaN\n",
       "2                                                       NaN\n",
       "3                     Sepsis, renal/UTI (including bladder)\n",
       "4                                                       NaN\n",
       "                                ...                        \n",
       "200854                        CHF, congestive heart failure\n",
       "200855                                   Embolus, pulmonary\n",
       "200856    Cardiac arrest (with or without respiratory ar...\n",
       "200857                                   Bleeding, lower GI\n",
       "200858                                   Embolus, pulmonary\n",
       "Name: apacheadmissiondx, Length: 200859, dtype: object"
      ]
     },
     "execution_count": 237,
     "metadata": {},
     "output_type": "execute_result"
    }
   ],
   "source": [
    "pts['apacheadmissiondx']"
   ]
  },
  {
   "cell_type": "code",
   "execution_count": 244,
   "metadata": {},
   "outputs": [
    {
     "data": {
      "text/plain": [
       "1         False\n",
       "5         False\n",
       "7         False\n",
       "9         False\n",
       "12        False\n",
       "          ...  \n",
       "200853     True\n",
       "200854    False\n",
       "200856    False\n",
       "200857    False\n",
       "200858    False\n",
       "Name: unitdischargestatus, Length: 89594, dtype: bool"
      ]
     },
     "execution_count": 244,
     "metadata": {},
     "output_type": "execute_result"
    }
   ],
   "source": [
    "edpts['unitdischargestatus']=='Expired'"
   ]
  },
  {
   "cell_type": "code",
   "execution_count": 337,
   "metadata": {},
   "outputs": [
    {
     "name": "stdout",
     "output_type": "stream",
     "text": [
      "0.0504133897963\n",
      "[27, 195, 3, 3, 1, 17]\n",
      "[  21.77858439  198.32627546    3.62976407    8.21738254    1.76446864\n",
      "   13.10748135]\n"
     ]
    },
    {
     "data": {
      "text/plain": [
       "Power_divergenceResult(statistic=6.2166774339822837, pvalue=0.28570261594084878)"
      ]
     },
     "execution_count": 337,
     "metadata": {},
     "output_type": "execute_result"
    }
   ],
   "source": [
    "q = 'trauma'\n",
    "\n",
    "bsepts = bepts[bepts['apacheadmissiondx'].str.contains(q).fillna(False)]\n",
    "wsepts = wepts[wepts['apacheadmissiondx'].str.contains(q).fillna(False)]\n",
    "asepts = aepts[aepts['apacheadmissiondx'].str.contains(q).fillna(False)]\n",
    "hsepts = hepts[hepts['apacheadmissiondx'].str.contains(q).fillna(False)]\n",
    "nsepts = nepts[nepts['apacheadmissiondx'].str.contains(q).fillna(False)]\n",
    "osepts = oepts[oepts['apacheadmissiondx'].str.contains(q).fillna(False)]\n",
    "\n",
    "btm = np.sum(bsepts['unitdischargestatus']=='Expired')\n",
    "wtm = np.sum(wsepts['unitdischargestatus']=='Expired')\n",
    "atm = np.sum(asepts['unitdischargestatus']=='Expired')\n",
    "htm = np.sum(hsepts['unitdischargestatus']=='Expired')\n",
    "ntm = np.sum(nsepts['unitdischargestatus']=='Expired')\n",
    "otm = np.sum(osepts['unitdischargestatus']=='Expired')\n",
    "\n",
    "sedpts = edpts[edpts['apacheadmissiondx'].str.contains(q).fillna(False)]\n",
    "\n",
    "sepmortrate = np.sum(sedpts['unitdischargestatus']=='Expired')/len(sedpts)\n",
    "\n",
    "print(sepmortrate)\n",
    "\n",
    "obsmorts = [btm, wtm, atm, htm, ntm, otm]\n",
    "expmorts = np.multiply(sepmortrate,[len(bsepts), len(wsepts), len(asepts), len(hsepts), len(nsepts), len(osepts)])\n",
    "print(obsmorts)\n",
    "print(expmorts)\n",
    "stat.chisquare(obsmorts, expmorts)"
   ]
  },
  {
   "cell_type": "code",
   "execution_count": 299,
   "metadata": {},
   "outputs": [
    {
     "name": "stdout",
     "output_type": "stream",
     "text": [
      "0.0504133897963\n",
      "[178, 67]\n",
      "[ 159.76003226   89.4333535 ]\n"
     ]
    },
    {
     "data": {
      "text/plain": [
       "Power_divergenceResult(statistic=7.7096310146957165, pvalue=0.0054926977891914157)"
      ]
     },
     "execution_count": 299,
     "metadata": {},
     "output_type": "execute_result"
    }
   ],
   "source": [
    "q = 'trauma'\n",
    "\n",
    "mpts = pts[pts['gender'] == 'Male']\n",
    "fpts = pts[pts['gender'] == 'Female']\n",
    "\n",
    "mepts = mpts[mpts['unitadmitsource'] == 'Emergency Department']\n",
    "fepts = fpts[fpts['unitadmitsource'] == 'Emergency Department']\n",
    "\n",
    "msepts = mepts[mepts['apacheadmissiondx'].str.contains(q).fillna(False)]\n",
    "fsepts = fepts[fepts['apacheadmissiondx'].str.contains(q).fillna(False)]\n",
    "\n",
    "mtm = np.sum(msepts['unitdischargestatus']=='Expired')\n",
    "ftm = np.sum(fsepts['unitdischargestatus']=='Expired')\n",
    "\n",
    "sedpts = edpts[edpts['apacheadmissiondx'].str.contains(q).fillna(False)]\n",
    "\n",
    "sepmortrate = np.sum(sedpts['unitdischargestatus']=='Expired')/len(sedpts)\n",
    "\n",
    "print(sepmortrate)\n",
    "\n",
    "obsmorts = [mtm, ftm]\n",
    "expmorts = np.multiply(sepmortrate,[len(msepts), len(fsepts)])\n",
    "print(obsmorts)\n",
    "print(expmorts)\n",
    "stat.chisquare(obsmorts, expmorts)"
   ]
  },
  {
   "cell_type": "code",
   "execution_count": null,
   "metadata": {},
   "outputs": [],
   "source": [
    "# Men are more likely to die from trauma when transferred from the ED to the ICU.\n"
   ]
  },
  {
   "cell_type": "code",
   "execution_count": 303,
   "metadata": {},
   "outputs": [
    {
     "data": {
      "text/plain": [
       "'cardiovascular|hypertension|angiotensin II receptor blocker (ARB)|losartan'"
      ]
     },
     "execution_count": 303,
     "metadata": {},
     "output_type": "execute_result"
    }
   ],
   "source": [
    "txs['treatmentstring'][0]"
   ]
  },
  {
   "cell_type": "code",
   "execution_count": 310,
   "metadata": {},
   "outputs": [
    {
     "name": "stdout",
     "output_type": "stream",
     "text": [
      "0.0504133897963\n",
      "[178, 67]\n",
      "[ 159.76003226   89.4333535 ]\n"
     ]
    },
    {
     "data": {
      "text/plain": [
       "Power_divergenceResult(statistic=7.7096310146957165, pvalue=0.0054926977891914157)"
      ]
     },
     "execution_count": 310,
     "metadata": {},
     "output_type": "execute_result"
    }
   ],
   "source": [
    "q = 'trauma'\n",
    "\n",
    "mpts = pts[pts['gender'] == 'Male']\n",
    "fpts = pts[pts['gender'] == 'Female']\n",
    "\n",
    "mepts = mpts[mpts['unitadmitsource'] == 'Emergency Department']\n",
    "fepts = fpts[fpts['unitadmitsource'] == 'Emergency Department']\n",
    "\n",
    "msepts = mepts[mepts['apacheadmissiondx'].str.contains(q).fillna(False)]\n",
    "fsepts = fepts[fepts['apacheadmissiondx'].str.contains(q).fillna(False)]\n",
    "\n",
    "mtm = np.sum(msepts['unitdischargestatus']=='Expired')\n",
    "ftm = np.sum(fsepts['unitdischargestatus']=='Expired')\n",
    "\n",
    "sedpts = edpts[edpts['apacheadmissiondx'].str.contains(q).fillna(False)]\n",
    "\n",
    "sepmortrate = np.sum(sedpts['unitdischargestatus']=='Expired')/len(sedpts)\n",
    "\n",
    "print(sepmortrate)\n",
    "\n",
    "obsmorts = [mtm, ftm]\n",
    "expmorts = np.multiply(sepmortrate,[len(msepts), len(fsepts)])\n",
    "print(obsmorts)\n",
    "print(expmorts)\n",
    "stat.chisquare(obsmorts, expmorts)"
   ]
  },
  {
   "cell_type": "code",
   "execution_count": 316,
   "metadata": {},
   "outputs": [
    {
     "name": "stdout",
     "output_type": "stream",
     "text": [
      "31301\n",
      "35989\n"
     ]
    }
   ],
   "source": [
    "mpts = edunipts[edunipts['gender'] == 'Male']\n",
    "fpts = edunipts[edunipts['gender'] == 'Female']\n",
    "print(len(fpts))\n",
    "print(len(mpts))"
   ]
  },
  {
   "cell_type": "code",
   "execution_count": 317,
   "metadata": {},
   "outputs": [
    {
     "name": "stdout",
     "output_type": "stream",
     "text": [
      "41945\n",
      "47571\n"
     ]
    }
   ],
   "source": [
    "mpts = edpts[edpts['gender'] == 'Male']\n",
    "fpts = edpts[edpts['gender'] == 'Female']\n",
    "print(len(fpts))\n",
    "print(len(mpts))"
   ]
  },
  {
   "cell_type": "code",
   "execution_count": 327,
   "metadata": {},
   "outputs": [
    {
     "data": {
      "text/plain": [
       "0.05616913852950457"
      ]
     },
     "execution_count": 327,
     "metadata": {},
     "output_type": "execute_result"
    }
   ],
   "source": [
    "178/len(msepts)"
   ]
  },
  {
   "cell_type": "code",
   "execution_count": 328,
   "metadata": {},
   "outputs": [
    {
     "data": {
      "text/plain": [
       "0.037767756482525366"
      ]
     },
     "execution_count": 328,
     "metadata": {},
     "output_type": "execute_result"
    }
   ],
   "source": [
    "67/len(fsepts)"
   ]
  },
  {
   "cell_type": "code",
   "execution_count": 320,
   "metadata": {},
   "outputs": [
    {
     "data": {
      "text/plain": [
       "4943"
      ]
     },
     "execution_count": 320,
     "metadata": {},
     "output_type": "execute_result"
    }
   ],
   "source": [
    "len(msepts) + len(fsepts)"
   ]
  },
  {
   "cell_type": "code",
   "execution_count": 326,
   "metadata": {},
   "outputs": [
    {
     "data": {
      "text/plain": [
       "0.056958575581395346"
      ]
     },
     "execution_count": 326,
     "metadata": {},
     "output_type": "execute_result"
    }
   ],
   "source": [
    "len(bsepts)/len(bepts)"
   ]
  },
  {
   "cell_type": "code",
   "execution_count": 325,
   "metadata": {},
   "outputs": [
    {
     "data": {
      "text/plain": [
       "0.039030616030749594"
      ]
     },
     "execution_count": 325,
     "metadata": {},
     "output_type": "execute_result"
    }
   ],
   "source": [
    "len(wsepts)/len(wepts)"
   ]
  },
  {
   "cell_type": "code",
   "execution_count": 338,
   "metadata": {},
   "outputs": [
    {
     "name": "stdout",
     "output_type": "stream",
     "text": [
      "[432, 3934, 72, 163, 35, 260]\n",
      "[  607.32352613  3717.59458223    84.46696207   203.14000938    36.19224502\n",
      "   294.28267518]\n"
     ]
    },
    {
     "data": {
      "text/plain": [
       "Power_divergenceResult(statistic=77.014703327677964, pvalue=3.5314561833307233e-15)"
      ]
     },
     "execution_count": 338,
     "metadata": {},
     "output_type": "execute_result"
    }
   ],
   "source": [
    "obsepts = [len(bsepts), len(wsepts), len(asepts), len(hsepts), len(nsepts), len(osepts)]\n",
    "expsepts = np.multiply(4943/89594,[bt, wt, at, ht, nt, ot])\n",
    "print(obsepts)\n",
    "print(expsepts)\n",
    "stat.chisquare(obsepts, expsepts)"
   ]
  },
  {
   "cell_type": "code",
   "execution_count": 345,
   "metadata": {},
   "outputs": [
    {
     "name": "stdout",
     "output_type": "stream",
     "text": [
      "[3169, 1774]\n",
      "[ 2624.54464585  2314.15200795]\n"
     ]
    },
    {
     "data": {
      "text/plain": [
       "Power_divergenceResult(statistic=239.02415989947011, pvalue=6.4192456156949354e-54)"
      ]
     },
     "execution_count": 345,
     "metadata": {},
     "output_type": "execute_result"
    }
   ],
   "source": [
    "obsepts = [len(msepts), len(fsepts)]\n",
    "expsepts = np.multiply(4943/89594,[47571, 41945])\n",
    "print(obsepts)\n",
    "print(expsepts)\n",
    "stat.chisquare(obsepts, expsepts)"
   ]
  },
  {
   "cell_type": "code",
   "execution_count": 348,
   "metadata": {},
   "outputs": [
    {
     "name": "stdout",
     "output_type": "stream",
     "text": [
      "[2606, 2183]\n",
      "[ 2544.992169  2244.007831]\n"
     ]
    },
    {
     "data": {
      "text/plain": [
       "Power_divergenceResult(statistic=3.1210820669662711, pvalue=0.077285446380977785)"
      ]
     },
     "execution_count": 348,
     "metadata": {},
     "output_type": "execute_result"
    }
   ],
   "source": [
    "\n",
    "mtm = np.sum(mepts['unitdischargestatus']=='Expired')\n",
    "ftm = np.sum(fepts['unitdischargestatus']=='Expired')\n",
    "\n",
    "obsmor = [mtm,ftm]\n",
    "\n",
    "expmor = np.multiply((mtm+ftm)/(len(mepts) + len(fepts)),[len(mepts), len(fepts)])\n",
    "print(obsmor)\n",
    "print(expmor)\n",
    "stat.chisquare(obsmor, expmor)"
   ]
  },
  {
   "cell_type": "code",
   "execution_count": null,
   "metadata": {},
   "outputs": [],
   "source": []
  }
 ],
 "metadata": {
  "kernelspec": {
   "display_name": "Python 3",
   "language": "python",
   "name": "python3"
  },
  "language_info": {
   "codemirror_mode": {
    "name": "ipython",
    "version": 3
   },
   "file_extension": ".py",
   "mimetype": "text/x-python",
   "name": "python",
   "nbconvert_exporter": "python",
   "pygments_lexer": "ipython3",
   "version": "3.7.4"
  }
 },
 "nbformat": 4,
 "nbformat_minor": 4
}
