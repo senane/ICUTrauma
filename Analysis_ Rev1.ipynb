{
 "cells": [
  {
   "cell_type": "code",
   "execution_count": 1,
   "metadata": {},
   "outputs": [],
   "source": [
    "import pandas as pd\n",
    "import matplotlib.pyplot as plt\n",
    "import seaborn as sns\n",
    "import numpy as np\n",
    "import scipy.stats as stat\n",
    "import statsmodels.api as sm\n",
    "import sys\n",
    "import re\n",
    "\n",
    "pd.set_option('display.max_columns', 9999)\n",
    "np.set_printoptions(threshold=sys.maxsize)\n",
    "\n",
    "%matplotlib notebook"
   ]
  },
  {
   "cell_type": "code",
   "execution_count": 2,
   "metadata": {},
   "outputs": [
    {
     "name": "stderr",
     "output_type": "stream",
     "text": [
      "/Users/adeshkadambi/opt/anaconda3/lib/python3.7/site-packages/IPython/core/interactiveshell.py:3058: DtypeWarning: Columns (11) have mixed types. Specify dtype option on import or set low_memory=False.\n",
      "  interactivity=interactivity, compiler=compiler, result=result)\n"
     ]
    }
   ],
   "source": [
    "med = pd.read_csv('eicu-collaborative-research-database-2.0/medication.csv.gz')"
   ]
  },
  {
   "cell_type": "code",
   "execution_count": 3,
   "metadata": {},
   "outputs": [],
   "source": [
    "def opioids (x):\n",
    "    \n",
    "    opiods = ['hydromorphone','hydrocodone','morphine','oxycodone','oxymorphone','codeine','fentanyl','meperidine',\n",
    "          'tramadol','carfentanil','percocet','norco']\n",
    "\n",
    "    for i in opiods:\n",
    "        if i in str(x).lower():\n",
    "            return 1\n",
    "        \n",
    "    return 0"
   ]
  },
  {
   "cell_type": "code",
   "execution_count": 4,
   "metadata": {},
   "outputs": [],
   "source": [
    "def nsaids (x):\n",
    "    \n",
    "    non_op = ['acetaminophen','amitriptyline', 'doxepin', 'imipramine', 'desipramine', 'nortriptyline',\n",
    "         'ibuprofen', 'naproxen', 'diclofenac', 'piroxicam', 'sulindac', 'indomethacin', 'ketorolac', 'meloxicam', \n",
    "          'celecoxib', 'ketoprofen', 'oxaprozin', 'toradol', 'valdecoxib', 'bextra', 'rofecoxib', 'vioxx', 'gabapentin', \n",
    "          'neurontin', 'cyclobenzaprine', 'duloxetine', 'cymbalta', 'pregabalin', 'lyrica', 'venlafaxine', 'effexor', \n",
    "          'tylenol', 'voltaren', 'naprosyn', 'paracetamol', 'aspirin']\n",
    "    \n",
    "    for j in non_op:\n",
    "        if j in str(x).lower():\n",
    "            return 1\n",
    "\n",
    "    return 0"
   ]
  },
  {
   "cell_type": "code",
   "execution_count": 5,
   "metadata": {},
   "outputs": [],
   "source": [
    "med['opioid'] = med.drugname.apply(lambda x: opioids(x))\n",
    "med['nsaid'] = med.drugname.apply(lambda x: nsaids(x))\n",
    "\n",
    "med = med[med.drugordercancelled == 'No']"
   ]
  },
  {
   "cell_type": "code",
   "execution_count": 6,
   "metadata": {},
   "outputs": [],
   "source": [
    "cols_drop = ['medicationid','drugorderoffset','drugivadmixture','drugordercancelled','drughiclseqno',\n",
    "            'routeadmin','loadingdose','prn','gtc']\n",
    "\n",
    "med.drop(columns=cols_drop, inplace=True)\n",
    "med = med[(med.opioid == 1) | (med.nsaid == 1)]"
   ]
  },
  {
   "cell_type": "code",
   "execution_count": 7,
   "metadata": {},
   "outputs": [
    {
     "data": {
      "text/html": [
       "<div>\n",
       "<style scoped>\n",
       "    .dataframe tbody tr th:only-of-type {\n",
       "        vertical-align: middle;\n",
       "    }\n",
       "\n",
       "    .dataframe tbody tr th {\n",
       "        vertical-align: top;\n",
       "    }\n",
       "\n",
       "    .dataframe thead th {\n",
       "        text-align: right;\n",
       "    }\n",
       "</style>\n",
       "<table border=\"1\" class=\"dataframe\">\n",
       "  <thead>\n",
       "    <tr style=\"text-align: right;\">\n",
       "      <th></th>\n",
       "      <th>patientunitstayid</th>\n",
       "      <th>drugstartoffset</th>\n",
       "      <th>drugname</th>\n",
       "      <th>dosage</th>\n",
       "      <th>frequency</th>\n",
       "      <th>drugstopoffset</th>\n",
       "      <th>opioid</th>\n",
       "      <th>nsaid</th>\n",
       "    </tr>\n",
       "  </thead>\n",
       "  <tbody>\n",
       "    <tr>\n",
       "      <td>2</td>\n",
       "      <td>141168</td>\n",
       "      <td>1386</td>\n",
       "      <td>ASPIRIN EC 81 MG PO TBEC</td>\n",
       "      <td>81 3</td>\n",
       "      <td>Daily</td>\n",
       "      <td>2390</td>\n",
       "      <td>0</td>\n",
       "      <td>1</td>\n",
       "    </tr>\n",
       "    <tr>\n",
       "      <td>15</td>\n",
       "      <td>141194</td>\n",
       "      <td>2109</td>\n",
       "      <td>1 ML  -  HYDROMORPHONE HCL 1 MG/ML IJ SOLN</td>\n",
       "      <td>0.4 3</td>\n",
       "      <td>Q3H PRN</td>\n",
       "      <td>12622</td>\n",
       "      <td>1</td>\n",
       "      <td>0</td>\n",
       "    </tr>\n",
       "    <tr>\n",
       "      <td>33</td>\n",
       "      <td>141203</td>\n",
       "      <td>-339</td>\n",
       "      <td>ASPIRIN EC 81 MG PO TBEC</td>\n",
       "      <td>81 3</td>\n",
       "      <td>Daily</td>\n",
       "      <td>2414</td>\n",
       "      <td>0</td>\n",
       "      <td>1</td>\n",
       "    </tr>\n",
       "    <tr>\n",
       "      <td>37</td>\n",
       "      <td>141203</td>\n",
       "      <td>1873</td>\n",
       "      <td>MORPHINE INJ</td>\n",
       "      <td>2 3</td>\n",
       "      <td>Q15 Min PRN</td>\n",
       "      <td>4189</td>\n",
       "      <td>1</td>\n",
       "      <td>0</td>\n",
       "    </tr>\n",
       "    <tr>\n",
       "      <td>51</td>\n",
       "      <td>141227</td>\n",
       "      <td>-843</td>\n",
       "      <td>ASPIRIN EC 81 MG PO TBEC</td>\n",
       "      <td>81 3</td>\n",
       "      <td>Daily</td>\n",
       "      <td>1744</td>\n",
       "      <td>0</td>\n",
       "      <td>1</td>\n",
       "    </tr>\n",
       "  </tbody>\n",
       "</table>\n",
       "</div>"
      ],
      "text/plain": [
       "    patientunitstayid  drugstartoffset  \\\n",
       "2              141168             1386   \n",
       "15             141194             2109   \n",
       "33             141203             -339   \n",
       "37             141203             1873   \n",
       "51             141227             -843   \n",
       "\n",
       "                                      drugname dosage    frequency  \\\n",
       "2                     ASPIRIN EC 81 MG PO TBEC   81 3        Daily   \n",
       "15  1 ML  -  HYDROMORPHONE HCL 1 MG/ML IJ SOLN  0.4 3      Q3H PRN   \n",
       "33                    ASPIRIN EC 81 MG PO TBEC   81 3        Daily   \n",
       "37                                MORPHINE INJ    2 3  Q15 Min PRN   \n",
       "51                    ASPIRIN EC 81 MG PO TBEC   81 3        Daily   \n",
       "\n",
       "    drugstopoffset  opioid  nsaid  \n",
       "2             2390       0      1  \n",
       "15           12622       1      0  \n",
       "33            2414       0      1  \n",
       "37            4189       1      0  \n",
       "51            1744       0      1  "
      ]
     },
     "execution_count": 7,
     "metadata": {},
     "output_type": "execute_result"
    }
   ],
   "source": [
    "med.head()"
   ]
  },
  {
   "cell_type": "code",
   "execution_count": 8,
   "metadata": {},
   "outputs": [],
   "source": [
    "mg = med.groupby(['patientunitstayid']).agg({'opioid': lambda x:sum(x), 'nsaid': lambda x:sum(x)})\n",
    "mg[mg != 0] = 1"
   ]
  },
  {
   "cell_type": "code",
   "execution_count": 9,
   "metadata": {},
   "outputs": [],
   "source": [
    "def op_find (x, arr):\n",
    "    try:\n",
    "        return arr['opioid'][x]\n",
    "    except:\n",
    "        return np.nan\n",
    "    \n",
    "def nsaid_find (x, arr):\n",
    "    try:\n",
    "        return arr['nsaid'][x]\n",
    "    except:\n",
    "        return np.nan"
   ]
  },
  {
   "cell_type": "code",
   "execution_count": 10,
   "metadata": {},
   "outputs": [],
   "source": [
    "pts = pd.read_csv('eicu-collaborative-research-database-2.0/patient.csv.gz')\n",
    "hos = pd.read_csv('eicu-collaborative-research-database-2.0/hospital.csv.gz')"
   ]
  },
  {
   "cell_type": "code",
   "execution_count": 11,
   "metadata": {},
   "outputs": [],
   "source": [
    "pts['opioid'] = pts['patientunitstayid'].apply(lambda x: op_find(x, mg))\n",
    "pts['nsaid'] = pts['patientunitstayid'].apply(lambda x: nsaid_find(x, mg))\n",
    "\n",
    "pts = pd.merge(pts, hos, on=['hospitalid'], how = 'left')"
   ]
  },
  {
   "cell_type": "code",
   "execution_count": 12,
   "metadata": {},
   "outputs": [],
   "source": [
    "pts = pts[pts.gender != 'Unknown']\n",
    "pts = pts[pts.gender != 'Other']"
   ]
  },
  {
   "cell_type": "code",
   "execution_count": 13,
   "metadata": {},
   "outputs": [],
   "source": [
    "pts['apacheadmissiondx'].fillna(value = 'N/A', inplace = True)\n",
    "pts['hospitaladmitsource'].fillna(value = 'Unknown', inplace = True)\n",
    "\n",
    "def age (x):\n",
    "    if x == '> 89':\n",
    "        return 90\n",
    "    else:\n",
    "        return int(x)\n",
    "\n",
    "pts['age'].fillna(value = 0, inplace = True)\n",
    "pts['age'] = pts['age'].apply(lambda x: age(x))"
   ]
  },
  {
   "cell_type": "code",
   "execution_count": 14,
   "metadata": {},
   "outputs": [],
   "source": [
    "pts.opioid.fillna(0, inplace = True)\n",
    "pts.nsaid.fillna(0, inplace = True)"
   ]
  },
  {
   "cell_type": "code",
   "execution_count": 15,
   "metadata": {},
   "outputs": [],
   "source": [
    "pts.opioid.replace(1.0,True,inplace=True)\n",
    "pts.opioid.replace(0.0,False,inplace=True)\n",
    "\n",
    "pts.nsaid.replace(1.0,True,inplace=True)\n",
    "pts.nsaid.replace(0.0,False,inplace=True)"
   ]
  },
  {
   "cell_type": "code",
   "execution_count": 16,
   "metadata": {},
   "outputs": [],
   "source": [
    "pts['painmeds'] = pts.opioid|pts.nsaid"
   ]
  },
  {
   "cell_type": "code",
   "execution_count": 141,
   "metadata": {},
   "outputs": [
    {
     "data": {
      "text/html": [
       "<div>\n",
       "<style scoped>\n",
       "    .dataframe tbody tr th:only-of-type {\n",
       "        vertical-align: middle;\n",
       "    }\n",
       "\n",
       "    .dataframe tbody tr th {\n",
       "        vertical-align: top;\n",
       "    }\n",
       "\n",
       "    .dataframe thead th {\n",
       "        text-align: right;\n",
       "    }\n",
       "</style>\n",
       "<table border=\"1\" class=\"dataframe\">\n",
       "  <thead>\n",
       "    <tr style=\"text-align: right;\">\n",
       "      <th></th>\n",
       "      <th>patientunitstayid</th>\n",
       "      <th>patienthealthsystemstayid</th>\n",
       "      <th>gender</th>\n",
       "      <th>age</th>\n",
       "      <th>ethnicity</th>\n",
       "      <th>hospitalid</th>\n",
       "      <th>wardid</th>\n",
       "      <th>apacheadmissiondx</th>\n",
       "      <th>admissionheight</th>\n",
       "      <th>hospitaladmittime24</th>\n",
       "      <th>hospitaladmitoffset</th>\n",
       "      <th>hospitaladmitsource</th>\n",
       "      <th>hospitaldischargeyear</th>\n",
       "      <th>hospitaldischargetime24</th>\n",
       "      <th>hospitaldischargeoffset</th>\n",
       "      <th>hospitaldischargelocation</th>\n",
       "      <th>hospitaldischargestatus</th>\n",
       "      <th>unittype</th>\n",
       "      <th>unitadmittime24</th>\n",
       "      <th>unitadmitsource</th>\n",
       "      <th>unitvisitnumber</th>\n",
       "      <th>unitstaytype</th>\n",
       "      <th>admissionweight</th>\n",
       "      <th>dischargeweight</th>\n",
       "      <th>unitdischargetime24</th>\n",
       "      <th>unitdischargeoffset</th>\n",
       "      <th>unitdischargelocation</th>\n",
       "      <th>unitdischargestatus</th>\n",
       "      <th>uniquepid</th>\n",
       "      <th>opioid</th>\n",
       "      <th>nsaid</th>\n",
       "      <th>numbedscategory</th>\n",
       "      <th>teachingstatus</th>\n",
       "      <th>region</th>\n",
       "      <th>painmeds</th>\n",
       "    </tr>\n",
       "  </thead>\n",
       "  <tbody>\n",
       "    <tr>\n",
       "      <td>0</td>\n",
       "      <td>141168</td>\n",
       "      <td>128919</td>\n",
       "      <td>Female</td>\n",
       "      <td>70</td>\n",
       "      <td>Caucasian</td>\n",
       "      <td>59</td>\n",
       "      <td>91</td>\n",
       "      <td>Rhythm disturbance (atrial, supraventricular)</td>\n",
       "      <td>152.4</td>\n",
       "      <td>15:54:00</td>\n",
       "      <td>0</td>\n",
       "      <td>Direct Admit</td>\n",
       "      <td>2015</td>\n",
       "      <td>03:50:00</td>\n",
       "      <td>3596</td>\n",
       "      <td>Death</td>\n",
       "      <td>Expired</td>\n",
       "      <td>Med-Surg ICU</td>\n",
       "      <td>15:54:00</td>\n",
       "      <td>Direct Admit</td>\n",
       "      <td>1</td>\n",
       "      <td>admit</td>\n",
       "      <td>84.3</td>\n",
       "      <td>85.8</td>\n",
       "      <td>03:50:00</td>\n",
       "      <td>3596</td>\n",
       "      <td>Death</td>\n",
       "      <td>Expired</td>\n",
       "      <td>002-34851</td>\n",
       "      <td>True</td>\n",
       "      <td>True</td>\n",
       "      <td>&lt;100</td>\n",
       "      <td>f</td>\n",
       "      <td>Midwest</td>\n",
       "      <td>True</td>\n",
       "    </tr>\n",
       "    <tr>\n",
       "      <td>1</td>\n",
       "      <td>141178</td>\n",
       "      <td>128927</td>\n",
       "      <td>Female</td>\n",
       "      <td>52</td>\n",
       "      <td>Caucasian</td>\n",
       "      <td>60</td>\n",
       "      <td>83</td>\n",
       "      <td>N/A</td>\n",
       "      <td>162.6</td>\n",
       "      <td>08:56:00</td>\n",
       "      <td>-14</td>\n",
       "      <td>Emergency Department</td>\n",
       "      <td>2015</td>\n",
       "      <td>19:20:00</td>\n",
       "      <td>2050</td>\n",
       "      <td>Home</td>\n",
       "      <td>Alive</td>\n",
       "      <td>Med-Surg ICU</td>\n",
       "      <td>09:10:00</td>\n",
       "      <td>Emergency Department</td>\n",
       "      <td>1</td>\n",
       "      <td>admit</td>\n",
       "      <td>54.4</td>\n",
       "      <td>54.4</td>\n",
       "      <td>09:18:00</td>\n",
       "      <td>8</td>\n",
       "      <td>Step-Down Unit (SDU)</td>\n",
       "      <td>Alive</td>\n",
       "      <td>002-33870</td>\n",
       "      <td>False</td>\n",
       "      <td>True</td>\n",
       "      <td>&lt;100</td>\n",
       "      <td>f</td>\n",
       "      <td>Midwest</td>\n",
       "      <td>True</td>\n",
       "    </tr>\n",
       "    <tr>\n",
       "      <td>2</td>\n",
       "      <td>141179</td>\n",
       "      <td>128927</td>\n",
       "      <td>Female</td>\n",
       "      <td>52</td>\n",
       "      <td>Caucasian</td>\n",
       "      <td>60</td>\n",
       "      <td>83</td>\n",
       "      <td>N/A</td>\n",
       "      <td>162.6</td>\n",
       "      <td>08:56:00</td>\n",
       "      <td>-22</td>\n",
       "      <td>Emergency Department</td>\n",
       "      <td>2015</td>\n",
       "      <td>19:20:00</td>\n",
       "      <td>2042</td>\n",
       "      <td>Home</td>\n",
       "      <td>Alive</td>\n",
       "      <td>Med-Surg ICU</td>\n",
       "      <td>09:18:00</td>\n",
       "      <td>ICU to SDU</td>\n",
       "      <td>2</td>\n",
       "      <td>stepdown/other</td>\n",
       "      <td>NaN</td>\n",
       "      <td>60.4</td>\n",
       "      <td>19:20:00</td>\n",
       "      <td>2042</td>\n",
       "      <td>Home</td>\n",
       "      <td>Alive</td>\n",
       "      <td>002-33870</td>\n",
       "      <td>False</td>\n",
       "      <td>False</td>\n",
       "      <td>&lt;100</td>\n",
       "      <td>f</td>\n",
       "      <td>Midwest</td>\n",
       "      <td>False</td>\n",
       "    </tr>\n",
       "    <tr>\n",
       "      <td>3</td>\n",
       "      <td>141194</td>\n",
       "      <td>128941</td>\n",
       "      <td>Male</td>\n",
       "      <td>68</td>\n",
       "      <td>Caucasian</td>\n",
       "      <td>73</td>\n",
       "      <td>92</td>\n",
       "      <td>Sepsis, renal/UTI (including bladder)</td>\n",
       "      <td>180.3</td>\n",
       "      <td>18:18:40</td>\n",
       "      <td>-780</td>\n",
       "      <td>Floor</td>\n",
       "      <td>2015</td>\n",
       "      <td>23:30:00</td>\n",
       "      <td>12492</td>\n",
       "      <td>Home</td>\n",
       "      <td>Alive</td>\n",
       "      <td>CTICU</td>\n",
       "      <td>07:18:00</td>\n",
       "      <td>Floor</td>\n",
       "      <td>1</td>\n",
       "      <td>admit</td>\n",
       "      <td>73.9</td>\n",
       "      <td>76.7</td>\n",
       "      <td>15:31:00</td>\n",
       "      <td>4813</td>\n",
       "      <td>Floor</td>\n",
       "      <td>Alive</td>\n",
       "      <td>002-5276</td>\n",
       "      <td>True</td>\n",
       "      <td>True</td>\n",
       "      <td>&gt;= 500</td>\n",
       "      <td>t</td>\n",
       "      <td>Midwest</td>\n",
       "      <td>True</td>\n",
       "    </tr>\n",
       "    <tr>\n",
       "      <td>4</td>\n",
       "      <td>141196</td>\n",
       "      <td>128943</td>\n",
       "      <td>Male</td>\n",
       "      <td>71</td>\n",
       "      <td>Caucasian</td>\n",
       "      <td>67</td>\n",
       "      <td>109</td>\n",
       "      <td>N/A</td>\n",
       "      <td>162.6</td>\n",
       "      <td>20:21:00</td>\n",
       "      <td>-99</td>\n",
       "      <td>Emergency Department</td>\n",
       "      <td>2015</td>\n",
       "      <td>17:00:00</td>\n",
       "      <td>5460</td>\n",
       "      <td>Home</td>\n",
       "      <td>Alive</td>\n",
       "      <td>Med-Surg ICU</td>\n",
       "      <td>22:00:00</td>\n",
       "      <td>ICU to SDU</td>\n",
       "      <td>2</td>\n",
       "      <td>stepdown/other</td>\n",
       "      <td>NaN</td>\n",
       "      <td>63.2</td>\n",
       "      <td>22:23:00</td>\n",
       "      <td>1463</td>\n",
       "      <td>Floor</td>\n",
       "      <td>Alive</td>\n",
       "      <td>002-37665</td>\n",
       "      <td>True</td>\n",
       "      <td>True</td>\n",
       "      <td>NaN</td>\n",
       "      <td>f</td>\n",
       "      <td>Midwest</td>\n",
       "      <td>True</td>\n",
       "    </tr>\n",
       "  </tbody>\n",
       "</table>\n",
       "</div>"
      ],
      "text/plain": [
       "   patientunitstayid  patienthealthsystemstayid  gender  age  ethnicity  \\\n",
       "0             141168                     128919  Female   70  Caucasian   \n",
       "1             141178                     128927  Female   52  Caucasian   \n",
       "2             141179                     128927  Female   52  Caucasian   \n",
       "3             141194                     128941    Male   68  Caucasian   \n",
       "4             141196                     128943    Male   71  Caucasian   \n",
       "\n",
       "   hospitalid  wardid                              apacheadmissiondx  \\\n",
       "0          59      91  Rhythm disturbance (atrial, supraventricular)   \n",
       "1          60      83                                            N/A   \n",
       "2          60      83                                            N/A   \n",
       "3          73      92          Sepsis, renal/UTI (including bladder)   \n",
       "4          67     109                                            N/A   \n",
       "\n",
       "   admissionheight hospitaladmittime24  hospitaladmitoffset  \\\n",
       "0            152.4            15:54:00                    0   \n",
       "1            162.6            08:56:00                  -14   \n",
       "2            162.6            08:56:00                  -22   \n",
       "3            180.3            18:18:40                 -780   \n",
       "4            162.6            20:21:00                  -99   \n",
       "\n",
       "    hospitaladmitsource  hospitaldischargeyear hospitaldischargetime24  \\\n",
       "0          Direct Admit                   2015                03:50:00   \n",
       "1  Emergency Department                   2015                19:20:00   \n",
       "2  Emergency Department                   2015                19:20:00   \n",
       "3                 Floor                   2015                23:30:00   \n",
       "4  Emergency Department                   2015                17:00:00   \n",
       "\n",
       "   hospitaldischargeoffset hospitaldischargelocation hospitaldischargestatus  \\\n",
       "0                     3596                     Death                 Expired   \n",
       "1                     2050                      Home                   Alive   \n",
       "2                     2042                      Home                   Alive   \n",
       "3                    12492                      Home                   Alive   \n",
       "4                     5460                      Home                   Alive   \n",
       "\n",
       "       unittype unitadmittime24       unitadmitsource  unitvisitnumber  \\\n",
       "0  Med-Surg ICU        15:54:00          Direct Admit                1   \n",
       "1  Med-Surg ICU        09:10:00  Emergency Department                1   \n",
       "2  Med-Surg ICU        09:18:00            ICU to SDU                2   \n",
       "3         CTICU        07:18:00                 Floor                1   \n",
       "4  Med-Surg ICU        22:00:00            ICU to SDU                2   \n",
       "\n",
       "     unitstaytype  admissionweight  dischargeweight unitdischargetime24  \\\n",
       "0           admit             84.3             85.8            03:50:00   \n",
       "1           admit             54.4             54.4            09:18:00   \n",
       "2  stepdown/other              NaN             60.4            19:20:00   \n",
       "3           admit             73.9             76.7            15:31:00   \n",
       "4  stepdown/other              NaN             63.2            22:23:00   \n",
       "\n",
       "   unitdischargeoffset unitdischargelocation unitdischargestatus  uniquepid  \\\n",
       "0                 3596                 Death             Expired  002-34851   \n",
       "1                    8  Step-Down Unit (SDU)               Alive  002-33870   \n",
       "2                 2042                  Home               Alive  002-33870   \n",
       "3                 4813                 Floor               Alive   002-5276   \n",
       "4                 1463                 Floor               Alive  002-37665   \n",
       "\n",
       "   opioid  nsaid numbedscategory teachingstatus   region  painmeds  \n",
       "0    True   True            <100              f  Midwest      True  \n",
       "1   False   True            <100              f  Midwest      True  \n",
       "2   False  False            <100              f  Midwest     False  \n",
       "3    True   True          >= 500              t  Midwest      True  \n",
       "4    True   True             NaN              f  Midwest      True  "
      ]
     },
     "execution_count": 141,
     "metadata": {},
     "output_type": "execute_result"
    }
   ],
   "source": [
    "pts.head()"
   ]
  },
  {
   "cell_type": "markdown",
   "metadata": {},
   "source": [
    "**STOP**"
   ]
  },
  {
   "cell_type": "code",
   "execution_count": 142,
   "metadata": {},
   "outputs": [],
   "source": [
    "apv = pd.read_csv('eicu-collaborative-research-database-2.0/apachePredVar.csv.gz')\n",
    "apv = apv[['patientunitstayid', 'bedcount']]\n",
    "pts = pd.merge(pts, apv, on=['patientunitstayid'], how='left')"
   ]
  },
  {
   "cell_type": "code",
   "execution_count": 143,
   "metadata": {},
   "outputs": [
    {
     "data": {
      "text/html": [
       "<div>\n",
       "<style scoped>\n",
       "    .dataframe tbody tr th:only-of-type {\n",
       "        vertical-align: middle;\n",
       "    }\n",
       "\n",
       "    .dataframe tbody tr th {\n",
       "        vertical-align: top;\n",
       "    }\n",
       "\n",
       "    .dataframe thead th {\n",
       "        text-align: right;\n",
       "    }\n",
       "</style>\n",
       "<table border=\"1\" class=\"dataframe\">\n",
       "  <thead>\n",
       "    <tr style=\"text-align: right;\">\n",
       "      <th></th>\n",
       "      <th>patientunitstayid</th>\n",
       "      <th>ethnicity</th>\n",
       "      <th>hospitalid</th>\n",
       "      <th>wardid</th>\n",
       "      <th>region</th>\n",
       "      <th>numbedscategory</th>\n",
       "      <th>bedcount</th>\n",
       "      <th>teachingstatus</th>\n",
       "      <th>opioid</th>\n",
       "      <th>nsaid</th>\n",
       "      <th>painmeds</th>\n",
       "    </tr>\n",
       "  </thead>\n",
       "  <tbody>\n",
       "    <tr>\n",
       "      <td>0</td>\n",
       "      <td>141168</td>\n",
       "      <td>Caucasian</td>\n",
       "      <td>59</td>\n",
       "      <td>91</td>\n",
       "      <td>Midwest</td>\n",
       "      <td>&lt;100</td>\n",
       "      <td>12.0</td>\n",
       "      <td>f</td>\n",
       "      <td>True</td>\n",
       "      <td>True</td>\n",
       "      <td>True</td>\n",
       "    </tr>\n",
       "    <tr>\n",
       "      <td>1</td>\n",
       "      <td>141178</td>\n",
       "      <td>Caucasian</td>\n",
       "      <td>60</td>\n",
       "      <td>83</td>\n",
       "      <td>Midwest</td>\n",
       "      <td>&lt;100</td>\n",
       "      <td>9.0</td>\n",
       "      <td>f</td>\n",
       "      <td>False</td>\n",
       "      <td>True</td>\n",
       "      <td>True</td>\n",
       "    </tr>\n",
       "    <tr>\n",
       "      <td>2</td>\n",
       "      <td>141179</td>\n",
       "      <td>Caucasian</td>\n",
       "      <td>60</td>\n",
       "      <td>83</td>\n",
       "      <td>Midwest</td>\n",
       "      <td>&lt;100</td>\n",
       "      <td>NaN</td>\n",
       "      <td>f</td>\n",
       "      <td>False</td>\n",
       "      <td>False</td>\n",
       "      <td>False</td>\n",
       "    </tr>\n",
       "    <tr>\n",
       "      <td>3</td>\n",
       "      <td>141194</td>\n",
       "      <td>Caucasian</td>\n",
       "      <td>73</td>\n",
       "      <td>92</td>\n",
       "      <td>Midwest</td>\n",
       "      <td>&gt;= 500</td>\n",
       "      <td>38.0</td>\n",
       "      <td>t</td>\n",
       "      <td>True</td>\n",
       "      <td>True</td>\n",
       "      <td>True</td>\n",
       "    </tr>\n",
       "    <tr>\n",
       "      <td>4</td>\n",
       "      <td>141196</td>\n",
       "      <td>Caucasian</td>\n",
       "      <td>67</td>\n",
       "      <td>109</td>\n",
       "      <td>Midwest</td>\n",
       "      <td>NaN</td>\n",
       "      <td>NaN</td>\n",
       "      <td>f</td>\n",
       "      <td>True</td>\n",
       "      <td>True</td>\n",
       "      <td>True</td>\n",
       "    </tr>\n",
       "  </tbody>\n",
       "</table>\n",
       "</div>"
      ],
      "text/plain": [
       "   patientunitstayid  ethnicity  hospitalid  wardid   region numbedscategory  \\\n",
       "0             141168  Caucasian          59      91  Midwest            <100   \n",
       "1             141178  Caucasian          60      83  Midwest            <100   \n",
       "2             141179  Caucasian          60      83  Midwest            <100   \n",
       "3             141194  Caucasian          73      92  Midwest          >= 500   \n",
       "4             141196  Caucasian          67     109  Midwest             NaN   \n",
       "\n",
       "   bedcount teachingstatus  opioid  nsaid  painmeds  \n",
       "0      12.0              f    True   True      True  \n",
       "1       9.0              f   False   True      True  \n",
       "2       NaN              f   False  False     False  \n",
       "3      38.0              t    True   True      True  \n",
       "4       NaN              f    True   True      True  "
      ]
     },
     "execution_count": 143,
     "metadata": {},
     "output_type": "execute_result"
    }
   ],
   "source": [
    "# hospital odds ratios\n",
    "\n",
    "pts_hosp = pts[['patientunitstayid','ethnicity','hospitalid','wardid','region','numbedscategory',\n",
    "                'bedcount','teachingstatus','opioid','nsaid','painmeds']]\n",
    "pts_hosp.head()"
   ]
  },
  {
   "cell_type": "code",
   "execution_count": 144,
   "metadata": {},
   "outputs": [
    {
     "data": {
      "text/plain": [
       "Text(0, 0.5, 'Proportion Receiving Pain Medications')"
      ]
     },
     "execution_count": 144,
     "metadata": {},
     "output_type": "execute_result"
    },
    {
     "data": {
      "image/png": "[encoded data removed]",
      "text/plain": [
       "<Figure size 1008x324 with 1 Axes>"
      ]
     },
     "metadata": {
      "needs_background": "light"
     },
     "output_type": "display_data"
    }
   ],
   "source": [
    "plt.figure(figsize=(14, 4.5))\n",
    "sns.barplot(x='gender',y='painmeds',hue='ethnicity',data=pts, estimator=np.mean)\n",
    "plt.xlabel('Patient Gender')\n",
    "plt.ylabel('Proportion Receiving Pain Medications')"
   ]
  },
  {
   "cell_type": "code",
   "execution_count": 145,
   "metadata": {},
   "outputs": [
    {
     "data": {
      "text/plain": [
       "Text(0, 0.5, 'Proportion Receiving NSAIDs')"
      ]
     },
     "execution_count": 145,
     "metadata": {},
     "output_type": "execute_result"
    },
    {
     "data": {
      "image/png": "[encoded data removed]",
      "text/plain": [
       "<Figure size 1008x324 with 1 Axes>"
      ]
     },
     "metadata": {
      "needs_background": "light"
     },
     "output_type": "display_data"
    }
   ],
   "source": [
    "plt.figure(figsize=(14, 4.5))\n",
    "sns.barplot(x='gender',y='nsaid',hue='ethnicity',data=pts, estimator=np.mean)\n",
    "plt.xlabel('Patient Gender')\n",
    "plt.ylabel('Proportion Receiving NSAIDs')"
   ]
  },
  {
   "cell_type": "code",
   "execution_count": 146,
   "metadata": {},
   "outputs": [
    {
     "data": {
      "text/plain": [
       "Text(0, 0.5, 'Proportion Receiving Opioids')"
      ]
     },
     "execution_count": 146,
     "metadata": {},
     "output_type": "execute_result"
    },
    {
     "data": {
      "image/png": "[encoded data removed]",
      "text/plain": [
       "<Figure size 1008x324 with 1 Axes>"
      ]
     },
     "metadata": {
      "needs_background": "light"
     },
     "output_type": "display_data"
    }
   ],
   "source": [
    "plt.figure(figsize=(14, 4.5))\n",
    "sns.barplot(x='gender',y='opioid',hue='ethnicity',data=pts, estimator=np.mean)\n",
    "plt.xlabel('Patient Gender')\n",
    "plt.ylabel('Proportion Receiving Opioids')"
   ]
  },
  {
   "cell_type": "code",
   "execution_count": 155,
   "metadata": {},
   "outputs": [
    {
     "data": {
      "text/plain": [
       "Text(0, 0.5, 'Proportion Receiving Opioids')"
      ]
     },
     "execution_count": 155,
     "metadata": {},
     "output_type": "execute_result"
    },
    {
     "data": {
      "image/png": "[encoded data removed]",
      "text/plain": [
       "<Figure size 1008x324 with 1 Axes>"
      ]
     },
     "metadata": {
      "needs_background": "light"
     },
     "output_type": "display_data"
    }
   ],
   "source": [
    "plt.figure(figsize=(14, 4.5))\n",
    "sns.countplot(x='ethnicity', hue='opioid', data=pts)\n",
    "plt.xlabel('Patient Ethnicity')\n",
    "plt.ylabel('Proportion Receiving Opioids')"
   ]
  },
  {
   "cell_type": "code",
   "execution_count": 147,
   "metadata": {},
   "outputs": [
    {
     "data": {
      "text/html": [
       "<div>\n",
       "<style scoped>\n",
       "    .dataframe tbody tr th:only-of-type {\n",
       "        vertical-align: middle;\n",
       "    }\n",
       "\n",
       "    .dataframe tbody tr th {\n",
       "        vertical-align: top;\n",
       "    }\n",
       "\n",
       "    .dataframe thead th {\n",
       "        text-align: right;\n",
       "    }\n",
       "</style>\n",
       "<table border=\"1\" class=\"dataframe\">\n",
       "  <thead>\n",
       "    <tr style=\"text-align: right;\">\n",
       "      <th>ethnicity</th>\n",
       "      <th>African American</th>\n",
       "      <th>Asian</th>\n",
       "      <th>Caucasian</th>\n",
       "      <th>Hispanic</th>\n",
       "      <th>Native American</th>\n",
       "      <th>Other/Unknown</th>\n",
       "      <th>All</th>\n",
       "    </tr>\n",
       "    <tr>\n",
       "      <th>painmeds</th>\n",
       "      <th></th>\n",
       "      <th></th>\n",
       "      <th></th>\n",
       "      <th></th>\n",
       "      <th></th>\n",
       "      <th></th>\n",
       "      <th></th>\n",
       "    </tr>\n",
       "  </thead>\n",
       "  <tbody>\n",
       "    <tr>\n",
       "      <td>False</td>\n",
       "      <td>7133</td>\n",
       "      <td>1337</td>\n",
       "      <td>55862</td>\n",
       "      <td>2699</td>\n",
       "      <td>486</td>\n",
       "      <td>2787</td>\n",
       "      <td>70304</td>\n",
       "    </tr>\n",
       "    <tr>\n",
       "      <td>True</td>\n",
       "      <td>14170</td>\n",
       "      <td>1933</td>\n",
       "      <td>99411</td>\n",
       "      <td>4763</td>\n",
       "      <td>1214</td>\n",
       "      <td>6736</td>\n",
       "      <td>128227</td>\n",
       "    </tr>\n",
       "    <tr>\n",
       "      <td>All</td>\n",
       "      <td>21303</td>\n",
       "      <td>3270</td>\n",
       "      <td>155273</td>\n",
       "      <td>7462</td>\n",
       "      <td>1700</td>\n",
       "      <td>9523</td>\n",
       "      <td>198531</td>\n",
       "    </tr>\n",
       "  </tbody>\n",
       "</table>\n",
       "</div>"
      ],
      "text/plain": [
       "ethnicity  African American  Asian  Caucasian  Hispanic  Native American  \\\n",
       "painmeds                                                                   \n",
       "False                  7133   1337      55862      2699              486   \n",
       "True                  14170   1933      99411      4763             1214   \n",
       "All                   21303   3270     155273      7462             1700   \n",
       "\n",
       "ethnicity  Other/Unknown     All  \n",
       "painmeds                          \n",
       "False               2787   70304  \n",
       "True                6736  128227  \n",
       "All                 9523  198531  "
      ]
     },
     "execution_count": 147,
     "metadata": {},
     "output_type": "execute_result"
    }
   ],
   "source": [
    "ct_eth = pd.crosstab(pts.painmeds, pts.ethnicity, margins= True)\n",
    "ct_eth"
   ]
  },
  {
   "cell_type": "code",
   "execution_count": 148,
   "metadata": {},
   "outputs": [
    {
     "data": {
      "text/plain": [
       "Power_divergenceResult(statistic=103.71973779724273, pvalue=8.682723147564793e-21)"
      ]
     },
     "execution_count": 148,
     "metadata": {},
     "output_type": "execute_result"
    }
   ],
   "source": [
    "fobs = [14170, 1933, 99411, 4763, 1214, 6736]\n",
    "ftots = [21303, 3270, 155273, 7462, 1700, 9523]\n",
    "fexp = np.multiply(np.sum(fobs)/np.sum(ftots),ftots)\n",
    "stat.chisquare(f_obs = fobs, f_exp = fexp)"
   ]
  },
  {
   "cell_type": "code",
   "execution_count": 149,
   "metadata": {},
   "outputs": [
    {
     "data": {
      "text/html": [
       "<div>\n",
       "<style scoped>\n",
       "    .dataframe tbody tr th:only-of-type {\n",
       "        vertical-align: middle;\n",
       "    }\n",
       "\n",
       "    .dataframe tbody tr th {\n",
       "        vertical-align: top;\n",
       "    }\n",
       "\n",
       "    .dataframe thead th {\n",
       "        text-align: right;\n",
       "    }\n",
       "</style>\n",
       "<table border=\"1\" class=\"dataframe\">\n",
       "  <thead>\n",
       "    <tr style=\"text-align: right;\">\n",
       "      <th>ethnicity</th>\n",
       "      <th>African American</th>\n",
       "      <th>Asian</th>\n",
       "      <th>Caucasian</th>\n",
       "      <th>Hispanic</th>\n",
       "      <th>Native American</th>\n",
       "      <th>Other/Unknown</th>\n",
       "      <th>All</th>\n",
       "    </tr>\n",
       "    <tr>\n",
       "      <th>opioid</th>\n",
       "      <th></th>\n",
       "      <th></th>\n",
       "      <th></th>\n",
       "      <th></th>\n",
       "      <th></th>\n",
       "      <th></th>\n",
       "      <th></th>\n",
       "    </tr>\n",
       "  </thead>\n",
       "  <tbody>\n",
       "    <tr>\n",
       "      <td>False</td>\n",
       "      <td>10793</td>\n",
       "      <td>1783</td>\n",
       "      <td>79875</td>\n",
       "      <td>4287</td>\n",
       "      <td>711</td>\n",
       "      <td>4246</td>\n",
       "      <td>101695</td>\n",
       "    </tr>\n",
       "    <tr>\n",
       "      <td>True</td>\n",
       "      <td>10510</td>\n",
       "      <td>1487</td>\n",
       "      <td>75398</td>\n",
       "      <td>3175</td>\n",
       "      <td>989</td>\n",
       "      <td>5277</td>\n",
       "      <td>96836</td>\n",
       "    </tr>\n",
       "    <tr>\n",
       "      <td>All</td>\n",
       "      <td>21303</td>\n",
       "      <td>3270</td>\n",
       "      <td>155273</td>\n",
       "      <td>7462</td>\n",
       "      <td>1700</td>\n",
       "      <td>9523</td>\n",
       "      <td>198531</td>\n",
       "    </tr>\n",
       "  </tbody>\n",
       "</table>\n",
       "</div>"
      ],
      "text/plain": [
       "ethnicity  African American  Asian  Caucasian  Hispanic  Native American  \\\n",
       "opioid                                                                     \n",
       "False                 10793   1783      79875      4287              711   \n",
       "True                  10510   1487      75398      3175              989   \n",
       "All                   21303   3270     155273      7462             1700   \n",
       "\n",
       "ethnicity  Other/Unknown     All  \n",
       "opioid                            \n",
       "False               4246  101695  \n",
       "True                5277   96836  \n",
       "All                 9523  198531  "
      ]
     },
     "execution_count": 149,
     "metadata": {},
     "output_type": "execute_result"
    }
   ],
   "source": [
    "ct_op = pd.crosstab(pts.opioid, pts.ethnicity, margins= True)\n",
    "ct_op"
   ]
  },
  {
   "cell_type": "code",
   "execution_count": 150,
   "metadata": {},
   "outputs": [
    {
     "data": {
      "text/plain": [
       "Power_divergenceResult(statistic=186.31499162355408, pvalue=2.3954001712394935e-38)"
      ]
     },
     "execution_count": 150,
     "metadata": {},
     "output_type": "execute_result"
    }
   ],
   "source": [
    "fobs = [10510,1487,75398,3175,989,5277]\n",
    "ftots = [21303, 3270, 155273, 7462, 1700, 9523]\n",
    "fexp = np.multiply(np.sum(fobs)/np.sum(ftots),ftots)\n",
    "stat.chisquare(f_obs = fobs, f_exp = fexp)"
   ]
  },
  {
   "cell_type": "code",
   "execution_count": 151,
   "metadata": {},
   "outputs": [
    {
     "data": {
      "text/html": [
       "<div>\n",
       "<style scoped>\n",
       "    .dataframe tbody tr th:only-of-type {\n",
       "        vertical-align: middle;\n",
       "    }\n",
       "\n",
       "    .dataframe tbody tr th {\n",
       "        vertical-align: top;\n",
       "    }\n",
       "\n",
       "    .dataframe thead th {\n",
       "        text-align: right;\n",
       "    }\n",
       "</style>\n",
       "<table border=\"1\" class=\"dataframe\">\n",
       "  <thead>\n",
       "    <tr style=\"text-align: right;\">\n",
       "      <th>ethnicity</th>\n",
       "      <th>African American</th>\n",
       "      <th>Asian</th>\n",
       "      <th>Caucasian</th>\n",
       "      <th>Hispanic</th>\n",
       "      <th>Native American</th>\n",
       "      <th>Other/Unknown</th>\n",
       "      <th>All</th>\n",
       "    </tr>\n",
       "    <tr>\n",
       "      <th>nsaid</th>\n",
       "      <th></th>\n",
       "      <th></th>\n",
       "      <th></th>\n",
       "      <th></th>\n",
       "      <th></th>\n",
       "      <th></th>\n",
       "      <th></th>\n",
       "    </tr>\n",
       "  </thead>\n",
       "  <tbody>\n",
       "    <tr>\n",
       "      <td>False</td>\n",
       "      <td>9138</td>\n",
       "      <td>1582</td>\n",
       "      <td>71334</td>\n",
       "      <td>3311</td>\n",
       "      <td>832</td>\n",
       "      <td>3889</td>\n",
       "      <td>90086</td>\n",
       "    </tr>\n",
       "    <tr>\n",
       "      <td>True</td>\n",
       "      <td>12165</td>\n",
       "      <td>1688</td>\n",
       "      <td>83939</td>\n",
       "      <td>4151</td>\n",
       "      <td>868</td>\n",
       "      <td>5634</td>\n",
       "      <td>108445</td>\n",
       "    </tr>\n",
       "    <tr>\n",
       "      <td>All</td>\n",
       "      <td>21303</td>\n",
       "      <td>3270</td>\n",
       "      <td>155273</td>\n",
       "      <td>7462</td>\n",
       "      <td>1700</td>\n",
       "      <td>9523</td>\n",
       "      <td>198531</td>\n",
       "    </tr>\n",
       "  </tbody>\n",
       "</table>\n",
       "</div>"
      ],
      "text/plain": [
       "ethnicity  African American  Asian  Caucasian  Hispanic  Native American  \\\n",
       "nsaid                                                                      \n",
       "False                  9138   1582      71334      3311              832   \n",
       "True                  12165   1688      83939      4151              868   \n",
       "All                   21303   3270     155273      7462             1700   \n",
       "\n",
       "ethnicity  Other/Unknown     All  \n",
       "nsaid                             \n",
       "False               3889   90086  \n",
       "True                5634  108445  \n",
       "All                 9523  198531  "
      ]
     },
     "execution_count": 151,
     "metadata": {},
     "output_type": "execute_result"
    }
   ],
   "source": [
    "ct_ns = pd.crosstab(pts.nsaid, pts.ethnicity, margins= True)\n",
    "ct_ns"
   ]
  },
  {
   "cell_type": "code",
   "execution_count": 152,
   "metadata": {},
   "outputs": [
    {
     "data": {
      "text/plain": [
       "Power_divergenceResult(statistic=79.7096268834017, pvalue=9.651612780677456e-16)"
      ]
     },
     "execution_count": 152,
     "metadata": {},
     "output_type": "execute_result"
    }
   ],
   "source": [
    "fobs = [12165,1688,83939,4151,868,5634]\n",
    "ftots = [21303, 3270, 155273, 7462, 1700, 9523]\n",
    "fexp = np.multiply(np.sum(fobs)/np.sum(ftots),ftots)\n",
    "stat.chisquare(f_obs = fobs, f_exp = fexp)"
   ]
  },
  {
   "cell_type": "code",
   "execution_count": null,
   "metadata": {},
   "outputs": [],
   "source": [
    "dxs = pd.read_csv('eicu-collaborative-research-database-2.0/diagnosis.csv.gz')\n",
    "\n",
    "# adding icd9 codes\n",
    "dxs = dxs.drop(columns=['diagnosisid', 'activeupondischarge', 'diagnosisoffset', 'diagnosisstring'])\n",
    "dxs.dropna(inplace=True)\n",
    "\n",
    "# merge\n",
    "dxs = dxs.groupby('patientunitstayid')['icd9code'].apply(list).reset_index(name='icd9codes')\n",
    "pts = pd.merge(pts, dxs, on=['patientunitstayid'], how='left')"
   ]
  },
  {
   "cell_type": "code",
   "execution_count": null,
   "metadata": {},
   "outputs": [],
   "source": [
    "cpg = pd.read_csv('eicu-collaborative-research-database-2.0/carePlanGeneral.csv.gz')\n",
    "\n",
    "# adding ordered protocols\n",
    "cpg = cpg[cpg.cplgroup == 'Ordered Protocols']\n",
    "cpg.drop(columns=['cplgeneralid', 'activeupondischarge', 'cplitemoffset', 'cplgroup'], inplace = True)\n",
    "cpg.drop_duplicates(inplace=True)\n",
    "\n",
    "# merge\n",
    "cpg = cpg.groupby('patientunitstayid')['cplitemvalue'].apply(list).reset_index(name='orderedprotocols')\n",
    "pts = pd.merge(pts, cpg, on=['patientunitstayid'], how = 'left')"
   ]
  },
  {
   "cell_type": "code",
   "execution_count": null,
   "metadata": {},
   "outputs": [],
   "source": [
    "nsc = pd.read_csv('eicu-collaborative-research-database-2.0/nurseCharting.csv.gz')\n",
    "\n",
    "# adding pain scores\n",
    "nsc.drop(['nursingchartid', 'nursingchartoffset', \n",
    "          'nursingchartcelltypecat', 'nursingchartcelltypevallabel'], axis=1, inplace=True)\n",
    "nsc = nsc[nsc['nursingchartcelltypevalname'] == 'Pain Score']"
   ]
  },
  {
   "cell_type": "code",
   "execution_count": null,
   "metadata": {},
   "outputs": [],
   "source": [
    "valid = [0.0, 1.0, 2.0, 3.0, 4.0, 5.0, 6.0, 7.0, 8.0, 9.0, 10.0]\n",
    "\n",
    "nsc['nursingchartvalue'] = nsc['nursingchartvalue'].apply(lambda x: float(x))\n",
    "nsc = nsc[nsc['nursingchartvalue'].isin(valid)]\n",
    "\n",
    "nsc['nursingchartvalue'] = nsc['nursingchartvalue'].apply(lambda x: int(x))\n",
    "nsc.drop(['nursingchartcelltypevalname'], axis=1, inplace=True)"
   ]
  },
  {
   "cell_type": "code",
   "execution_count": null,
   "metadata": {},
   "outputs": [],
   "source": [
    "max_pain = nsc.groupby('patientunitstayid').max()\n",
    "mean_pain = nsc.groupby('patientunitstayid').mean()"
   ]
  },
  {
   "cell_type": "code",
   "execution_count": null,
   "metadata": {},
   "outputs": [],
   "source": [
    "def pain_val (x, arr):\n",
    "    try:\n",
    "        return round(arr['nursingchartvalue'][x])\n",
    "    except:\n",
    "        return np.nan\n",
    "\n",
    "pts['max_pain'] = pts['patientunitstayid'].apply(lambda x: pain_val(x, max_pain))\n",
    "pts['mean_pain'] = pts['patientunitstayid'].apply(lambda x: pain_val(x, mean_pain))"
   ]
  },
  {
   "cell_type": "code",
   "execution_count": null,
   "metadata": {},
   "outputs": [],
   "source": [
    "# Two way T test for Native American no-analgesia vs all other Ethnicities no-analgesia PAIN SCORES\n",
    "npts = pts[pts.painmeds == False]\n",
    "\n",
    "natpts = npts[npts.ethnicity == 'Native American']\n",
    "othpts = npts[npts.ethnicity != 'Native American']\n",
    "\n",
    "print(stat.ttest_ind(natpts.mean_pain.dropna(), othpts.mean_pain.dropna()))"
   ]
  },
  {
   "cell_type": "markdown",
   "metadata": {},
   "source": [
    "**Difference in pain scores between Native American no-analgesia vs all other Ethnicities no-analgesia not significant**"
   ]
  },
  {
   "cell_type": "code",
   "execution_count": null,
   "metadata": {},
   "outputs": [],
   "source": [
    "# pts['native'] = pts.ethnicity\n",
    "\n",
    "# pts.native.replace('African American', 'Non-native', inplace=True)\n",
    "# pts.native.replace('Asian', 'Non-native', inplace=True)\n",
    "# pts.native.replace('Caucasian', 'Non-native', inplace=True)\n",
    "# pts.native.replace('Hispanic', 'Non-native', inplace=True)\n",
    "# pts.native.replace('Other/Unknown', 'Non-native', inplace=True)\n",
    "# pts.native.replace('Native American', 'Native', inplace=True)"
   ]
  },
  {
   "cell_type": "code",
   "execution_count": null,
   "metadata": {},
   "outputs": [],
   "source": [
    "ct_eth = pd.crosstab(pts.painmeds, pts.ethnicity, margins= True)\n",
    "ct_eth"
   ]
  },
  {
   "cell_type": "code",
   "execution_count": null,
   "metadata": {},
   "outputs": [],
   "source": [
    "fobs = [14550, 1953, 100655, 4770, 1218, 6796]\n",
    "ftots = [21303, 3270, 155273, 7462, 1700, 9523]\n",
    "fexp = np.multiply(np.sum(fobs)/np.sum(ftots),ftots)\n",
    "stat.chisquare(f_obs = fobs, f_exp = fexp)"
   ]
  },
  {
   "cell_type": "markdown",
   "metadata": {},
   "source": [
    "_____\n",
    "#### Temporal Analysis"
   ]
  },
  {
   "cell_type": "code",
   "execution_count": null,
   "metadata": {},
   "outputs": [],
   "source": [
    "med.head()"
   ]
  },
  {
   "cell_type": "code",
   "execution_count": null,
   "metadata": {},
   "outputs": [],
   "source": [
    "med['duration_min'] = med.drugstopoffset - med.drugstartoffset\n",
    "med.drop(columns=['drugstopoffset'], inplace=True)"
   ]
  },
  {
   "cell_type": "code",
   "execution_count": null,
   "metadata": {},
   "outputs": [],
   "source": [
    "med.dropna(inplace=True)"
   ]
  },
  {
   "cell_type": "code",
   "execution_count": null,
   "metadata": {},
   "outputs": [],
   "source": [
    "opi = med[med.opioid==1]"
   ]
  },
  {
   "cell_type": "code",
   "execution_count": null,
   "metadata": {},
   "outputs": [],
   "source": [
    "opi.head()"
   ]
  },
  {
   "cell_type": "code",
   "execution_count": null,
   "metadata": {},
   "outputs": [],
   "source": [
    "opi = opi[opi.frequency != 'Pyxis']\n",
    "opi.dosage.replace('MG', \"1 MG\", inplace = True)\n",
    "opi.dosage.replace('Manual Charge', '1 mg')"
   ]
  },
  {
   "cell_type": "code",
   "execution_count": null,
   "metadata": {},
   "outputs": [],
   "source": [
    "def cases (x):\n",
    "    \n",
    "    try:\n",
    "        if 'mcg/hr' in x.lower():\n",
    "            regex = re.findall(r\"[-+]?\\d*\\.\\d+|\\d+\", x)\n",
    "            regex = [float(i) for i in regex]\n",
    "\n",
    "            if len(regex) > 1:\n",
    "                return str(regex[-1]/1000)\n",
    "            else:\n",
    "                return str(regex[0]/1000)\n",
    "    \n",
    "        elif 'mg' in x.lower():\n",
    "            regex = re.findall(r\"[-+]?\\d*\\.\\d+|\\d+\", x)\n",
    "            regex = [float(i) for i in regex]\n",
    "\n",
    "            if len(regex) > 1:\n",
    "                return regex[-1]\n",
    "            else:\n",
    "                return regex[0]\n",
    "\n",
    "        elif 'mcg' in x.lower():\n",
    "            regex = re.findall(r\"[-+]?\\d*\\.\\d+|\\d+\", x)\n",
    "            regex = [float(i) for i in regex]\n",
    "\n",
    "            if len(regex) > 1:\n",
    "                return regex[-1]/1000\n",
    "            else:\n",
    "                return regex[0]/1000\n",
    "        else:\n",
    "            return \"n/a\"\n",
    "    except:\n",
    "        return \"n/a\"\n",
    "    \n",
    "opi['dos_mg'] = opi.dosage.apply(lambda x: cases(x))"
   ]
  },
  {
   "cell_type": "code",
   "execution_count": null,
   "metadata": {},
   "outputs": [],
   "source": [
    "count = 0\n",
    "drugnames = []\n",
    "\n",
    "for index, row in opi.iterrows():\n",
    "    if type(row.dos_mg) == str:\n",
    "        if 'tab' in row.dos_mg:\n",
    "            drugnames.append(row.drugname)\n",
    "\n",
    "set(drugnames)"
   ]
  },
  {
   "cell_type": "code",
   "execution_count": null,
   "metadata": {},
   "outputs": [],
   "source": [
    "#morphine equivalent/day/stay"
   ]
  },
  {
   "cell_type": "code",
   "execution_count": null,
   "metadata": {},
   "outputs": [],
   "source": [
    "opi.drugname.replace('HYDROCODONE 5 MG-ACETAMINOPHEN 325 MG TABLET', 'HYDROCODONE-ACETAMINOPHEN 5-325 MG PO TABS', inplace = True)\n",
    "opi.drugname.replace('HYDROCODONE/APAP 5MG/325MG', 'HYDROCODONE-ACETAMINOPHEN 5-325 MG PO TABS', inplace = True)\n",
    "opi.drugname.replace('HYDROcodone-acetaminophen', 'HYDROCODONE-ACETAMINOPHEN 5-325 MG PO TABS', inplace = True)\n",
    "opi.drugname.replace('NORCO', 'HYDROCODONE-ACETAMINOPHEN 5-325 MG PO TABS', inplace = True)\n",
    "opi.drugname.replace('NORCO 5/325 TAB', 'HYDROCODONE-ACETAMINOPHEN 5-325 MG PO TABS', inplace = True)\n",
    "opi.drugname.replace('Norco 5 mg-325 mg', 'HYDROCODONE-ACETAMINOPHEN 5-325 MG PO TABS', inplace = True)\n",
    "\n",
    "opi.drugname.replace('OXYCODONE-ACETAMIN 5-325 MG', 'OXYCODONE-ACETAMINOPHEN 5-325 MG PO TABS', inplace = True)\n",
    "opi.drugname.replace('OXYCODONE/APAP 5MG/325MG', 'OXYCODONE-ACETAMINOPHEN 5-325 MG PO TABS', inplace = True)\n",
    "opi.drugname.replace('PERCOCET', 'OXYCODONE-ACETAMINOPHEN 5-325 MG PO TABS', inplace = True)\n",
    "opi.drugname.replace('PERCOCET 5/325 TAB', 'OXYCODONE-ACETAMINOPHEN 5-325 MG PO TABS', inplace = True)\n",
    "opi.drugname.replace('PERCOCET 5MG/325MG', 'OXYCODONE-ACETAMINOPHEN 5-325 MG PO TABS', inplace = True)\n",
    "\n",
    "opi.drugname.replace('acetaminophen-oxyCODONE 325 mg-5 mg oral tablet', 'OXYCODONE-ACETAMINOPHEN 5-325 MG PO TABS', inplace = True)\n",
    "opi.drugname.replace('oxyCODONE-acetaminophen', 'OXYCODONE-ACETAMINOPHEN 5-325 MG PO TABS', inplace = True)\n",
    "opi.drugname.replace('oxycodone-acetaminophen 5-325 mg po tabs', 'OXYCODONE-ACETAMINOPHEN 5-325 MG PO TABS', inplace = True)\n",
    "\n",
    "opi.drugname.replace('traMADol 50 MG TAB', 'TRAMADOL HCL 50 MG PO TABS', inplace = True)"
   ]
  },
  {
   "cell_type": "markdown",
   "metadata": {},
   "source": [
    "Replacing all special cases"
   ]
  },
  {
   "cell_type": "code",
   "execution_count": null,
   "metadata": {},
   "outputs": [],
   "source": [
    "opi_na = opi[opi.dos_mg == 'n/a']\n",
    "opi_na.drugname.value_counts()"
   ]
  },
  {
   "cell_type": "code",
   "execution_count": null,
   "metadata": {},
   "outputs": [],
   "source": [
    "tablets_5mg = ['OXYCODONE-ACETAMINOPHEN 5-325 MG PO TABS',\n",
    "               'HYDROCODONE-ACETAMINOPHEN 5-325 MG PO TABS',\n",
    "               'OXYCODONE HCL 5 MG PO TABS']\n",
    "soln_1mgml = ['1 ML  -  HYDROMORPHONE HCL 1 MG/ML IJ SOLN',\n",
    "              'MORPHINE INJ',\n",
    "              'morphine',\n",
    "              'HYDROMORPHONE', \n",
    "              'fentaNYL CITRATE INJ',\n",
    "              'fentaNYL 1000 MCG IN 100 ML NS',\n",
    "              'HYDROMORPHONE INJ', \n",
    "              'HYDROmorphone']\n",
    "\n",
    "for index, row in opi_na.iterrows():\n",
    "    if row.drugname in tablets_5mg:\n",
    "        regex = re.findall(r\"[-+]?\\d*\\.\\d+|\\d+\", row.dosage)\n",
    "        regex = [float(i) for i in regex]\n",
    "        opi.at[index, 'dos_mg'] = regex[0]*5\n",
    "    elif row.drugname in 'HYDROCODONE-ACETAMINOPHEN 10-325 MG PO TABS':\n",
    "        regex = re.findall(r\"[-+]?\\d*\\.\\d+|\\d+\", row.dosage)\n",
    "        regex = [float(i) for i in regex]\n",
    "        opi.at[index, 'dos_mg'] = regex[0]*10\n",
    "    elif row.drugname in soln_1mgml:\n",
    "        regex = re.findall(r\"[-+]?\\d*\\.\\d+|\\d+\", row.dosage)\n",
    "        regex = [float(i) for i in regex]\n",
    "        if len(regex) == 0:\n",
    "            regex = 1.0\n",
    "            opi.at[index, 'dos_mg'] = regex\n",
    "        else:\n",
    "            opi.at[index, 'dos_mg'] = regex[0]\n",
    "    elif row.drugname == '2 ML  -  FENTANYL CITRATE 0.05 MG/ML IJ SOLN':\n",
    "        regex = re.findall(r\"[-+]?\\d*\\.\\d+|\\d+\", row.dosage)\n",
    "        regex = [float(i) for i in regex]\n",
    "        opi.at[index, 'dos_mg'] = regex[0]*0.1\n",
    "    elif row.drugname == 'fentaNYL citrate (PF)':\n",
    "        regex = re.findall(r\"[-+]?\\d*\\.\\d+|\\d+\", row.dosage)\n",
    "        regex = [float(i) for i in regex]\n",
    "        opi.at[index, 'dos_mg'] = regex[0]*0.05 # https://www.rxlist.com/fentanyl-citrate-injection-drug.htm\n",
    "    elif row.drugname == 'FENTANYL 2000 MCG/100 ML NS':\n",
    "        regex = re.findall(r\"[-+]?\\d*\\.\\d+|\\d+\", row.dosage)\n",
    "        regex = [float(i) for i in regex]\n",
    "        opi.at[index, 'dos_mg'] = 2.0 # only 1 case\n",
    "    elif row.drugname == 'fentaNYL':\n",
    "        regex = re.findall(r\"[-+]?\\d*\\.\\d+|\\d+\", row.dosage)\n",
    "        regex = [float(i) for i in regex]\n",
    "        opi.at[index, 'dos_mg'] = 0.025 # https://www.uptodate.com/contents/fentanyl-drug-information"
   ]
  },
  {
   "cell_type": "code",
   "execution_count": null,
   "metadata": {},
   "outputs": [],
   "source": [
    "opi = opi[opi.dos_mg != 'n/a']"
   ]
  },
  {
   "cell_type": "markdown",
   "metadata": {},
   "source": [
    "#### Export Frequencies and Import Filled Frequencies from SE"
   ]
  },
  {
   "cell_type": "code",
   "execution_count": null,
   "metadata": {},
   "outputs": [],
   "source": [
    "freqs = opi.frequency.value_counts().index.to_list()\n",
    "\n",
    "d = {'freqs': freqs, 'doses_per_day': np.nan}\n",
    "df = pd.DataFrame(data=d)\n",
    "df.to_csv('fillout_freqs.csv')"
   ]
  },
  {
   "cell_type": "code",
   "execution_count": null,
   "metadata": {},
   "outputs": [],
   "source": [
    "freqs = pd.read_csv('freqs_filled.csv')\n",
    "freqs['freqs'] = freqs['freqs'].str.replace(' ', '', regex=True)\n",
    "freqs.set_index('freqs', inplace=True)\n",
    "\n",
    "freq_lookup = freqs.to_dict()"
   ]
  },
  {
   "cell_type": "code",
   "execution_count": null,
   "metadata": {},
   "outputs": [],
   "source": [
    "def per_day(x, lookup):\n",
    "\n",
    "    if x == '0900,1500,2100':\n",
    "        return 3\n",
    "    elif x == '0900' or x == '0730':\n",
    "        return 1\n",
    "    else:\n",
    "        return lookup['doses_per_day'][x]"
   ]
  },
  {
   "cell_type": "code",
   "execution_count": null,
   "metadata": {},
   "outputs": [],
   "source": [
    "opi.frequency = opi.frequency.str.replace(' ', '', regex=True)\n",
    "opi['doses_per_day'] = opi.frequency.apply(lambda x:per_day(x, freq_lookup))"
   ]
  },
  {
   "cell_type": "code",
   "execution_count": null,
   "metadata": {},
   "outputs": [],
   "source": [
    "opi.head()"
   ]
  },
  {
   "cell_type": "code",
   "execution_count": null,
   "metadata": {},
   "outputs": [],
   "source": [
    "opi['durations_days'] = opi['duration_min']/1440"
   ]
  },
  {
   "cell_type": "code",
   "execution_count": null,
   "metadata": {},
   "outputs": [],
   "source": [
    "opi.drop(columns=['dosage','frequency','duration_min'],inplace=True)"
   ]
  },
  {
   "cell_type": "code",
   "execution_count": null,
   "metadata": {},
   "outputs": [],
   "source": [
    "opi.head()"
   ]
  },
  {
   "cell_type": "markdown",
   "metadata": {},
   "source": [
    "### Morphine Equivalence (MME)\n",
    "https://mmcp.health.maryland.gov/healthchoice/opioid-dur-workgroup/Documents/opioid_morphine_eq_conversion_factors_april2017.pdf"
   ]
  },
  {
   "cell_type": "code",
   "execution_count": null,
   "metadata": {},
   "outputs": [],
   "source": [
    "morphine_equivalents = { # in mg per day\n",
    "    'codeine': 0.15,\n",
    "    'fentanyl': 2.4,\n",
    "    'hydrocodone': 1.0,\n",
    "    'hydromorphone': 4.0,\n",
    "    'methadone': 4.0,\n",
    "    'morphine': 1.0,\n",
    "    'oxycodone': 1.5,\n",
    "    'oxymorphone': 3.0,\n",
    "    'tapentadol': 0.4,\n",
    "    'tramadol': 0.1,\n",
    "    'meperidine': 0.1,\n",
    "    'carfentanil': 240 # https://pubchem.ncbi.nlm.nih.gov/compound/Carfentanil#section=IUPAC-Name\n",
    "}"
   ]
  },
  {
   "cell_type": "code",
   "execution_count": null,
   "metadata": {},
   "outputs": [],
   "source": [
    "def opioid_name (x):\n",
    "    \n",
    "    opiods = ['hydromorphone','hydrocodone','morphine','oxycodone','oxymorphone','codeine','fentanyl','meperidine',\n",
    "              'tramadol','carfentanil','percocet','norco']\n",
    "\n",
    "    for i in opiods:\n",
    "        if i in str(x).lower():\n",
    "            if i == 'percocet':\n",
    "                return 'oxycodone'\n",
    "            elif i == 'norco':\n",
    "                return 'hydrocodone'\n",
    "            else:\n",
    "                return i"
   ]
  },
  {
   "cell_type": "code",
   "execution_count": null,
   "metadata": {},
   "outputs": [],
   "source": [
    "opi['opioid_name']= opi.drugname.apply(lambda x:opioid_name(x))"
   ]
  },
  {
   "cell_type": "code",
   "execution_count": null,
   "metadata": {},
   "outputs": [],
   "source": [
    "def mme_calc (x, di):\n",
    "    return di[x]\n",
    "\n",
    "opi['mme'] = opi.opioid_name.apply(lambda x:mme_calc(x,morphine_equivalents))"
   ]
  },
  {
   "cell_type": "code",
   "execution_count": null,
   "metadata": {},
   "outputs": [],
   "source": [
    "opi['dos_mg'] = opi.dos_mg.apply(lambda x: float(x))\n",
    "opi['doses_per_day'] = opi.doses_per_day.apply(lambda x: float(x))\n",
    "opi['mme'] = opi.mme.apply(lambda x: float(x))\n",
    "opi['durations_days'] = opi.durations_days.apply(lambda x: float(x))"
   ]
  },
  {
   "cell_type": "code",
   "execution_count": null,
   "metadata": {},
   "outputs": [],
   "source": [
    "opi['mme_per_day'] = opi['dos_mg'] * opi['doses_per_day'] * opi['mme']\n",
    "opi['mme_total'] = opi['mme_per_day'] * opi['durations_days']"
   ]
  },
  {
   "cell_type": "code",
   "execution_count": null,
   "metadata": {},
   "outputs": [],
   "source": [
    "opi.head()"
   ]
  },
  {
   "cell_type": "code",
   "execution_count": null,
   "metadata": {},
   "outputs": [],
   "source": [
    "opi.to_csv('opioids_final.csv')"
   ]
  },
  {
   "cell_type": "markdown",
   "metadata": {},
   "source": [
    "### Import Opi & Analyze"
   ]
  },
  {
   "cell_type": "code",
   "execution_count": 18,
   "metadata": {},
   "outputs": [],
   "source": [
    "opi = pd.read_csv('opioids_final.csv')"
   ]
  },
  {
   "cell_type": "code",
   "execution_count": 19,
   "metadata": {},
   "outputs": [],
   "source": [
    "opi = pd.merge(opi, pts, on=['patientunitstayid'], how = 'left')"
   ]
  },
  {
   "cell_type": "code",
   "execution_count": 20,
   "metadata": {},
   "outputs": [
    {
     "data": {
      "text/html": [
       "<div>\n",
       "<style scoped>\n",
       "    .dataframe tbody tr th:only-of-type {\n",
       "        vertical-align: middle;\n",
       "    }\n",
       "\n",
       "    .dataframe tbody tr th {\n",
       "        vertical-align: top;\n",
       "    }\n",
       "\n",
       "    .dataframe thead th {\n",
       "        text-align: right;\n",
       "    }\n",
       "</style>\n",
       "<table border=\"1\" class=\"dataframe\">\n",
       "  <thead>\n",
       "    <tr style=\"text-align: right;\">\n",
       "      <th></th>\n",
       "      <th>Unnamed: 0</th>\n",
       "      <th>patientunitstayid</th>\n",
       "      <th>drugstartoffset</th>\n",
       "      <th>drugname</th>\n",
       "      <th>opioid_x</th>\n",
       "      <th>nsaid_x</th>\n",
       "      <th>dos_mg</th>\n",
       "      <th>doses_per_day</th>\n",
       "      <th>durations_days</th>\n",
       "      <th>opioid_name</th>\n",
       "      <th>mme</th>\n",
       "      <th>mme_per_day</th>\n",
       "      <th>mme_total</th>\n",
       "      <th>patienthealthsystemstayid</th>\n",
       "      <th>gender</th>\n",
       "      <th>age</th>\n",
       "      <th>ethnicity</th>\n",
       "      <th>hospitalid</th>\n",
       "      <th>wardid</th>\n",
       "      <th>apacheadmissiondx</th>\n",
       "      <th>admissionheight</th>\n",
       "      <th>hospitaladmittime24</th>\n",
       "      <th>hospitaladmitoffset</th>\n",
       "      <th>hospitaladmitsource</th>\n",
       "      <th>hospitaldischargeyear</th>\n",
       "      <th>hospitaldischargetime24</th>\n",
       "      <th>hospitaldischargeoffset</th>\n",
       "      <th>hospitaldischargelocation</th>\n",
       "      <th>hospitaldischargestatus</th>\n",
       "      <th>unittype</th>\n",
       "      <th>unitadmittime24</th>\n",
       "      <th>unitadmitsource</th>\n",
       "      <th>unitvisitnumber</th>\n",
       "      <th>unitstaytype</th>\n",
       "      <th>admissionweight</th>\n",
       "      <th>dischargeweight</th>\n",
       "      <th>unitdischargetime24</th>\n",
       "      <th>unitdischargeoffset</th>\n",
       "      <th>unitdischargelocation</th>\n",
       "      <th>unitdischargestatus</th>\n",
       "      <th>uniquepid</th>\n",
       "      <th>opioid_y</th>\n",
       "      <th>nsaid_y</th>\n",
       "      <th>numbedscategory</th>\n",
       "      <th>teachingstatus</th>\n",
       "      <th>region</th>\n",
       "      <th>painmeds</th>\n",
       "    </tr>\n",
       "  </thead>\n",
       "  <tbody>\n",
       "    <tr>\n",
       "      <td>0</td>\n",
       "      <td>15</td>\n",
       "      <td>141194</td>\n",
       "      <td>2109</td>\n",
       "      <td>1 ML  -  HYDROMORPHONE HCL 1 MG/ML IJ SOLN</td>\n",
       "      <td>1</td>\n",
       "      <td>0</td>\n",
       "      <td>0.4</td>\n",
       "      <td>8.0</td>\n",
       "      <td>7.300694</td>\n",
       "      <td>hydromorphone</td>\n",
       "      <td>4.0</td>\n",
       "      <td>12.8</td>\n",
       "      <td>93.448889</td>\n",
       "      <td>128941.0</td>\n",
       "      <td>Male</td>\n",
       "      <td>68.0</td>\n",
       "      <td>Caucasian</td>\n",
       "      <td>73.0</td>\n",
       "      <td>92.0</td>\n",
       "      <td>Sepsis, renal/UTI (including bladder)</td>\n",
       "      <td>180.3</td>\n",
       "      <td>18:18:40</td>\n",
       "      <td>-780.0</td>\n",
       "      <td>Floor</td>\n",
       "      <td>2015.0</td>\n",
       "      <td>23:30:00</td>\n",
       "      <td>12492.0</td>\n",
       "      <td>Home</td>\n",
       "      <td>Alive</td>\n",
       "      <td>CTICU</td>\n",
       "      <td>07:18:00</td>\n",
       "      <td>Floor</td>\n",
       "      <td>1.0</td>\n",
       "      <td>admit</td>\n",
       "      <td>73.9</td>\n",
       "      <td>76.7</td>\n",
       "      <td>15:31:00</td>\n",
       "      <td>4813.0</td>\n",
       "      <td>Floor</td>\n",
       "      <td>Alive</td>\n",
       "      <td>002-5276</td>\n",
       "      <td>True</td>\n",
       "      <td>True</td>\n",
       "      <td>&gt;= 500</td>\n",
       "      <td>t</td>\n",
       "      <td>Midwest</td>\n",
       "      <td>True</td>\n",
       "    </tr>\n",
       "    <tr>\n",
       "      <td>1</td>\n",
       "      <td>37</td>\n",
       "      <td>141203</td>\n",
       "      <td>1873</td>\n",
       "      <td>MORPHINE INJ</td>\n",
       "      <td>1</td>\n",
       "      <td>0</td>\n",
       "      <td>2.0</td>\n",
       "      <td>96.0</td>\n",
       "      <td>1.608333</td>\n",
       "      <td>morphine</td>\n",
       "      <td>1.0</td>\n",
       "      <td>192.0</td>\n",
       "      <td>308.800000</td>\n",
       "      <td>128948.0</td>\n",
       "      <td>Female</td>\n",
       "      <td>77.0</td>\n",
       "      <td>Caucasian</td>\n",
       "      <td>66.0</td>\n",
       "      <td>90.0</td>\n",
       "      <td>Arrest, respiratory (without cardiac arrest)</td>\n",
       "      <td>160.0</td>\n",
       "      <td>22:23:00</td>\n",
       "      <td>-1336.0</td>\n",
       "      <td>Floor</td>\n",
       "      <td>2014.0</td>\n",
       "      <td>16:22:00</td>\n",
       "      <td>4063.0</td>\n",
       "      <td>Other External</td>\n",
       "      <td>Alive</td>\n",
       "      <td>Med-Surg ICU</td>\n",
       "      <td>20:39:00</td>\n",
       "      <td>Floor</td>\n",
       "      <td>1.0</td>\n",
       "      <td>admit</td>\n",
       "      <td>70.2</td>\n",
       "      <td>70.3</td>\n",
       "      <td>03:48:00</td>\n",
       "      <td>1869.0</td>\n",
       "      <td>Floor</td>\n",
       "      <td>Alive</td>\n",
       "      <td>002-23234</td>\n",
       "      <td>True</td>\n",
       "      <td>True</td>\n",
       "      <td>100 - 249</td>\n",
       "      <td>f</td>\n",
       "      <td>Midwest</td>\n",
       "      <td>True</td>\n",
       "    </tr>\n",
       "    <tr>\n",
       "      <td>2</td>\n",
       "      <td>62</td>\n",
       "      <td>141229</td>\n",
       "      <td>-100</td>\n",
       "      <td>MORPHINE INJ</td>\n",
       "      <td>1</td>\n",
       "      <td>0</td>\n",
       "      <td>4.0</td>\n",
       "      <td>48.0</td>\n",
       "      <td>2.588889</td>\n",
       "      <td>morphine</td>\n",
       "      <td>1.0</td>\n",
       "      <td>192.0</td>\n",
       "      <td>497.066667</td>\n",
       "      <td>128970.0</td>\n",
       "      <td>Female</td>\n",
       "      <td>90.0</td>\n",
       "      <td>Caucasian</td>\n",
       "      <td>63.0</td>\n",
       "      <td>95.0</td>\n",
       "      <td>CHF, congestive heart failure</td>\n",
       "      <td>160.0</td>\n",
       "      <td>11:52:00</td>\n",
       "      <td>-4.0</td>\n",
       "      <td>Emergency Department</td>\n",
       "      <td>2014.0</td>\n",
       "      <td>22:15:00</td>\n",
       "      <td>3499.0</td>\n",
       "      <td>Skilled Nursing Facility</td>\n",
       "      <td>Alive</td>\n",
       "      <td>Med-Surg ICU</td>\n",
       "      <td>11:56:00</td>\n",
       "      <td>Emergency Department</td>\n",
       "      <td>1.0</td>\n",
       "      <td>admit</td>\n",
       "      <td>89.8</td>\n",
       "      <td>86.6</td>\n",
       "      <td>14:42:00</td>\n",
       "      <td>166.0</td>\n",
       "      <td>Floor</td>\n",
       "      <td>Alive</td>\n",
       "      <td>002-54296</td>\n",
       "      <td>True</td>\n",
       "      <td>True</td>\n",
       "      <td>100 - 249</td>\n",
       "      <td>f</td>\n",
       "      <td>Midwest</td>\n",
       "      <td>True</td>\n",
       "    </tr>\n",
       "    <tr>\n",
       "      <td>3</td>\n",
       "      <td>94</td>\n",
       "      <td>141244</td>\n",
       "      <td>-11713</td>\n",
       "      <td>MORPHINE INJ</td>\n",
       "      <td>1</td>\n",
       "      <td>0</td>\n",
       "      <td>4.0</td>\n",
       "      <td>48.0</td>\n",
       "      <td>0.136111</td>\n",
       "      <td>morphine</td>\n",
       "      <td>1.0</td>\n",
       "      <td>192.0</td>\n",
       "      <td>26.133333</td>\n",
       "      <td>128982.0</td>\n",
       "      <td>Male</td>\n",
       "      <td>59.0</td>\n",
       "      <td>Caucasian</td>\n",
       "      <td>73.0</td>\n",
       "      <td>92.0</td>\n",
       "      <td>Graft, femoral-popliteal bypass</td>\n",
       "      <td>180.3</td>\n",
       "      <td>01:36:00</td>\n",
       "      <td>-11544.0</td>\n",
       "      <td>Operating Room</td>\n",
       "      <td>2015.0</td>\n",
       "      <td>20:15:00</td>\n",
       "      <td>8295.0</td>\n",
       "      <td>Home</td>\n",
       "      <td>Alive</td>\n",
       "      <td>CTICU</td>\n",
       "      <td>02:00:00</td>\n",
       "      <td>Operating Room</td>\n",
       "      <td>1.0</td>\n",
       "      <td>admit</td>\n",
       "      <td>92.3</td>\n",
       "      <td>94.4</td>\n",
       "      <td>17:55:00</td>\n",
       "      <td>3835.0</td>\n",
       "      <td>Floor</td>\n",
       "      <td>Alive</td>\n",
       "      <td>002-23372</td>\n",
       "      <td>True</td>\n",
       "      <td>True</td>\n",
       "      <td>&gt;= 500</td>\n",
       "      <td>t</td>\n",
       "      <td>Midwest</td>\n",
       "      <td>True</td>\n",
       "    </tr>\n",
       "    <tr>\n",
       "      <td>4</td>\n",
       "      <td>104</td>\n",
       "      <td>141260</td>\n",
       "      <td>30</td>\n",
       "      <td>OXYCODONE-ACETAMINOPHEN 5-325 MG PO TABS</td>\n",
       "      <td>1</td>\n",
       "      <td>1</td>\n",
       "      <td>5.0</td>\n",
       "      <td>4.0</td>\n",
       "      <td>1.367361</td>\n",
       "      <td>oxycodone</td>\n",
       "      <td>1.5</td>\n",
       "      <td>30.0</td>\n",
       "      <td>41.020833</td>\n",
       "      <td>128995.0</td>\n",
       "      <td>Female</td>\n",
       "      <td>43.0</td>\n",
       "      <td>African American</td>\n",
       "      <td>73.0</td>\n",
       "      <td>99.0</td>\n",
       "      <td>Asthma</td>\n",
       "      <td>172.7</td>\n",
       "      <td>01:57:00</td>\n",
       "      <td>-18.0</td>\n",
       "      <td>Emergency Department</td>\n",
       "      <td>2015.0</td>\n",
       "      <td>09:34:00</td>\n",
       "      <td>1879.0</td>\n",
       "      <td>Other</td>\n",
       "      <td>Alive</td>\n",
       "      <td>Med-Surg ICU</td>\n",
       "      <td>02:15:00</td>\n",
       "      <td>Emergency Department</td>\n",
       "      <td>1.0</td>\n",
       "      <td>admit</td>\n",
       "      <td>69.9</td>\n",
       "      <td>70.3</td>\n",
       "      <td>20:08:00</td>\n",
       "      <td>1073.0</td>\n",
       "      <td>Floor</td>\n",
       "      <td>Alive</td>\n",
       "      <td>002-55885</td>\n",
       "      <td>True</td>\n",
       "      <td>True</td>\n",
       "      <td>&gt;= 500</td>\n",
       "      <td>t</td>\n",
       "      <td>Midwest</td>\n",
       "      <td>True</td>\n",
       "    </tr>\n",
       "  </tbody>\n",
       "</table>\n",
       "</div>"
      ],
      "text/plain": [
       "   Unnamed: 0  patientunitstayid  drugstartoffset  \\\n",
       "0          15             141194             2109   \n",
       "1          37             141203             1873   \n",
       "2          62             141229             -100   \n",
       "3          94             141244           -11713   \n",
       "4         104             141260               30   \n",
       "\n",
       "                                     drugname  opioid_x  nsaid_x  dos_mg  \\\n",
       "0  1 ML  -  HYDROMORPHONE HCL 1 MG/ML IJ SOLN         1        0     0.4   \n",
       "1                                MORPHINE INJ         1        0     2.0   \n",
       "2                                MORPHINE INJ         1        0     4.0   \n",
       "3                                MORPHINE INJ         1        0     4.0   \n",
       "4    OXYCODONE-ACETAMINOPHEN 5-325 MG PO TABS         1        1     5.0   \n",
       "\n",
       "   doses_per_day  durations_days    opioid_name  mme  mme_per_day   mme_total  \\\n",
       "0            8.0        7.300694  hydromorphone  4.0         12.8   93.448889   \n",
       "1           96.0        1.608333       morphine  1.0        192.0  308.800000   \n",
       "2           48.0        2.588889       morphine  1.0        192.0  497.066667   \n",
       "3           48.0        0.136111       morphine  1.0        192.0   26.133333   \n",
       "4            4.0        1.367361      oxycodone  1.5         30.0   41.020833   \n",
       "\n",
       "   patienthealthsystemstayid  gender   age         ethnicity  hospitalid  \\\n",
       "0                   128941.0    Male  68.0         Caucasian        73.0   \n",
       "1                   128948.0  Female  77.0         Caucasian        66.0   \n",
       "2                   128970.0  Female  90.0         Caucasian        63.0   \n",
       "3                   128982.0    Male  59.0         Caucasian        73.0   \n",
       "4                   128995.0  Female  43.0  African American        73.0   \n",
       "\n",
       "   wardid                             apacheadmissiondx  admissionheight  \\\n",
       "0    92.0         Sepsis, renal/UTI (including bladder)            180.3   \n",
       "1    90.0  Arrest, respiratory (without cardiac arrest)            160.0   \n",
       "2    95.0                 CHF, congestive heart failure            160.0   \n",
       "3    92.0               Graft, femoral-popliteal bypass            180.3   \n",
       "4    99.0                                        Asthma            172.7   \n",
       "\n",
       "  hospitaladmittime24  hospitaladmitoffset   hospitaladmitsource  \\\n",
       "0            18:18:40               -780.0                 Floor   \n",
       "1            22:23:00              -1336.0                 Floor   \n",
       "2            11:52:00                 -4.0  Emergency Department   \n",
       "3            01:36:00             -11544.0        Operating Room   \n",
       "4            01:57:00                -18.0  Emergency Department   \n",
       "\n",
       "   hospitaldischargeyear hospitaldischargetime24  hospitaldischargeoffset  \\\n",
       "0                 2015.0                23:30:00                  12492.0   \n",
       "1                 2014.0                16:22:00                   4063.0   \n",
       "2                 2014.0                22:15:00                   3499.0   \n",
       "3                 2015.0                20:15:00                   8295.0   \n",
       "4                 2015.0                09:34:00                   1879.0   \n",
       "\n",
       "  hospitaldischargelocation hospitaldischargestatus      unittype  \\\n",
       "0                      Home                   Alive         CTICU   \n",
       "1            Other External                   Alive  Med-Surg ICU   \n",
       "2  Skilled Nursing Facility                   Alive  Med-Surg ICU   \n",
       "3                      Home                   Alive         CTICU   \n",
       "4                     Other                   Alive  Med-Surg ICU   \n",
       "\n",
       "  unitadmittime24       unitadmitsource  unitvisitnumber unitstaytype  \\\n",
       "0        07:18:00                 Floor              1.0        admit   \n",
       "1        20:39:00                 Floor              1.0        admit   \n",
       "2        11:56:00  Emergency Department              1.0        admit   \n",
       "3        02:00:00        Operating Room              1.0        admit   \n",
       "4        02:15:00  Emergency Department              1.0        admit   \n",
       "\n",
       "   admissionweight  dischargeweight unitdischargetime24  unitdischargeoffset  \\\n",
       "0             73.9             76.7            15:31:00               4813.0   \n",
       "1             70.2             70.3            03:48:00               1869.0   \n",
       "2             89.8             86.6            14:42:00                166.0   \n",
       "3             92.3             94.4            17:55:00               3835.0   \n",
       "4             69.9             70.3            20:08:00               1073.0   \n",
       "\n",
       "  unitdischargelocation unitdischargestatus  uniquepid opioid_y nsaid_y  \\\n",
       "0                 Floor               Alive   002-5276     True    True   \n",
       "1                 Floor               Alive  002-23234     True    True   \n",
       "2                 Floor               Alive  002-54296     True    True   \n",
       "3                 Floor               Alive  002-23372     True    True   \n",
       "4                 Floor               Alive  002-55885     True    True   \n",
       "\n",
       "  numbedscategory teachingstatus   region painmeds  \n",
       "0          >= 500              t  Midwest     True  \n",
       "1       100 - 249              f  Midwest     True  \n",
       "2       100 - 249              f  Midwest     True  \n",
       "3          >= 500              t  Midwest     True  \n",
       "4          >= 500              t  Midwest     True  "
      ]
     },
     "execution_count": 20,
     "metadata": {},
     "output_type": "execute_result"
    }
   ],
   "source": [
    "opi.head()"
   ]
  },
  {
   "cell_type": "code",
   "execution_count": 82,
   "metadata": {},
   "outputs": [
    {
     "data": {
      "text/html": [
       "<div>\n",
       "<style scoped>\n",
       "    .dataframe tbody tr th:only-of-type {\n",
       "        vertical-align: middle;\n",
       "    }\n",
       "\n",
       "    .dataframe tbody tr th {\n",
       "        vertical-align: top;\n",
       "    }\n",
       "\n",
       "    .dataframe thead th {\n",
       "        text-align: right;\n",
       "    }\n",
       "</style>\n",
       "<table border=\"1\" class=\"dataframe\">\n",
       "  <thead>\n",
       "    <tr style=\"text-align: right;\">\n",
       "      <th></th>\n",
       "      <th>opioid_name</th>\n",
       "      <th>mme_per_day</th>\n",
       "      <th>ethnicity</th>\n",
       "    </tr>\n",
       "  </thead>\n",
       "  <tbody>\n",
       "    <tr>\n",
       "      <td>0</td>\n",
       "      <td>hydromorphone</td>\n",
       "      <td>12.8</td>\n",
       "      <td>Caucasian</td>\n",
       "    </tr>\n",
       "    <tr>\n",
       "      <td>1</td>\n",
       "      <td>morphine</td>\n",
       "      <td>192.0</td>\n",
       "      <td>Caucasian</td>\n",
       "    </tr>\n",
       "    <tr>\n",
       "      <td>2</td>\n",
       "      <td>morphine</td>\n",
       "      <td>192.0</td>\n",
       "      <td>Caucasian</td>\n",
       "    </tr>\n",
       "    <tr>\n",
       "      <td>3</td>\n",
       "      <td>morphine</td>\n",
       "      <td>192.0</td>\n",
       "      <td>Caucasian</td>\n",
       "    </tr>\n",
       "    <tr>\n",
       "      <td>4</td>\n",
       "      <td>oxycodone</td>\n",
       "      <td>30.0</td>\n",
       "      <td>African American</td>\n",
       "    </tr>\n",
       "  </tbody>\n",
       "</table>\n",
       "</div>"
      ],
      "text/plain": [
       "     opioid_name  mme_per_day         ethnicity\n",
       "0  hydromorphone         12.8         Caucasian\n",
       "1       morphine        192.0         Caucasian\n",
       "2       morphine        192.0         Caucasian\n",
       "3       morphine        192.0         Caucasian\n",
       "4      oxycodone         30.0  African American"
      ]
     },
     "execution_count": 82,
     "metadata": {},
     "output_type": "execute_result"
    }
   ],
   "source": [
    "opi_stat = opi[['opioid_name','mme_per_day','ethnicity']]\n",
    "opi_stat.head()"
   ]
  },
  {
   "cell_type": "code",
   "execution_count": 85,
   "metadata": {},
   "outputs": [
    {
     "name": "stderr",
     "output_type": "stream",
     "text": [
      "/Users/adeshkadambi/opt/anaconda3/lib/python3.7/site-packages/pandas/core/frame.py:4244: SettingWithCopyWarning: \n",
      "A value is trying to be set on a copy of a slice from a DataFrame\n",
      "\n",
      "See the caveats in the documentation: http://pandas.pydata.org/pandas-docs/stable/user_guide/indexing.html#returning-a-view-versus-a-copy\n",
      "  **kwargs\n"
     ]
    }
   ],
   "source": [
    "opi_stat.fillna(value='Other/Unknown', inplace=True)"
   ]
  },
  {
   "cell_type": "code",
   "execution_count": 86,
   "metadata": {},
   "outputs": [],
   "source": [
    "for i in opi_stat['mme_per_day']:\n",
    "    if type(i) != float:\n",
    "        print(i, 'type:', type(i))"
   ]
  },
  {
   "cell_type": "code",
   "execution_count": 87,
   "metadata": {},
   "outputs": [],
   "source": [
    "for i in opi_stat['ethnicity']:\n",
    "    if type(i) != str:\n",
    "        print(i, 'type:', type(i))"
   ]
  },
  {
   "cell_type": "code",
   "execution_count": 88,
   "metadata": {},
   "outputs": [],
   "source": [
    "opi_stat_c = list(opi_stat[opi_stat.ethnicity == 'Caucasian'].mme_per_day)\n",
    "opi_stat_aa = list(opi_stat[opi_stat.ethnicity == 'African American'].mme_per_day)\n",
    "opi_stat_a = list(opi_stat[opi_stat.ethnicity == 'Asian'].mme_per_day)\n",
    "opi_stat_h = list(opi_stat[opi_stat.ethnicity == 'Hispanic'].mme_per_day)\n",
    "opi_stat_na = list(opi_stat[opi_stat.ethnicity == 'Native American'].mme_per_day)\n",
    "opi_stat_o = list(opi_stat[opi_stat.ethnicity == 'Other/Unknown'].mme_per_day)"
   ]
  },
  {
   "cell_type": "code",
   "execution_count": 89,
   "metadata": {},
   "outputs": [
    {
     "data": {
      "text/plain": [
       "Text(0, 0.5, 'MME per Day')"
      ]
     },
     "execution_count": 89,
     "metadata": {},
     "output_type": "execute_result"
    },
    {
     "data": {
      "image/png": "[encoded data removed]",
      "text/plain": [
       "<Figure size 1008x324 with 1 Axes>"
      ]
     },
     "metadata": {
      "needs_background": "light"
     },
     "output_type": "display_data"
    }
   ],
   "source": [
    "plt.figure(figsize=(14, 4.5))\n",
    "sns.barplot(x='ethnicity',y='mme_per_day',data=opi_stat, estimator=np.mean)\n",
    "plt.xlabel('Ethnicity')\n",
    "plt.ylabel('MME per Day')"
   ]
  },
  {
   "cell_type": "code",
   "execution_count": 90,
   "metadata": {},
   "outputs": [
    {
     "data": {
      "text/plain": [
       "F_onewayResult(statistic=63.71946526218761, pvalue=1.0902822953035119e-66)"
      ]
     },
     "execution_count": 90,
     "metadata": {},
     "output_type": "execute_result"
    }
   ],
   "source": [
    "# One Way ANOVA\n",
    "stat.f_oneway(opi_stat_c,opi_stat_aa,opi_stat_a,opi_stat_h,opi_stat_na,opi_stat_o)"
   ]
  },
  {
   "cell_type": "code",
   "execution_count": 91,
   "metadata": {},
   "outputs": [
    {
     "name": "stdout",
     "output_type": "stream",
     "text": [
      "Caucasian: k-value: 0.7828788100453723 p-value: 0.0\n",
      "African America: k-value: 0.7931229948202562 p-value: 0.0\n",
      "Asian: k-value: 0.7853736591543353 p-value: 0.0\n",
      "Hispanic: k-value: 0.910041258022052 p-value: 0.0\n",
      "Native American: k-value: 0.7781318219188493 p-value: 0.0\n",
      "Other: k-value: 0.7787180922507276 p-value: 0.0\n"
     ]
    }
   ],
   "source": [
    "# Testing for Normal Distribution\n",
    "k_c, p_c = stat.kstest(opi_stat_c, 'norm')\n",
    "k_aa, p_aa = stat.kstest(opi_stat_aa, 'norm')\n",
    "k_a, p_a = stat.kstest(opi_stat_a, 'norm')\n",
    "k_h, p_h = stat.kstest(opi_stat_h, 'norm')\n",
    "k_na, p_na = stat.kstest(opi_stat_na, 'norm')\n",
    "k_o, p_o = stat.kstest(opi_stat_o, 'norm')\n",
    "\n",
    "print('Caucasian: k-value:', k_c, 'p-value:', p_c)\n",
    "print('African America: k-value:', k_aa, 'p-value:', p_aa)\n",
    "print('Asian: k-value:', k_a, 'p-value:', p_a)\n",
    "print('Hispanic: k-value:', k_h, 'p-value:', p_h)\n",
    "print('Native American: k-value:', k_na, 'p-value:', p_na)\n",
    "print('Other: k-value:', k_o, 'p-value:', p_o)"
   ]
  },
  {
   "cell_type": "markdown",
   "metadata": {},
   "source": [
    "If the P-Value of the KS Test is smaller than 0.05, we do not assume a normal distribution. Use non-parametric test."
   ]
  },
  {
   "cell_type": "code",
   "execution_count": 92,
   "metadata": {},
   "outputs": [
    {
     "data": {
      "text/plain": [
       "KruskalResult(statistic=508.62881644379434, pvalue=1.0955573639789447e-107)"
      ]
     },
     "execution_count": 92,
     "metadata": {},
     "output_type": "execute_result"
    }
   ],
   "source": [
    "# Kruskal-Wallis H-test\n",
    "stat.kruskal(opi_stat_c,opi_stat_aa,opi_stat_a,opi_stat_h,opi_stat_na,opi_stat_o)"
   ]
  },
  {
   "cell_type": "code",
   "execution_count": 95,
   "metadata": {},
   "outputs": [
    {
     "data": {
      "text/html": [
       "<table class=\"simpletable\">\n",
       "<caption>Multiple Comparison of Means - Tukey HSD, FWER=0.05</caption>\n",
       "<tr>\n",
       "       <th>group1</th>          <th>group2</th>      <th>meandiff</th>  <th>p-adj</th>   <th>lower</th>    <th>upper</th>  <th>reject</th>\n",
       "</tr>\n",
       "<tr>\n",
       "  <td>African American</td>      <td>Asian</td>       <td>7.0126</td>  <td>0.2157</td>  <td>-1.8752</td>  <td>15.9004</td>  <td>False</td>\n",
       "</tr>\n",
       "<tr>\n",
       "  <td>African American</td>    <td>Caucasian</td>      <td>8.496</td>   <td>0.001</td>  <td>4.8129</td>   <td>12.179</td>   <td>True</td> \n",
       "</tr>\n",
       "<tr>\n",
       "  <td>African American</td>    <td>Hispanic</td>      <td>29.9434</td>  <td>0.001</td>  <td>22.7538</td>  <td>37.133</td>   <td>True</td> \n",
       "</tr>\n",
       "<tr>\n",
       "  <td>African American</td> <td>Native American</td>  <td>9.6207</td>  <td>0.1527</td>  <td>-1.7558</td>  <td>20.9972</td>  <td>False</td>\n",
       "</tr>\n",
       "<tr>\n",
       "  <td>African American</td>  <td>Other/Unknown</td>  <td>-12.4066</td>  <td>0.001</td> <td>-17.9401</td>  <td>-6.873</td>   <td>True</td> \n",
       "</tr>\n",
       "<tr>\n",
       "        <td>Asian</td>         <td>Caucasian</td>     <td>1.4834</td>    <td>0.9</td>   <td>-6.7865</td>  <td>9.7532</td>   <td>False</td>\n",
       "</tr>\n",
       "<tr>\n",
       "        <td>Asian</td>         <td>Hispanic</td>      <td>22.9308</td>  <td>0.001</td>  <td>12.6101</td>  <td>33.2515</td>  <td>True</td> \n",
       "</tr>\n",
       "<tr>\n",
       "        <td>Asian</td>      <td>Native American</td>  <td>2.6081</td>    <td>0.9</td>  <td>-10.9658</td>  <td>16.182</td>   <td>False</td>\n",
       "</tr>\n",
       "<tr>\n",
       "        <td>Asian</td>       <td>Other/Unknown</td>  <td>-19.4192</td>  <td>0.001</td> <td>-28.6629</td> <td>-10.1755</td>  <td>True</td> \n",
       "</tr>\n",
       "<tr>\n",
       "      <td>Caucasian</td>       <td>Hispanic</td>      <td>21.4474</td>  <td>0.001</td>  <td>15.0375</td>  <td>27.8574</td>  <td>True</td> \n",
       "</tr>\n",
       "<tr>\n",
       "      <td>Caucasian</td>    <td>Native American</td>  <td>1.1247</td>    <td>0.9</td>   <td>-9.7759</td>  <td>12.0253</td>  <td>False</td>\n",
       "</tr>\n",
       "<tr>\n",
       "      <td>Caucasian</td>     <td>Other/Unknown</td>  <td>-20.9025</td>  <td>0.001</td> <td>-25.3766</td> <td>-16.4285</td>  <td>True</td> \n",
       "</tr>\n",
       "<tr>\n",
       "      <td>Hispanic</td>     <td>Native American</td> <td>-20.3227</td>  <td>0.001</td> <td>-32.8506</td>  <td>-7.7948</td>  <td>True</td> \n",
       "</tr>\n",
       "<tr>\n",
       "      <td>Hispanic</td>      <td>Other/Unknown</td>   <td>-42.35</td>   <td>0.001</td> <td>-49.9751</td> <td>-34.7248</td>  <td>True</td> \n",
       "</tr>\n",
       "<tr>\n",
       "   <td>Native American</td>  <td>Other/Unknown</td>  <td>-22.0273</td>  <td>0.001</td>  <td>-33.684</td> <td>-10.3706</td>  <td>True</td> \n",
       "</tr>\n",
       "</table>"
      ],
      "text/plain": [
       "<class 'statsmodels.iolib.table.SimpleTable'>"
      ]
     },
     "execution_count": 95,
     "metadata": {},
     "output_type": "execute_result"
    }
   ],
   "source": [
    "from statsmodels.stats.multicomp import pairwise_tukeyhsd\n",
    "\n",
    "# Multiple pairwise comparison (Tukey HSD) - whats the nonparametric equivalent?\n",
    "\n",
    "m_comp = pairwise_tukeyhsd(endog=opi_stat['mme_per_day'], groups=opi_stat['ethnicity'], alpha=0.05)\n",
    "m_comp.summary()"
   ]
  },
  {
   "cell_type": "markdown",
   "metadata": {},
   "source": [
    "Therefore, we conclude there is a significant difference between the means of groups:\n",
    "- African American & Caucasian\n",
    "- African American & Hispanic\n",
    "- ~~African American & Unknown~~\n",
    "- Asian & Hispanic\n",
    "- ~~Asian & Unknown~~\n",
    "- Caucasian & Hispanic\n",
    "- ~~Caucasian & Unknown~~\n",
    "- Hispanic & Native American\n",
    "- ~~Hispanic & Unknown~~\n",
    "- ~~Native American & Unknown~~"
   ]
  },
  {
   "cell_type": "code",
   "execution_count": 97,
   "metadata": {},
   "outputs": [],
   "source": [
    "import scikit_posthocs as sp"
   ]
  },
  {
   "cell_type": "code",
   "execution_count": 116,
   "metadata": {},
   "outputs": [
    {
     "data": {
      "text/html": [
       "<div>\n",
       "<style scoped>\n",
       "    .dataframe tbody tr th:only-of-type {\n",
       "        vertical-align: middle;\n",
       "    }\n",
       "\n",
       "    .dataframe tbody tr th {\n",
       "        vertical-align: top;\n",
       "    }\n",
       "\n",
       "    .dataframe thead th {\n",
       "        text-align: right;\n",
       "    }\n",
       "</style>\n",
       "<table border=\"1\" class=\"dataframe\">\n",
       "  <thead>\n",
       "    <tr style=\"text-align: right;\">\n",
       "      <th></th>\n",
       "      <th>African American</th>\n",
       "      <th>Asian</th>\n",
       "      <th>Caucasian</th>\n",
       "      <th>Hispanic</th>\n",
       "      <th>Native American</th>\n",
       "      <th>Other/Unknown</th>\n",
       "    </tr>\n",
       "  </thead>\n",
       "  <tbody>\n",
       "    <tr>\n",
       "      <td>African American</td>\n",
       "      <td>1.000000e+00</td>\n",
       "      <td>8.258917e-03</td>\n",
       "      <td>1.060052e-20</td>\n",
       "      <td>2.028226e-74</td>\n",
       "      <td>1.097088e-03</td>\n",
       "      <td>7.270686e-02</td>\n",
       "    </tr>\n",
       "    <tr>\n",
       "      <td>Asian</td>\n",
       "      <td>8.258917e-03</td>\n",
       "      <td>1.000000e+00</td>\n",
       "      <td>9.998961e-01</td>\n",
       "      <td>7.866309e-19</td>\n",
       "      <td>9.213764e-01</td>\n",
       "      <td>4.928854e-06</td>\n",
       "    </tr>\n",
       "    <tr>\n",
       "      <td>Caucasian</td>\n",
       "      <td>1.060052e-20</td>\n",
       "      <td>9.998961e-01</td>\n",
       "      <td>1.000000e+00</td>\n",
       "      <td>2.118858e-48</td>\n",
       "      <td>9.002454e-01</td>\n",
       "      <td>7.455395e-31</td>\n",
       "    </tr>\n",
       "    <tr>\n",
       "      <td>Hispanic</td>\n",
       "      <td>2.028226e-74</td>\n",
       "      <td>7.866309e-19</td>\n",
       "      <td>2.118858e-48</td>\n",
       "      <td>1.000000e+00</td>\n",
       "      <td>1.422718e-08</td>\n",
       "      <td>1.011511e-84</td>\n",
       "    </tr>\n",
       "    <tr>\n",
       "      <td>Native American</td>\n",
       "      <td>1.097088e-03</td>\n",
       "      <td>9.213764e-01</td>\n",
       "      <td>9.002454e-01</td>\n",
       "      <td>1.422718e-08</td>\n",
       "      <td>1.000000e+00</td>\n",
       "      <td>1.594903e-06</td>\n",
       "    </tr>\n",
       "    <tr>\n",
       "      <td>Other/Unknown</td>\n",
       "      <td>7.270686e-02</td>\n",
       "      <td>4.928854e-06</td>\n",
       "      <td>7.455395e-31</td>\n",
       "      <td>1.011511e-84</td>\n",
       "      <td>1.594903e-06</td>\n",
       "      <td>1.000000e+00</td>\n",
       "    </tr>\n",
       "  </tbody>\n",
       "</table>\n",
       "</div>"
      ],
      "text/plain": [
       "                  African American         Asian     Caucasian      Hispanic  \\\n",
       "African American      1.000000e+00  8.258917e-03  1.060052e-20  2.028226e-74   \n",
       "Asian                 8.258917e-03  1.000000e+00  9.998961e-01  7.866309e-19   \n",
       "Caucasian             1.060052e-20  9.998961e-01  1.000000e+00  2.118858e-48   \n",
       "Hispanic              2.028226e-74  7.866309e-19  2.118858e-48  1.000000e+00   \n",
       "Native American       1.097088e-03  9.213764e-01  9.002454e-01  1.422718e-08   \n",
       "Other/Unknown         7.270686e-02  4.928854e-06  7.455395e-31  1.011511e-84   \n",
       "\n",
       "                  Native American  Other/Unknown  \n",
       "African American     1.097088e-03   7.270686e-02  \n",
       "Asian                9.213764e-01   4.928854e-06  \n",
       "Caucasian            9.002454e-01   7.455395e-31  \n",
       "Hispanic             1.422718e-08   1.011511e-84  \n",
       "Native American      1.000000e+00   1.594903e-06  \n",
       "Other/Unknown        1.594903e-06   1.000000e+00  "
      ]
     },
     "execution_count": 116,
     "metadata": {},
     "output_type": "execute_result"
    }
   ],
   "source": [
    "nemenyi = sp.posthoc_nemenyi(opi_stat, 'mme_per_day', 'ethnicity')\n",
    "nemenyi"
   ]
  },
  {
   "cell_type": "code",
   "execution_count": 127,
   "metadata": {},
   "outputs": [],
   "source": [
    "pvals = []\n",
    "\n",
    "for i in nemenyi.columns:\n",
    "    pvals = pvals + list(nemenyi[i])"
   ]
  },
  {
   "cell_type": "code",
   "execution_count": 134,
   "metadata": {},
   "outputs": [
    {
     "name": "stdout",
     "output_type": "stream",
     "text": [
      "[1.0, 0.008258916623165271, 1.060052313760359e-20, 2.028225713120762e-74, 0.0010970878806381415, 0.0727068633704117, 0.008258916623165271, 1.0, 0.9998961114799291, 7.866309369204271e-19, 0.921376440437326, 4.92885428517584e-06, 1.060052313760359e-20, 0.9998961114799291, 1.0, 2.1188584597595447e-48, 0.9002454248587725, 7.455394638426327e-31, 2.028225713120762e-74, 7.866309369204271e-19, 2.1188584597595447e-48, 1.0, 1.4227176107120656e-08, 1.0115108042835288e-84, 0.0010970878806381415, 0.921376440437326, 0.9002454248587725, 1.4227176107120656e-08, 1.0, 1.5949027403166963e-06, 0.0727068633704117, 4.92885428517584e-06, 7.455394638426327e-31, 1.0115108042835288e-84, 1.5949027403166963e-06, 1.0]\n"
     ]
    }
   ],
   "source": [
    "print(pvals)"
   ]
  },
  {
   "cell_type": "code",
   "execution_count": 156,
   "metadata": {},
   "outputs": [
    {
     "ename": "AttributeError",
     "evalue": "module 'scipy.stats' has no attribute 'multitest'",
     "output_type": "error",
     "traceback": [
      "\u001b[0;31m---------------------------------------------------------------------------\u001b[0m",
      "\u001b[0;31mAttributeError\u001b[0m                            Traceback (most recent call last)",
      "\u001b[0;32m<ipython-input-156-2bb085aafa6c>\u001b[0m in \u001b[0;36m<module>\u001b[0;34m\u001b[0m\n\u001b[0;32m----> 1\u001b[0;31m \u001b[0mp_adjusted\u001b[0m \u001b[0;34m=\u001b[0m \u001b[0mstat\u001b[0m\u001b[0;34m.\u001b[0m\u001b[0mmultitest\u001b[0m\u001b[0;34m.\u001b[0m\u001b[0mmultipletests\u001b[0m\u001b[0;34m(\u001b[0m\u001b[0mpvals\u001b[0m\u001b[0;34m,\u001b[0m \u001b[0malpha\u001b[0m\u001b[0;34m=\u001b[0m\u001b[0;36m0.05\u001b[0m\u001b[0;34m,\u001b[0m \u001b[0mmethod\u001b[0m\u001b[0;34m=\u001b[0m\u001b[0;34m'bonferroni'\u001b[0m\u001b[0;34m)\u001b[0m\u001b[0;34m\u001b[0m\u001b[0;34m\u001b[0m\u001b[0m\n\u001b[0m",
      "\u001b[0;31mAttributeError\u001b[0m: module 'scipy.stats' has no attribute 'multitest'"
     ]
    }
   ],
   "source": [
    "from statsmodels.stats.multitest import multipletests\n",
    "\n",
    "p_adjusted = multipletests(pvals, alpha=0.05, method='bonferroni')"
   ]
  },
  {
   "cell_type": "code",
   "execution_count": 137,
   "metadata": {},
   "outputs": [
    {
     "data": {
      "text/plain": [
       "0.001388888888888889"
      ]
     },
     "execution_count": 137,
     "metadata": {},
     "output_type": "execute_result"
    }
   ],
   "source": [
    "0.05/36"
   ]
  },
  {
   "cell_type": "code",
   "execution_count": 140,
   "metadata": {},
   "outputs": [
    {
     "name": "stdout",
     "output_type": "stream",
     "text": [
      "[False False  True  True  True False False False False  True False  True\n",
      "  True False False  True False  True  True  True  True False  True  True\n",
      "  True False False  True False  True False  True  True  True  True False]\n"
     ]
    }
   ],
   "source": [
    "print(p_adjusted[0])"
   ]
  },
  {
   "cell_type": "code",
   "execution_count": 139,
   "metadata": {},
   "outputs": [
    {
     "name": "stdout",
     "output_type": "stream",
     "text": [
      "[1.00000000e+00 2.97320998e-01 3.81618833e-19 7.30161257e-73\n",
      " 3.94951637e-02 1.00000000e+00 2.97320998e-01 1.00000000e+00\n",
      " 1.00000000e+00 2.83187137e-17 1.00000000e+00 1.77438754e-04\n",
      " 3.81618833e-19 1.00000000e+00 1.00000000e+00 7.62789046e-47\n",
      " 1.00000000e+00 2.68394207e-29 7.30161257e-73 2.83187137e-17\n",
      " 7.62789046e-47 1.00000000e+00 5.12178340e-07 3.64143890e-83\n",
      " 3.94951637e-02 1.00000000e+00 1.00000000e+00 5.12178340e-07\n",
      " 1.00000000e+00 5.74164987e-05 1.00000000e+00 1.77438754e-04\n",
      " 2.68394207e-29 3.64143890e-83 5.74164987e-05 1.00000000e+00]\n"
     ]
    }
   ],
   "source": [
    "print(p_adjusted[1])"
   ]
  },
  {
   "cell_type": "code",
   "execution_count": null,
   "metadata": {},
   "outputs": [],
   "source": [
    "# fig 1: (a) opioid vs non-opioid insignificance (b)"
   ]
  }
 ],
 "metadata": {
  "kernelspec": {
   "display_name": "Python 3",
   "language": "python",
   "name": "python3"
  },
  "language_info": {
   "codemirror_mode": {
    "name": "ipython",
    "version": 3
   },
   "file_extension": ".py",
   "mimetype": "text/x-python",
   "name": "python",
   "nbconvert_exporter": "python",
   "pygments_lexer": "ipython3",
   "version": "3.7.4"
  }
 },
 "nbformat": 4,
 "nbformat_minor": 4
}
