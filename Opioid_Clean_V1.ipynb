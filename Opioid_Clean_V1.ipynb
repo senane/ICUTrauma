{
 "cells": [
  {
   "cell_type": "code",
   "execution_count": 1,
   "metadata": {},
   "outputs": [],
   "source": [
    "import pandas as pd\n",
    "import matplotlib.pyplot as plt\n",
    "import seaborn as sns\n",
    "import numpy as np\n",
    "import scipy.stats as stat\n",
    "import statsmodels.api as sm\n",
    "import scikit_posthocs as sp\n",
    "\n",
    "pd.set_option('display.max_columns', 9999)\n",
    "\n",
    "%matplotlib inline"
   ]
  },
  {
   "cell_type": "markdown",
   "metadata": {},
   "source": [
    "## Data Cleaning"
   ]
  },
  {
   "cell_type": "code",
   "execution_count": 2,
   "metadata": {},
   "outputs": [],
   "source": [
    "# finding all opioids and nsaids given to patients\n",
    "\n",
    "opioids = ['hydromorphone','hydrocodone','morphine','oxycodone','oxymorphone','codeine','fentanyl','meperidine',\n",
    "          'tramadol','carfentanil','percocet','norco']\n",
    "\n",
    "nsaids = ['acetaminophen','amitriptyline', 'doxepin', 'imipramine', 'desipramine', 'nortriptyline',\n",
    "         'ibuprofen', 'naproxen', 'diclofenac', 'piroxicam', 'sulindac', 'indomethacin', 'ketorolac', 'meloxicam', \n",
    "          'celecoxib', 'ketoprofen', 'oxaprozin', 'toradol', 'valdecoxib', 'bextra', 'rofecoxib', 'vioxx', 'gabapentin', \n",
    "          'neurontin', 'cyclobenzaprine', 'duloxetine', 'cymbalta', 'pregabalin', 'lyrica', 'venlafaxine', 'effexor', \n",
    "          'tylenol', 'voltaren', 'naprosyn', 'paracetamol', 'aspirin']\n",
    "\n",
    "\n",
    "def opioids_nsaids (x, li):\n",
    "\n",
    "    for i in li:\n",
    "        if i in str(x).lower():\n",
    "            return 1\n",
    "        \n",
    "    return 0"
   ]
  },
  {
   "cell_type": "code",
   "execution_count": 3,
   "metadata": {},
   "outputs": [
    {
     "name": "stderr",
     "output_type": "stream",
     "text": [
      "/Users/adeshkadambi/opt/anaconda3/lib/python3.7/site-packages/IPython/core/interactiveshell.py:3058: DtypeWarning: Columns (11) have mixed types. Specify dtype option on import or set low_memory=False.\n",
      "  interactivity=interactivity, compiler=compiler, result=result)\n"
     ]
    }
   ],
   "source": [
    "med = pd.read_csv('eicu-collaborative-research-database-2.0/medication.csv.gz')\n",
    "pts = pd.read_csv('eicu-collaborative-research-database-2.0/patient.csv.gz')\n",
    "hos = pd.read_csv('eicu-collaborative-research-database-2.0/hospital.csv.gz')"
   ]
  },
  {
   "cell_type": "code",
   "execution_count": 4,
   "metadata": {},
   "outputs": [],
   "source": [
    "med = med[med.drugordercancelled == 'No']\n",
    "\n",
    "cols_drop = ['medicationid',\n",
    "             'drugorderoffset',\n",
    "             'drugivadmixture',\n",
    "             'drugordercancelled',\n",
    "             'drughiclseqno',\n",
    "             'routeadmin',\n",
    "             'loadingdose',\n",
    "             'prn',\n",
    "             'gtc'\n",
    "            ]\n",
    "\n",
    "med.drop(columns=cols_drop, inplace=True)\n",
    "\n",
    "med['opioid'] = med.drugname.apply(lambda x: opioids_nsaids(x, opioids))\n",
    "med['nsaid'] = med.drugname.apply(lambda x: opioids_nsaids(x, nsaids))\n",
    "\n",
    "med = med[(med.opioid == 1) | (med.nsaid == 1)]\n",
    "\n",
    "mg = med.groupby(['patientunitstayid']).agg({'opioid': lambda x:sum(x), 'nsaid': lambda x:sum(x)})\n",
    "mg[mg != 0] = 1"
   ]
  },
  {
   "cell_type": "code",
   "execution_count": 5,
   "metadata": {},
   "outputs": [],
   "source": [
    "def op_find (x, arr):\n",
    "    try:\n",
    "        return arr['opioid'][x]\n",
    "    except:\n",
    "        return np.nan\n",
    "    \n",
    "def nsaid_find (x, arr):\n",
    "    try:\n",
    "        return arr['nsaid'][x]\n",
    "    except:\n",
    "        return np.nan"
   ]
  },
  {
   "cell_type": "code",
   "execution_count": 6,
   "metadata": {},
   "outputs": [],
   "source": [
    "pts = pts[pts.gender != 'Unknown']\n",
    "pts = pts[pts.gender != 'Other']\n",
    "\n",
    "pts['opioid'] = pts['patientunitstayid'].apply(lambda x: op_find(x, mg))\n",
    "pts['nsaid'] = pts['patientunitstayid'].apply(lambda x: nsaid_find(x, mg))\n",
    "\n",
    "pts = pd.merge(pts, hos, on=['hospitalid'], how = 'left')"
   ]
  },
  {
   "cell_type": "code",
   "execution_count": 7,
   "metadata": {},
   "outputs": [],
   "source": [
    "# fill missing values\n",
    "\n",
    "pts['apacheadmissiondx'].fillna(value = 'N/A', inplace = True)\n",
    "pts['hospitaladmitsource'].fillna(value = 'Unknown', inplace = True)\n",
    "\n",
    "def age (x):\n",
    "    if x == '> 89':\n",
    "        return 90\n",
    "    else:\n",
    "        return int(x)\n",
    "\n",
    "pts['age'].fillna(value = 0, inplace = True)\n",
    "pts['age'] = pts['age'].apply(lambda x: age(x))\n",
    "\n",
    "pts.opioid.fillna(0, inplace = True)\n",
    "pts.nsaid.fillna(0, inplace = True)\n",
    "\n",
    "pts.opioid.replace(1.0,True,inplace=True)\n",
    "pts.opioid.replace(0.0,False,inplace=True)\n",
    "\n",
    "pts.nsaid.replace(1.0,True,inplace=True)\n",
    "pts.nsaid.replace(0.0,False,inplace=True)\n",
    "\n",
    "pts['painmeds'] = pts.opioid|pts.nsaid"
   ]
  },
  {
   "cell_type": "code",
   "execution_count": 8,
   "metadata": {},
   "outputs": [
    {
     "data": {
      "text/html": [
       "<div>\n",
       "<style scoped>\n",
       "    .dataframe tbody tr th:only-of-type {\n",
       "        vertical-align: middle;\n",
       "    }\n",
       "\n",
       "    .dataframe tbody tr th {\n",
       "        vertical-align: top;\n",
       "    }\n",
       "\n",
       "    .dataframe thead th {\n",
       "        text-align: right;\n",
       "    }\n",
       "</style>\n",
       "<table border=\"1\" class=\"dataframe\">\n",
       "  <thead>\n",
       "    <tr style=\"text-align: right;\">\n",
       "      <th></th>\n",
       "      <th>patientunitstayid</th>\n",
       "      <th>patienthealthsystemstayid</th>\n",
       "      <th>gender</th>\n",
       "      <th>age</th>\n",
       "      <th>ethnicity</th>\n",
       "      <th>hospitalid</th>\n",
       "      <th>wardid</th>\n",
       "      <th>apacheadmissiondx</th>\n",
       "      <th>admissionheight</th>\n",
       "      <th>hospitaladmittime24</th>\n",
       "      <th>hospitaladmitoffset</th>\n",
       "      <th>hospitaladmitsource</th>\n",
       "      <th>hospitaldischargeyear</th>\n",
       "      <th>hospitaldischargetime24</th>\n",
       "      <th>hospitaldischargeoffset</th>\n",
       "      <th>hospitaldischargelocation</th>\n",
       "      <th>hospitaldischargestatus</th>\n",
       "      <th>unittype</th>\n",
       "      <th>unitadmittime24</th>\n",
       "      <th>unitadmitsource</th>\n",
       "      <th>unitvisitnumber</th>\n",
       "      <th>unitstaytype</th>\n",
       "      <th>admissionweight</th>\n",
       "      <th>dischargeweight</th>\n",
       "      <th>unitdischargetime24</th>\n",
       "      <th>unitdischargeoffset</th>\n",
       "      <th>unitdischargelocation</th>\n",
       "      <th>unitdischargestatus</th>\n",
       "      <th>uniquepid</th>\n",
       "      <th>opioid</th>\n",
       "      <th>nsaid</th>\n",
       "      <th>numbedscategory</th>\n",
       "      <th>teachingstatus</th>\n",
       "      <th>region</th>\n",
       "      <th>painmeds</th>\n",
       "    </tr>\n",
       "  </thead>\n",
       "  <tbody>\n",
       "    <tr>\n",
       "      <td>0</td>\n",
       "      <td>141168</td>\n",
       "      <td>128919</td>\n",
       "      <td>Female</td>\n",
       "      <td>70</td>\n",
       "      <td>Caucasian</td>\n",
       "      <td>59</td>\n",
       "      <td>91</td>\n",
       "      <td>Rhythm disturbance (atrial, supraventricular)</td>\n",
       "      <td>152.4</td>\n",
       "      <td>15:54:00</td>\n",
       "      <td>0</td>\n",
       "      <td>Direct Admit</td>\n",
       "      <td>2015</td>\n",
       "      <td>03:50:00</td>\n",
       "      <td>3596</td>\n",
       "      <td>Death</td>\n",
       "      <td>Expired</td>\n",
       "      <td>Med-Surg ICU</td>\n",
       "      <td>15:54:00</td>\n",
       "      <td>Direct Admit</td>\n",
       "      <td>1</td>\n",
       "      <td>admit</td>\n",
       "      <td>84.3</td>\n",
       "      <td>85.8</td>\n",
       "      <td>03:50:00</td>\n",
       "      <td>3596</td>\n",
       "      <td>Death</td>\n",
       "      <td>Expired</td>\n",
       "      <td>002-34851</td>\n",
       "      <td>True</td>\n",
       "      <td>True</td>\n",
       "      <td>&lt;100</td>\n",
       "      <td>f</td>\n",
       "      <td>Midwest</td>\n",
       "      <td>True</td>\n",
       "    </tr>\n",
       "    <tr>\n",
       "      <td>1</td>\n",
       "      <td>141178</td>\n",
       "      <td>128927</td>\n",
       "      <td>Female</td>\n",
       "      <td>52</td>\n",
       "      <td>Caucasian</td>\n",
       "      <td>60</td>\n",
       "      <td>83</td>\n",
       "      <td>N/A</td>\n",
       "      <td>162.6</td>\n",
       "      <td>08:56:00</td>\n",
       "      <td>-14</td>\n",
       "      <td>Emergency Department</td>\n",
       "      <td>2015</td>\n",
       "      <td>19:20:00</td>\n",
       "      <td>2050</td>\n",
       "      <td>Home</td>\n",
       "      <td>Alive</td>\n",
       "      <td>Med-Surg ICU</td>\n",
       "      <td>09:10:00</td>\n",
       "      <td>Emergency Department</td>\n",
       "      <td>1</td>\n",
       "      <td>admit</td>\n",
       "      <td>54.4</td>\n",
       "      <td>54.4</td>\n",
       "      <td>09:18:00</td>\n",
       "      <td>8</td>\n",
       "      <td>Step-Down Unit (SDU)</td>\n",
       "      <td>Alive</td>\n",
       "      <td>002-33870</td>\n",
       "      <td>False</td>\n",
       "      <td>True</td>\n",
       "      <td>&lt;100</td>\n",
       "      <td>f</td>\n",
       "      <td>Midwest</td>\n",
       "      <td>True</td>\n",
       "    </tr>\n",
       "    <tr>\n",
       "      <td>2</td>\n",
       "      <td>141179</td>\n",
       "      <td>128927</td>\n",
       "      <td>Female</td>\n",
       "      <td>52</td>\n",
       "      <td>Caucasian</td>\n",
       "      <td>60</td>\n",
       "      <td>83</td>\n",
       "      <td>N/A</td>\n",
       "      <td>162.6</td>\n",
       "      <td>08:56:00</td>\n",
       "      <td>-22</td>\n",
       "      <td>Emergency Department</td>\n",
       "      <td>2015</td>\n",
       "      <td>19:20:00</td>\n",
       "      <td>2042</td>\n",
       "      <td>Home</td>\n",
       "      <td>Alive</td>\n",
       "      <td>Med-Surg ICU</td>\n",
       "      <td>09:18:00</td>\n",
       "      <td>ICU to SDU</td>\n",
       "      <td>2</td>\n",
       "      <td>stepdown/other</td>\n",
       "      <td>NaN</td>\n",
       "      <td>60.4</td>\n",
       "      <td>19:20:00</td>\n",
       "      <td>2042</td>\n",
       "      <td>Home</td>\n",
       "      <td>Alive</td>\n",
       "      <td>002-33870</td>\n",
       "      <td>False</td>\n",
       "      <td>False</td>\n",
       "      <td>&lt;100</td>\n",
       "      <td>f</td>\n",
       "      <td>Midwest</td>\n",
       "      <td>False</td>\n",
       "    </tr>\n",
       "    <tr>\n",
       "      <td>3</td>\n",
       "      <td>141194</td>\n",
       "      <td>128941</td>\n",
       "      <td>Male</td>\n",
       "      <td>68</td>\n",
       "      <td>Caucasian</td>\n",
       "      <td>73</td>\n",
       "      <td>92</td>\n",
       "      <td>Sepsis, renal/UTI (including bladder)</td>\n",
       "      <td>180.3</td>\n",
       "      <td>18:18:40</td>\n",
       "      <td>-780</td>\n",
       "      <td>Floor</td>\n",
       "      <td>2015</td>\n",
       "      <td>23:30:00</td>\n",
       "      <td>12492</td>\n",
       "      <td>Home</td>\n",
       "      <td>Alive</td>\n",
       "      <td>CTICU</td>\n",
       "      <td>07:18:00</td>\n",
       "      <td>Floor</td>\n",
       "      <td>1</td>\n",
       "      <td>admit</td>\n",
       "      <td>73.9</td>\n",
       "      <td>76.7</td>\n",
       "      <td>15:31:00</td>\n",
       "      <td>4813</td>\n",
       "      <td>Floor</td>\n",
       "      <td>Alive</td>\n",
       "      <td>002-5276</td>\n",
       "      <td>True</td>\n",
       "      <td>True</td>\n",
       "      <td>&gt;= 500</td>\n",
       "      <td>t</td>\n",
       "      <td>Midwest</td>\n",
       "      <td>True</td>\n",
       "    </tr>\n",
       "    <tr>\n",
       "      <td>4</td>\n",
       "      <td>141196</td>\n",
       "      <td>128943</td>\n",
       "      <td>Male</td>\n",
       "      <td>71</td>\n",
       "      <td>Caucasian</td>\n",
       "      <td>67</td>\n",
       "      <td>109</td>\n",
       "      <td>N/A</td>\n",
       "      <td>162.6</td>\n",
       "      <td>20:21:00</td>\n",
       "      <td>-99</td>\n",
       "      <td>Emergency Department</td>\n",
       "      <td>2015</td>\n",
       "      <td>17:00:00</td>\n",
       "      <td>5460</td>\n",
       "      <td>Home</td>\n",
       "      <td>Alive</td>\n",
       "      <td>Med-Surg ICU</td>\n",
       "      <td>22:00:00</td>\n",
       "      <td>ICU to SDU</td>\n",
       "      <td>2</td>\n",
       "      <td>stepdown/other</td>\n",
       "      <td>NaN</td>\n",
       "      <td>63.2</td>\n",
       "      <td>22:23:00</td>\n",
       "      <td>1463</td>\n",
       "      <td>Floor</td>\n",
       "      <td>Alive</td>\n",
       "      <td>002-37665</td>\n",
       "      <td>True</td>\n",
       "      <td>True</td>\n",
       "      <td>NaN</td>\n",
       "      <td>f</td>\n",
       "      <td>Midwest</td>\n",
       "      <td>True</td>\n",
       "    </tr>\n",
       "  </tbody>\n",
       "</table>\n",
       "</div>"
      ],
      "text/plain": [
       "   patientunitstayid  patienthealthsystemstayid  gender  age  ethnicity  \\\n",
       "0             141168                     128919  Female   70  Caucasian   \n",
       "1             141178                     128927  Female   52  Caucasian   \n",
       "2             141179                     128927  Female   52  Caucasian   \n",
       "3             141194                     128941    Male   68  Caucasian   \n",
       "4             141196                     128943    Male   71  Caucasian   \n",
       "\n",
       "   hospitalid  wardid                              apacheadmissiondx  \\\n",
       "0          59      91  Rhythm disturbance (atrial, supraventricular)   \n",
       "1          60      83                                            N/A   \n",
       "2          60      83                                            N/A   \n",
       "3          73      92          Sepsis, renal/UTI (including bladder)   \n",
       "4          67     109                                            N/A   \n",
       "\n",
       "   admissionheight hospitaladmittime24  hospitaladmitoffset  \\\n",
       "0            152.4            15:54:00                    0   \n",
       "1            162.6            08:56:00                  -14   \n",
       "2            162.6            08:56:00                  -22   \n",
       "3            180.3            18:18:40                 -780   \n",
       "4            162.6            20:21:00                  -99   \n",
       "\n",
       "    hospitaladmitsource  hospitaldischargeyear hospitaldischargetime24  \\\n",
       "0          Direct Admit                   2015                03:50:00   \n",
       "1  Emergency Department                   2015                19:20:00   \n",
       "2  Emergency Department                   2015                19:20:00   \n",
       "3                 Floor                   2015                23:30:00   \n",
       "4  Emergency Department                   2015                17:00:00   \n",
       "\n",
       "   hospitaldischargeoffset hospitaldischargelocation hospitaldischargestatus  \\\n",
       "0                     3596                     Death                 Expired   \n",
       "1                     2050                      Home                   Alive   \n",
       "2                     2042                      Home                   Alive   \n",
       "3                    12492                      Home                   Alive   \n",
       "4                     5460                      Home                   Alive   \n",
       "\n",
       "       unittype unitadmittime24       unitadmitsource  unitvisitnumber  \\\n",
       "0  Med-Surg ICU        15:54:00          Direct Admit                1   \n",
       "1  Med-Surg ICU        09:10:00  Emergency Department                1   \n",
       "2  Med-Surg ICU        09:18:00            ICU to SDU                2   \n",
       "3         CTICU        07:18:00                 Floor                1   \n",
       "4  Med-Surg ICU        22:00:00            ICU to SDU                2   \n",
       "\n",
       "     unitstaytype  admissionweight  dischargeweight unitdischargetime24  \\\n",
       "0           admit             84.3             85.8            03:50:00   \n",
       "1           admit             54.4             54.4            09:18:00   \n",
       "2  stepdown/other              NaN             60.4            19:20:00   \n",
       "3           admit             73.9             76.7            15:31:00   \n",
       "4  stepdown/other              NaN             63.2            22:23:00   \n",
       "\n",
       "   unitdischargeoffset unitdischargelocation unitdischargestatus  uniquepid  \\\n",
       "0                 3596                 Death             Expired  002-34851   \n",
       "1                    8  Step-Down Unit (SDU)               Alive  002-33870   \n",
       "2                 2042                  Home               Alive  002-33870   \n",
       "3                 4813                 Floor               Alive   002-5276   \n",
       "4                 1463                 Floor               Alive  002-37665   \n",
       "\n",
       "   opioid  nsaid numbedscategory teachingstatus   region  painmeds  \n",
       "0    True   True            <100              f  Midwest      True  \n",
       "1   False   True            <100              f  Midwest      True  \n",
       "2   False  False            <100              f  Midwest     False  \n",
       "3    True   True          >= 500              t  Midwest      True  \n",
       "4    True   True             NaN              f  Midwest      True  "
      ]
     },
     "execution_count": 8,
     "metadata": {},
     "output_type": "execute_result"
    }
   ],
   "source": [
    "pts.head()"
   ]
  },
  {
   "cell_type": "code",
   "execution_count": 9,
   "metadata": {},
   "outputs": [],
   "source": [
    "pts.to_csv('final_patients.csv')"
   ]
  },
  {
   "cell_type": "markdown",
   "metadata": {},
   "source": [
    "## Plotting\n",
    "Ethnicity vs. Pain Medication Administration (Either, NSAID Only, Opioid Only)"
   ]
  },
  {
   "cell_type": "code",
   "execution_count": 10,
   "metadata": {},
   "outputs": [
    {
     "data": {
      "text/plain": [
       "Text(0, 0.5, 'Proportion Receiving Pain Medications')"
      ]
     },
     "execution_count": 10,
     "metadata": {},
     "output_type": "execute_result"
    },
    {
     "data": {
      "image/png": "[encoded data removed]",
      "text/plain": [
       "<Figure size 1008x324 with 1 Axes>"
      ]
     },
     "metadata": {
      "needs_background": "light"
     },
     "output_type": "display_data"
    }
   ],
   "source": [
    "plt.figure(figsize=(14, 4.5))\n",
    "sns.barplot(x='ethnicity',y='painmeds',data=pts, estimator=np.mean)\n",
    "plt.xlabel('Patient Ethnicity')\n",
    "plt.ylabel('Proportion Receiving Pain Medications')"
   ]
  },
  {
   "cell_type": "code",
   "execution_count": 11,
   "metadata": {},
   "outputs": [
    {
     "data": {
      "text/plain": [
       "Text(0, 0.5, 'Proportion Receiving NSAIDs')"
      ]
     },
     "execution_count": 11,
     "metadata": {},
     "output_type": "execute_result"
    },
    {
     "data": {
      "image/png": "[encoded data removed]",
      "text/plain": [
       "<Figure size 1008x324 with 1 Axes>"
      ]
     },
     "metadata": {
      "needs_background": "light"
     },
     "output_type": "display_data"
    }
   ],
   "source": [
    "plt.figure(figsize=(14, 4.5))\n",
    "sns.barplot(x='ethnicity',y='nsaid',data=pts, estimator=np.mean)\n",
    "plt.xlabel('Patient Ethnicity')\n",
    "plt.ylabel('Proportion Receiving NSAIDs')"
   ]
  },
  {
   "cell_type": "code",
   "execution_count": 12,
   "metadata": {},
   "outputs": [
    {
     "data": {
      "text/plain": [
       "Text(0, 0.5, 'Proportion Receiving Opioids')"
      ]
     },
     "execution_count": 12,
     "metadata": {},
     "output_type": "execute_result"
    },
    {
     "data": {
      "image/png": "[encoded data removed]",
      "text/plain": [
       "<Figure size 1008x324 with 1 Axes>"
      ]
     },
     "metadata": {
      "needs_background": "light"
     },
     "output_type": "display_data"
    }
   ],
   "source": [
    "plt.figure(figsize=(14, 4.5))\n",
    "sns.barplot(x='ethnicity',y='opioid',data=pts, estimator=np.mean)\n",
    "plt.xlabel('Patient Ethnicity')\n",
    "plt.ylabel('Proportion Receiving Opioids')"
   ]
  },
  {
   "cell_type": "markdown",
   "metadata": {},
   "source": [
    "## Checking Significance\n",
    "Chi-squared testing"
   ]
  },
  {
   "cell_type": "markdown",
   "metadata": {},
   "source": [
    "### Test 1:\n",
    "H<sub>0</sub>: Pain medication administration is independent of patient ethnicity.  \n",
    "H<sub>1</sub>: Pain medication administration is not independent of patient ethnicity."
   ]
  },
  {
   "cell_type": "code",
   "execution_count": 13,
   "metadata": {},
   "outputs": [
    {
     "data": {
      "text/html": [
       "<div>\n",
       "<style scoped>\n",
       "    .dataframe tbody tr th:only-of-type {\n",
       "        vertical-align: middle;\n",
       "    }\n",
       "\n",
       "    .dataframe tbody tr th {\n",
       "        vertical-align: top;\n",
       "    }\n",
       "\n",
       "    .dataframe thead th {\n",
       "        text-align: right;\n",
       "    }\n",
       "</style>\n",
       "<table border=\"1\" class=\"dataframe\">\n",
       "  <thead>\n",
       "    <tr style=\"text-align: right;\">\n",
       "      <th>ethnicity</th>\n",
       "      <th>African American</th>\n",
       "      <th>Asian</th>\n",
       "      <th>Caucasian</th>\n",
       "      <th>Hispanic</th>\n",
       "      <th>Native American</th>\n",
       "      <th>Other/Unknown</th>\n",
       "    </tr>\n",
       "    <tr>\n",
       "      <th>painmeds</th>\n",
       "      <th></th>\n",
       "      <th></th>\n",
       "      <th></th>\n",
       "      <th></th>\n",
       "      <th></th>\n",
       "      <th></th>\n",
       "    </tr>\n",
       "  </thead>\n",
       "  <tbody>\n",
       "    <tr>\n",
       "      <td>False</td>\n",
       "      <td>7133</td>\n",
       "      <td>1337</td>\n",
       "      <td>55862</td>\n",
       "      <td>2699</td>\n",
       "      <td>486</td>\n",
       "      <td>2787</td>\n",
       "    </tr>\n",
       "    <tr>\n",
       "      <td>True</td>\n",
       "      <td>14170</td>\n",
       "      <td>1933</td>\n",
       "      <td>99411</td>\n",
       "      <td>4763</td>\n",
       "      <td>1214</td>\n",
       "      <td>6736</td>\n",
       "    </tr>\n",
       "  </tbody>\n",
       "</table>\n",
       "</div>"
      ],
      "text/plain": [
       "ethnicity  African American  Asian  Caucasian  Hispanic  Native American  \\\n",
       "painmeds                                                                   \n",
       "False                  7133   1337      55862      2699              486   \n",
       "True                  14170   1933      99411      4763             1214   \n",
       "\n",
       "ethnicity  Other/Unknown  \n",
       "painmeds                  \n",
       "False               2787  \n",
       "True                6736  "
      ]
     },
     "execution_count": 13,
     "metadata": {},
     "output_type": "execute_result"
    }
   ],
   "source": [
    "ct_eth = pd.crosstab(pts.painmeds, pts.ethnicity)\n",
    "ct_eth"
   ]
  },
  {
   "cell_type": "code",
   "execution_count": 14,
   "metadata": {},
   "outputs": [
    {
     "name": "stdout",
     "output_type": "stream",
     "text": [
      "Pearson Chi-Square:  292.8934806643206\n",
      "p-value:  3.3753034193076924e-61\n"
     ]
    }
   ],
   "source": [
    "c, p, dof, expected = stat.chi2_contingency(ct_eth)\n",
    "\n",
    "print('Pearson Chi-Square: ', c)\n",
    "print('p-value: ', p)"
   ]
  },
  {
   "cell_type": "code",
   "execution_count": 15,
   "metadata": {},
   "outputs": [],
   "source": [
    "# We conclude there is a relationship between pain meds and ethnicity."
   ]
  },
  {
   "cell_type": "markdown",
   "metadata": {},
   "source": [
    "___\n",
    "##### Checking between groups"
   ]
  },
  {
   "cell_type": "code",
   "execution_count": 16,
   "metadata": {},
   "outputs": [
    {
     "data": {
      "text/html": [
       "<div>\n",
       "<style scoped>\n",
       "    .dataframe tbody tr th:only-of-type {\n",
       "        vertical-align: middle;\n",
       "    }\n",
       "\n",
       "    .dataframe tbody tr th {\n",
       "        vertical-align: top;\n",
       "    }\n",
       "\n",
       "    .dataframe thead th {\n",
       "        text-align: right;\n",
       "    }\n",
       "</style>\n",
       "<table border=\"1\" class=\"dataframe\">\n",
       "  <thead>\n",
       "    <tr style=\"text-align: right;\">\n",
       "      <th>ethnicity</th>\n",
       "      <th>African American</th>\n",
       "      <th>Caucasian</th>\n",
       "    </tr>\n",
       "    <tr>\n",
       "      <th>painmeds</th>\n",
       "      <th></th>\n",
       "      <th></th>\n",
       "    </tr>\n",
       "  </thead>\n",
       "  <tbody>\n",
       "    <tr>\n",
       "      <td>False</td>\n",
       "      <td>7133</td>\n",
       "      <td>55862</td>\n",
       "    </tr>\n",
       "    <tr>\n",
       "      <td>True</td>\n",
       "      <td>14170</td>\n",
       "      <td>99411</td>\n",
       "    </tr>\n",
       "  </tbody>\n",
       "</table>\n",
       "</div>"
      ],
      "text/plain": [
       "ethnicity  African American  Caucasian\n",
       "painmeds                              \n",
       "False                  7133      55862\n",
       "True                  14170      99411"
      ]
     },
     "execution_count": 16,
     "metadata": {},
     "output_type": "execute_result"
    }
   ],
   "source": [
    "c_aa_ = ct_eth[['African American','Caucasian']]\n",
    "c_aa_"
   ]
  },
  {
   "cell_type": "code",
   "execution_count": 17,
   "metadata": {},
   "outputs": [
    {
     "name": "stdout",
     "output_type": "stream",
     "text": [
      "Pearson Chi-Square:  50.62923307941546\n",
      "p-value:  1.1157076832988328e-12\n"
     ]
    }
   ],
   "source": [
    "c, p, dof, expected = stat.chi2_contingency(c_aa_)\n",
    "\n",
    "print('Pearson Chi-Square: ', c)\n",
    "print('p-value: ', p)"
   ]
  },
  {
   "cell_type": "markdown",
   "metadata": {},
   "source": [
    "___\n",
    "### Test 2:\n",
    "H<sub>0</sub>: NSAID administration is independent of patient ethnicity.  \n",
    "H<sub>1</sub>: NSAID administration is not independent of patient ethnicity."
   ]
  },
  {
   "cell_type": "code",
   "execution_count": 18,
   "metadata": {},
   "outputs": [
    {
     "data": {
      "text/html": [
       "<div>\n",
       "<style scoped>\n",
       "    .dataframe tbody tr th:only-of-type {\n",
       "        vertical-align: middle;\n",
       "    }\n",
       "\n",
       "    .dataframe tbody tr th {\n",
       "        vertical-align: top;\n",
       "    }\n",
       "\n",
       "    .dataframe thead th {\n",
       "        text-align: right;\n",
       "    }\n",
       "</style>\n",
       "<table border=\"1\" class=\"dataframe\">\n",
       "  <thead>\n",
       "    <tr style=\"text-align: right;\">\n",
       "      <th>ethnicity</th>\n",
       "      <th>African American</th>\n",
       "      <th>Asian</th>\n",
       "      <th>Caucasian</th>\n",
       "      <th>Hispanic</th>\n",
       "      <th>Native American</th>\n",
       "      <th>Other/Unknown</th>\n",
       "    </tr>\n",
       "    <tr>\n",
       "      <th>nsaid</th>\n",
       "      <th></th>\n",
       "      <th></th>\n",
       "      <th></th>\n",
       "      <th></th>\n",
       "      <th></th>\n",
       "      <th></th>\n",
       "    </tr>\n",
       "  </thead>\n",
       "  <tbody>\n",
       "    <tr>\n",
       "      <td>False</td>\n",
       "      <td>9138</td>\n",
       "      <td>1582</td>\n",
       "      <td>71334</td>\n",
       "      <td>3311</td>\n",
       "      <td>832</td>\n",
       "      <td>3889</td>\n",
       "    </tr>\n",
       "    <tr>\n",
       "      <td>True</td>\n",
       "      <td>12165</td>\n",
       "      <td>1688</td>\n",
       "      <td>83939</td>\n",
       "      <td>4151</td>\n",
       "      <td>868</td>\n",
       "      <td>5634</td>\n",
       "    </tr>\n",
       "  </tbody>\n",
       "</table>\n",
       "</div>"
      ],
      "text/plain": [
       "ethnicity  African American  Asian  Caucasian  Hispanic  Native American  \\\n",
       "nsaid                                                                      \n",
       "False                  9138   1582      71334      3311              832   \n",
       "True                  12165   1688      83939      4151              868   \n",
       "\n",
       "ethnicity  Other/Unknown  \n",
       "nsaid                     \n",
       "False               3889  \n",
       "True                5634  "
      ]
     },
     "execution_count": 18,
     "metadata": {},
     "output_type": "execute_result"
    }
   ],
   "source": [
    "ct_ns = pd.crosstab(pts.nsaid, pts.ethnicity)\n",
    "ct_ns"
   ]
  },
  {
   "cell_type": "code",
   "execution_count": 19,
   "metadata": {},
   "outputs": [
    {
     "name": "stdout",
     "output_type": "stream",
     "text": [
      "Pearson Chi-Square:  175.6636096040291\n",
      "p-value:  4.5119983260464e-36\n"
     ]
    }
   ],
   "source": [
    "c, p, dof, expected = stat.chi2_contingency(ct_ns)\n",
    "\n",
    "print('Pearson Chi-Square: ', c)\n",
    "print('p-value: ', p)"
   ]
  },
  {
   "cell_type": "code",
   "execution_count": 20,
   "metadata": {},
   "outputs": [
    {
     "data": {
      "text/html": [
       "<div>\n",
       "<style scoped>\n",
       "    .dataframe tbody tr th:only-of-type {\n",
       "        vertical-align: middle;\n",
       "    }\n",
       "\n",
       "    .dataframe tbody tr th {\n",
       "        vertical-align: top;\n",
       "    }\n",
       "\n",
       "    .dataframe thead th {\n",
       "        text-align: right;\n",
       "    }\n",
       "</style>\n",
       "<table border=\"1\" class=\"dataframe\">\n",
       "  <thead>\n",
       "    <tr style=\"text-align: right;\">\n",
       "      <th>ethnicity</th>\n",
       "      <th>African American</th>\n",
       "      <th>Caucasian</th>\n",
       "    </tr>\n",
       "    <tr>\n",
       "      <th>nsaid</th>\n",
       "      <th></th>\n",
       "      <th></th>\n",
       "    </tr>\n",
       "  </thead>\n",
       "  <tbody>\n",
       "    <tr>\n",
       "      <td>False</td>\n",
       "      <td>9138</td>\n",
       "      <td>71334</td>\n",
       "    </tr>\n",
       "    <tr>\n",
       "      <td>True</td>\n",
       "      <td>12165</td>\n",
       "      <td>83939</td>\n",
       "    </tr>\n",
       "  </tbody>\n",
       "</table>\n",
       "</div>"
      ],
      "text/plain": [
       "ethnicity  African American  Caucasian\n",
       "nsaid                                 \n",
       "False                  9138      71334\n",
       "True                  12165      83939"
      ]
     },
     "execution_count": 20,
     "metadata": {},
     "output_type": "execute_result"
    }
   ],
   "source": [
    "c_aa_ns = ct_ns[['African American','Caucasian']]\n",
    "c_aa_ns # do for all groups"
   ]
  },
  {
   "cell_type": "code",
   "execution_count": 21,
   "metadata": {},
   "outputs": [
    {
     "name": "stdout",
     "output_type": "stream",
     "text": [
      "Pearson Chi-Square:  69.93289085501533\n",
      "p-value:  6.135678877293122e-17\n"
     ]
    }
   ],
   "source": [
    "c, p, dof, expected = stat.chi2_contingency(c_aa_ns)\n",
    "\n",
    "print('Pearson Chi-Square: ', c)\n",
    "print('p-value: ', p)"
   ]
  },
  {
   "cell_type": "code",
   "execution_count": 22,
   "metadata": {},
   "outputs": [],
   "source": [
    "# We conclude there is a relationship between NSAIDs and ethnicity."
   ]
  },
  {
   "cell_type": "markdown",
   "metadata": {},
   "source": [
    "##### Test 3:\n",
    "H<sub>0</sub>: Opioid administration is independent of patient ethnicity.  \n",
    "H<sub>1</sub>: Opioid administration is not independent of patient ethnicity."
   ]
  },
  {
   "cell_type": "code",
   "execution_count": 23,
   "metadata": {},
   "outputs": [
    {
     "data": {
      "text/html": [
       "<div>\n",
       "<style scoped>\n",
       "    .dataframe tbody tr th:only-of-type {\n",
       "        vertical-align: middle;\n",
       "    }\n",
       "\n",
       "    .dataframe tbody tr th {\n",
       "        vertical-align: top;\n",
       "    }\n",
       "\n",
       "    .dataframe thead th {\n",
       "        text-align: right;\n",
       "    }\n",
       "</style>\n",
       "<table border=\"1\" class=\"dataframe\">\n",
       "  <thead>\n",
       "    <tr style=\"text-align: right;\">\n",
       "      <th>ethnicity</th>\n",
       "      <th>African American</th>\n",
       "      <th>Asian</th>\n",
       "      <th>Caucasian</th>\n",
       "      <th>Hispanic</th>\n",
       "      <th>Native American</th>\n",
       "      <th>Other/Unknown</th>\n",
       "    </tr>\n",
       "    <tr>\n",
       "      <th>opioid</th>\n",
       "      <th></th>\n",
       "      <th></th>\n",
       "      <th></th>\n",
       "      <th></th>\n",
       "      <th></th>\n",
       "      <th></th>\n",
       "    </tr>\n",
       "  </thead>\n",
       "  <tbody>\n",
       "    <tr>\n",
       "      <td>False</td>\n",
       "      <td>10793</td>\n",
       "      <td>1783</td>\n",
       "      <td>79875</td>\n",
       "      <td>4287</td>\n",
       "      <td>711</td>\n",
       "      <td>4246</td>\n",
       "    </tr>\n",
       "    <tr>\n",
       "      <td>True</td>\n",
       "      <td>10510</td>\n",
       "      <td>1487</td>\n",
       "      <td>75398</td>\n",
       "      <td>3175</td>\n",
       "      <td>989</td>\n",
       "      <td>5277</td>\n",
       "    </tr>\n",
       "  </tbody>\n",
       "</table>\n",
       "</div>"
      ],
      "text/plain": [
       "ethnicity  African American  Asian  Caucasian  Hispanic  Native American  \\\n",
       "opioid                                                                     \n",
       "False                 10793   1783      79875      4287              711   \n",
       "True                  10510   1487      75398      3175              989   \n",
       "\n",
       "ethnicity  Other/Unknown  \n",
       "opioid                    \n",
       "False               4246  \n",
       "True                5277  "
      ]
     },
     "execution_count": 23,
     "metadata": {},
     "output_type": "execute_result"
    }
   ],
   "source": [
    "ct_op = pd.crosstab(pts.opioid, pts.ethnicity)\n",
    "ct_op"
   ]
  },
  {
   "cell_type": "code",
   "execution_count": 24,
   "metadata": {},
   "outputs": [
    {
     "name": "stdout",
     "output_type": "stream",
     "text": [
      "Pearson Chi-Square:  363.72782931329766\n",
      "p-value:  1.9367166584256222e-76\n"
     ]
    }
   ],
   "source": [
    "c, p, dof, expected = stat.chi2_contingency(ct_op)\n",
    "\n",
    "print('Pearson Chi-Square: ', c)\n",
    "print('p-value: ', p)"
   ]
  },
  {
   "cell_type": "code",
   "execution_count": 25,
   "metadata": {},
   "outputs": [
    {
     "data": {
      "text/html": [
       "<div>\n",
       "<style scoped>\n",
       "    .dataframe tbody tr th:only-of-type {\n",
       "        vertical-align: middle;\n",
       "    }\n",
       "\n",
       "    .dataframe tbody tr th {\n",
       "        vertical-align: top;\n",
       "    }\n",
       "\n",
       "    .dataframe thead th {\n",
       "        text-align: right;\n",
       "    }\n",
       "</style>\n",
       "<table border=\"1\" class=\"dataframe\">\n",
       "  <thead>\n",
       "    <tr style=\"text-align: right;\">\n",
       "      <th>ethnicity</th>\n",
       "      <th>African American</th>\n",
       "      <th>Caucasian</th>\n",
       "    </tr>\n",
       "    <tr>\n",
       "      <th>opioid</th>\n",
       "      <th></th>\n",
       "      <th></th>\n",
       "    </tr>\n",
       "  </thead>\n",
       "  <tbody>\n",
       "    <tr>\n",
       "      <td>False</td>\n",
       "      <td>10793</td>\n",
       "      <td>79875</td>\n",
       "    </tr>\n",
       "    <tr>\n",
       "      <td>True</td>\n",
       "      <td>10510</td>\n",
       "      <td>75398</td>\n",
       "    </tr>\n",
       "  </tbody>\n",
       "</table>\n",
       "</div>"
      ],
      "text/plain": [
       "ethnicity  African American  Caucasian\n",
       "opioid                                \n",
       "False                 10793      79875\n",
       "True                  10510      75398"
      ]
     },
     "execution_count": 25,
     "metadata": {},
     "output_type": "execute_result"
    }
   ],
   "source": [
    "c_aa = ct_op[['African American','Caucasian']]\n",
    "c_aa # do for all groups"
   ]
  },
  {
   "cell_type": "code",
   "execution_count": 26,
   "metadata": {},
   "outputs": [
    {
     "name": "stdout",
     "output_type": "stream",
     "text": [
      "Pearson Chi-Square:  4.501058436247424\n",
      "p-value:  0.03387388028679605\n"
     ]
    }
   ],
   "source": [
    "c, p, dof, expected = stat.chi2_contingency(c_aa)\n",
    "\n",
    "print('Pearson Chi-Square: ', c)\n",
    "print('p-value: ', p)"
   ]
  },
  {
   "cell_type": "code",
   "execution_count": 27,
   "metadata": {},
   "outputs": [],
   "source": [
    "# We conclude there is a relationship between Opioids and ethnicity."
   ]
  },
  {
   "cell_type": "markdown",
   "metadata": {},
   "source": [
    "___\n",
    "### Morphine Equivalence Analysis"
   ]
  },
  {
   "cell_type": "code",
   "execution_count": 28,
   "metadata": {},
   "outputs": [],
   "source": [
    "opi = pd.read_csv('opioids_final.csv')\n",
    "opi = pd.merge(opi, pts, on=['patientunitstayid'], how = 'left')"
   ]
  },
  {
   "cell_type": "code",
   "execution_count": 39,
   "metadata": {},
   "outputs": [
    {
     "data": {
      "text/html": [
       "<div>\n",
       "<style scoped>\n",
       "    .dataframe tbody tr th:only-of-type {\n",
       "        vertical-align: middle;\n",
       "    }\n",
       "\n",
       "    .dataframe tbody tr th {\n",
       "        vertical-align: top;\n",
       "    }\n",
       "\n",
       "    .dataframe thead th {\n",
       "        text-align: right;\n",
       "    }\n",
       "</style>\n",
       "<table border=\"1\" class=\"dataframe\">\n",
       "  <thead>\n",
       "    <tr style=\"text-align: right;\">\n",
       "      <th></th>\n",
       "      <th>patientunitstayid</th>\n",
       "      <th>mme_per_day</th>\n",
       "    </tr>\n",
       "  </thead>\n",
       "  <tbody>\n",
       "    <tr>\n",
       "      <td>0</td>\n",
       "      <td>141168</td>\n",
       "      <td>1728.0</td>\n",
       "    </tr>\n",
       "    <tr>\n",
       "      <td>1</td>\n",
       "      <td>141194</td>\n",
       "      <td>140.3</td>\n",
       "    </tr>\n",
       "    <tr>\n",
       "      <td>2</td>\n",
       "      <td>141196</td>\n",
       "      <td>24.0</td>\n",
       "    </tr>\n",
       "    <tr>\n",
       "      <td>3</td>\n",
       "      <td>141203</td>\n",
       "      <td>192.0</td>\n",
       "    </tr>\n",
       "    <tr>\n",
       "      <td>4</td>\n",
       "      <td>141227</td>\n",
       "      <td>3.5</td>\n",
       "    </tr>\n",
       "  </tbody>\n",
       "</table>\n",
       "</div>"
      ],
      "text/plain": [
       "   patientunitstayid  mme_per_day\n",
       "0             141168       1728.0\n",
       "1             141194        140.3\n",
       "2             141196         24.0\n",
       "3             141203        192.0\n",
       "4             141227          3.5"
      ]
     },
     "execution_count": 39,
     "metadata": {},
     "output_type": "execute_result"
    }
   ],
   "source": [
    "opi_stat = opi[['patientunitstayid','mme_per_day']]\n",
    "#opi_stat.fillna(value='Other/Unknown', inplace=True)\n",
    "\n",
    "opi_stat.head()"
   ]
  },
  {
   "cell_type": "code",
   "execution_count": 34,
   "metadata": {},
   "outputs": [
    {
     "data": {
      "text/plain": [
       "Text(0, 0.5, 'MME per Day')"
      ]
     },
     "execution_count": 34,
     "metadata": {},
     "output_type": "execute_result"
    },
    {
     "data": {
      "image/png": "[encoded data removed]",
      "text/plain": [
       "<Figure size 1008x324 with 1 Axes>"
      ]
     },
     "metadata": {
      "needs_background": "light"
     },
     "output_type": "display_data"
    }
   ],
   "source": [
    "plt.figure(figsize=(14, 4.5))\n",
    "sns.barplot(x='ethnicity',y='mme_per_day',data=opi_stat, estimator=np.mean)\n",
    "plt.xlabel('Ethnicity')\n",
    "plt.ylabel('MME per Day')"
   ]
  },
  {
   "cell_type": "code",
   "execution_count": 35,
   "metadata": {},
   "outputs": [
    {
     "name": "stdout",
     "output_type": "stream",
     "text": [
      "Caucasian: k-value: 0.8767174670247365 p-value: 0.0\n",
      "African America: k-value: 0.8802065734372484 p-value: 0.0\n",
      "Asian: k-value: 0.8568727832077309 p-value: 0.0\n",
      "Hispanic: k-value: 0.9483342054012184 p-value: 0.0\n",
      "Native American: k-value: 0.8643466422453692 p-value: 0.0\n",
      "Other: k-value: 0.8664040969075422 p-value: 0.0\n"
     ]
    }
   ],
   "source": [
    "# Testing for Normal Distribution\n",
    "\n",
    "opi_stat_c = list(opi_stat[opi_stat.ethnicity == 'Caucasian'].mme_per_day)\n",
    "opi_stat_aa = list(opi_stat[opi_stat.ethnicity == 'African American'].mme_per_day)\n",
    "opi_stat_a = list(opi_stat[opi_stat.ethnicity == 'Asian'].mme_per_day)\n",
    "opi_stat_h = list(opi_stat[opi_stat.ethnicity == 'Hispanic'].mme_per_day)\n",
    "opi_stat_na = list(opi_stat[opi_stat.ethnicity == 'Native American'].mme_per_day)\n",
    "opi_stat_o = list(opi_stat[opi_stat.ethnicity == 'Other/Unknown'].mme_per_day)\n",
    "\n",
    "k_c, p_c = stat.kstest(opi_stat_c, 'norm')\n",
    "k_aa, p_aa = stat.kstest(opi_stat_aa, 'norm')\n",
    "k_a, p_a = stat.kstest(opi_stat_a, 'norm')\n",
    "k_h, p_h = stat.kstest(opi_stat_h, 'norm')\n",
    "k_na, p_na = stat.kstest(opi_stat_na, 'norm')\n",
    "k_o, p_o = stat.kstest(opi_stat_o, 'norm')\n",
    "\n",
    "print('Caucasian: k-value:', k_c, 'p-value:', p_c)\n",
    "print('African America: k-value:', k_aa, 'p-value:', p_aa)\n",
    "print('Asian: k-value:', k_a, 'p-value:', p_a)\n",
    "print('Hispanic: k-value:', k_h, 'p-value:', p_h)\n",
    "print('Native American: k-value:', k_na, 'p-value:', p_na)\n",
    "print('Other: k-value:', k_o, 'p-value:', p_o)"
   ]
  },
  {
   "cell_type": "code",
   "execution_count": 36,
   "metadata": {},
   "outputs": [
    {
     "data": {
      "text/plain": [
       "KruskalResult(statistic=247.56945215358056, pvalue=1.826387379934342e-51)"
      ]
     },
     "execution_count": 36,
     "metadata": {},
     "output_type": "execute_result"
    }
   ],
   "source": [
    "# Non-normal distributions, using non-parametric Kruskal-Wallis H-test\n",
    "\n",
    "stat.kruskal(opi_stat_c,opi_stat_aa,opi_stat_a,opi_stat_h,opi_stat_na,opi_stat_o)"
   ]
  },
  {
   "cell_type": "code",
   "execution_count": null,
   "metadata": {},
   "outputs": [],
   "source": [
    "from statsmodels.stats.multicomp import pairwise_tukeyhsd\n",
    "\n",
    "# Multiple pairwise comparison (Tukey HSD) - whats the nonparametric equivalent?\n",
    "\n",
    "m_comp = pairwise_tukeyhsd(endog=opi_stat['mme_per_day'], groups=opi_stat['ethnicity'], alpha=0.05)\n",
    "m_comp.summary()"
   ]
  },
  {
   "cell_type": "code",
   "execution_count": null,
   "metadata": {},
   "outputs": [],
   "source": [
    "nemenyi = sp.posthoc_nemenyi(opi_stat, 'mme_per_day', 'ethnicity')\n",
    "nemenyi"
   ]
  },
  {
   "cell_type": "code",
   "execution_count": null,
   "metadata": {},
   "outputs": [],
   "source": [
    "# Bonferroni correction\n",
    "\n",
    "pvals = [] # grab pvals from nemenyi df above by columns\n",
    "\n",
    "for i in nemenyi.columns:\n",
    "    pvals = pvals + list(nemenyi[i])\n",
    "\n",
    "from statsmodels.stats.multitest import multipletests\n",
    "\n",
    "p_adjusted = multipletests(pvals, alpha=0.05, method='bonferroni')"
   ]
  },
  {
   "cell_type": "code",
   "execution_count": null,
   "metadata": {},
   "outputs": [],
   "source": [
    "print('Corrected alpha for Bonferroni method: ', p_adjusted[3])"
   ]
  },
  {
   "cell_type": "code",
   "execution_count": null,
   "metadata": {},
   "outputs": [],
   "source": [
    "group1 = []\n",
    "group2 = []\n",
    "\n",
    "for col in nemenyi.columns:\n",
    "    for row in nemenyi.index:\n",
    "        group1.append(col)\n",
    "        group2.append(row)"
   ]
  },
  {
   "cell_type": "code",
   "execution_count": null,
   "metadata": {},
   "outputs": [],
   "source": [
    "d = {'group1': group1, 'group2': group2, 'p_vals': p_adjusted[1], 'reject': p_adjusted[0]}\n",
    "\n",
    "nemenyi_comp = pd.DataFrame(data=d)"
   ]
  },
  {
   "cell_type": "code",
   "execution_count": null,
   "metadata": {},
   "outputs": [],
   "source": [
    "nemenyi_comp"
   ]
  },
  {
   "cell_type": "code",
   "execution_count": null,
   "metadata": {},
   "outputs": [],
   "source": [
    "# Still need to remove duplicates \n",
    "# (i.e., group1 = African American, group2 = Caucasian &  group1 = Caucasian, group2 = African American)"
   ]
  },
  {
   "cell_type": "markdown",
   "metadata": {},
   "source": [
    "### Chi Square for Specific Groups"
   ]
  },
  {
   "cell_type": "code",
   "execution_count": null,
   "metadata": {},
   "outputs": [],
   "source": [
    "opi_eth = pd.get_dummies(pts, columns=['ethnicity'])"
   ]
  },
  {
   "cell_type": "code",
   "execution_count": null,
   "metadata": {},
   "outputs": [],
   "source": [
    "opi_eth.head()"
   ]
  },
  {
   "cell_type": "code",
   "execution_count": null,
   "metadata": {},
   "outputs": [],
   "source": [
    "african_american = pd.crosstab(opi_eth.opioid, opi_eth['ethnicity_African American'])\n",
    "african_american"
   ]
  },
  {
   "cell_type": "code",
   "execution_count": null,
   "metadata": {},
   "outputs": [],
   "source": [
    "c, p, dof, expected = stat.chi2_contingency(african_american)\n",
    "\n",
    "print('Pearson Chi-Square: ', c)\n",
    "print('p-value: ', p)"
   ]
  },
  {
   "cell_type": "code",
   "execution_count": null,
   "metadata": {},
   "outputs": [],
   "source": [
    "asian = pd.crosstab(opi_eth.opioid, opi_eth['ethnicity_Asian'])\n",
    "asian"
   ]
  },
  {
   "cell_type": "code",
   "execution_count": null,
   "metadata": {},
   "outputs": [],
   "source": [
    "c, p, dof, expected = stat.chi2_contingency(asian)\n",
    "\n",
    "print('Pearson Chi-Square: ', c)\n",
    "print('p-value: ', p)"
   ]
  },
  {
   "cell_type": "code",
   "execution_count": null,
   "metadata": {},
   "outputs": [],
   "source": [
    "caucasian = pd.crosstab(opi_eth.opioid, opi_eth['ethnicity_Caucasian'])\n",
    "caucasian"
   ]
  },
  {
   "cell_type": "code",
   "execution_count": null,
   "metadata": {},
   "outputs": [],
   "source": [
    "c, p, dof, expected = stat.chi2_contingency(caucasian)\n",
    "\n",
    "print('Pearson Chi-Square: ', c)\n",
    "print('p-value: ', p)"
   ]
  },
  {
   "cell_type": "code",
   "execution_count": null,
   "metadata": {},
   "outputs": [],
   "source": [
    "hispanic = pd.crosstab(opi_eth.opioid, opi_eth['ethnicity_Hispanic'])\n",
    "hispanic"
   ]
  },
  {
   "cell_type": "code",
   "execution_count": null,
   "metadata": {},
   "outputs": [],
   "source": [
    "c, p, dof, expected = stat.chi2_contingency(hispanic)\n",
    "\n",
    "print('Pearson Chi-Square: ', c)\n",
    "print('p-value: ', p)"
   ]
  },
  {
   "cell_type": "code",
   "execution_count": null,
   "metadata": {},
   "outputs": [],
   "source": [
    "namerican = pd.crosstab(opi_eth.opioid, opi_eth['ethnicity_Native American'])\n",
    "namerican"
   ]
  },
  {
   "cell_type": "code",
   "execution_count": null,
   "metadata": {},
   "outputs": [],
   "source": [
    "c, p, dof, expected = stat.chi2_contingency(namerican)\n",
    "\n",
    "print('Pearson Chi-Square: ', c)\n",
    "print('p-value: ', p)"
   ]
  },
  {
   "cell_type": "code",
   "execution_count": null,
   "metadata": {},
   "outputs": [],
   "source": [
    "other = pd.crosstab(opi_eth.opioid, opi_eth['ethnicity_Other/Unknown'])\n",
    "other"
   ]
  },
  {
   "cell_type": "code",
   "execution_count": null,
   "metadata": {},
   "outputs": [],
   "source": [
    "c, p, dof, expected = stat.chi2_contingency(other)\n",
    "\n",
    "print('Pearson Chi-Square: ', c)\n",
    "print('p-value: ', p)"
   ]
  },
  {
   "cell_type": "markdown",
   "metadata": {},
   "source": [
    "___\n",
    "### Multivariate Analysis"
   ]
  },
  {
   "cell_type": "code",
   "execution_count": 40,
   "metadata": {},
   "outputs": [],
   "source": [
    "apache = pd.read_csv('eicu-collaborative-research-database-2.0/apachePatientResult.csv.gz')\n",
    "\n",
    "apache = apache[apache['apacheversion']=='IV']\n",
    "apache_scores = apache[['patientunitstayid','apachescore','actualventdays']]\n",
    "pts = pd.merge(pts, apache_scores, on=['patientunitstayid'], how = 'right')"
   ]
  },
  {
   "cell_type": "code",
   "execution_count": 41,
   "metadata": {},
   "outputs": [],
   "source": [
    "pts.actualventdays.fillna(value=0, inplace=True)"
   ]
  },
  {
   "cell_type": "code",
   "execution_count": 73,
   "metadata": {},
   "outputs": [
    {
     "data": {
      "text/html": [
       "<div>\n",
       "<style scoped>\n",
       "    .dataframe tbody tr th:only-of-type {\n",
       "        vertical-align: middle;\n",
       "    }\n",
       "\n",
       "    .dataframe tbody tr th {\n",
       "        vertical-align: top;\n",
       "    }\n",
       "\n",
       "    .dataframe thead th {\n",
       "        text-align: right;\n",
       "    }\n",
       "</style>\n",
       "<table border=\"1\" class=\"dataframe\">\n",
       "  <thead>\n",
       "    <tr style=\"text-align: right;\">\n",
       "      <th></th>\n",
       "      <th>patientunitstayid</th>\n",
       "      <th>patienthealthsystemstayid</th>\n",
       "      <th>gender</th>\n",
       "      <th>age</th>\n",
       "      <th>ethnicity</th>\n",
       "      <th>hospitalid</th>\n",
       "      <th>wardid</th>\n",
       "      <th>apacheadmissiondx</th>\n",
       "      <th>admissionheight</th>\n",
       "      <th>hospitaladmittime24</th>\n",
       "      <th>hospitaladmitoffset</th>\n",
       "      <th>hospitaladmitsource</th>\n",
       "      <th>hospitaldischargeyear</th>\n",
       "      <th>hospitaldischargetime24</th>\n",
       "      <th>hospitaldischargeoffset</th>\n",
       "      <th>hospitaldischargelocation</th>\n",
       "      <th>hospitaldischargestatus</th>\n",
       "      <th>unittype</th>\n",
       "      <th>unitadmittime24</th>\n",
       "      <th>unitadmitsource</th>\n",
       "      <th>unitvisitnumber</th>\n",
       "      <th>unitstaytype</th>\n",
       "      <th>admissionweight</th>\n",
       "      <th>dischargeweight</th>\n",
       "      <th>unitdischargetime24</th>\n",
       "      <th>unitdischargeoffset</th>\n",
       "      <th>unitdischargelocation</th>\n",
       "      <th>unitdischargestatus</th>\n",
       "      <th>uniquepid</th>\n",
       "      <th>opioid</th>\n",
       "      <th>nsaid</th>\n",
       "      <th>numbedscategory</th>\n",
       "      <th>teachingstatus</th>\n",
       "      <th>region</th>\n",
       "      <th>painmeds</th>\n",
       "      <th>apachescore</th>\n",
       "      <th>actualventdays</th>\n",
       "    </tr>\n",
       "  </thead>\n",
       "  <tbody>\n",
       "    <tr>\n",
       "      <td>0</td>\n",
       "      <td>141168</td>\n",
       "      <td>128919.0</td>\n",
       "      <td>Female</td>\n",
       "      <td>70.0</td>\n",
       "      <td>Caucasian</td>\n",
       "      <td>59.0</td>\n",
       "      <td>91.0</td>\n",
       "      <td>Rhythm disturbance (atrial, supraventricular)</td>\n",
       "      <td>152.4</td>\n",
       "      <td>15:54:00</td>\n",
       "      <td>0.0</td>\n",
       "      <td>Direct Admit</td>\n",
       "      <td>2015.0</td>\n",
       "      <td>03:50:00</td>\n",
       "      <td>3596.0</td>\n",
       "      <td>Death</td>\n",
       "      <td>Expired</td>\n",
       "      <td>Med-Surg ICU</td>\n",
       "      <td>15:54:00</td>\n",
       "      <td>Direct Admit</td>\n",
       "      <td>1.0</td>\n",
       "      <td>admit</td>\n",
       "      <td>84.3</td>\n",
       "      <td>85.8</td>\n",
       "      <td>03:50:00</td>\n",
       "      <td>3596.0</td>\n",
       "      <td>Death</td>\n",
       "      <td>Expired</td>\n",
       "      <td>002-34851</td>\n",
       "      <td>True</td>\n",
       "      <td>True</td>\n",
       "      <td>&lt;100</td>\n",
       "      <td>f</td>\n",
       "      <td>Midwest</td>\n",
       "      <td>True</td>\n",
       "      <td>65</td>\n",
       "      <td>0.0</td>\n",
       "    </tr>\n",
       "    <tr>\n",
       "      <td>1</td>\n",
       "      <td>141194</td>\n",
       "      <td>128941.0</td>\n",
       "      <td>Male</td>\n",
       "      <td>68.0</td>\n",
       "      <td>Caucasian</td>\n",
       "      <td>73.0</td>\n",
       "      <td>92.0</td>\n",
       "      <td>Sepsis, renal/UTI (including bladder)</td>\n",
       "      <td>180.3</td>\n",
       "      <td>18:18:40</td>\n",
       "      <td>-780.0</td>\n",
       "      <td>Floor</td>\n",
       "      <td>2015.0</td>\n",
       "      <td>23:30:00</td>\n",
       "      <td>12492.0</td>\n",
       "      <td>Home</td>\n",
       "      <td>Alive</td>\n",
       "      <td>CTICU</td>\n",
       "      <td>07:18:00</td>\n",
       "      <td>Floor</td>\n",
       "      <td>1.0</td>\n",
       "      <td>admit</td>\n",
       "      <td>73.9</td>\n",
       "      <td>76.7</td>\n",
       "      <td>15:31:00</td>\n",
       "      <td>4813.0</td>\n",
       "      <td>Floor</td>\n",
       "      <td>Alive</td>\n",
       "      <td>002-5276</td>\n",
       "      <td>True</td>\n",
       "      <td>True</td>\n",
       "      <td>&gt;= 500</td>\n",
       "      <td>t</td>\n",
       "      <td>Midwest</td>\n",
       "      <td>True</td>\n",
       "      <td>70</td>\n",
       "      <td>0.0</td>\n",
       "    </tr>\n",
       "    <tr>\n",
       "      <td>2</td>\n",
       "      <td>141203</td>\n",
       "      <td>128948.0</td>\n",
       "      <td>Female</td>\n",
       "      <td>77.0</td>\n",
       "      <td>Caucasian</td>\n",
       "      <td>66.0</td>\n",
       "      <td>90.0</td>\n",
       "      <td>Arrest, respiratory (without cardiac arrest)</td>\n",
       "      <td>160.0</td>\n",
       "      <td>22:23:00</td>\n",
       "      <td>-1336.0</td>\n",
       "      <td>Floor</td>\n",
       "      <td>2014.0</td>\n",
       "      <td>16:22:00</td>\n",
       "      <td>4063.0</td>\n",
       "      <td>Other External</td>\n",
       "      <td>Alive</td>\n",
       "      <td>Med-Surg ICU</td>\n",
       "      <td>20:39:00</td>\n",
       "      <td>Floor</td>\n",
       "      <td>1.0</td>\n",
       "      <td>admit</td>\n",
       "      <td>70.2</td>\n",
       "      <td>70.3</td>\n",
       "      <td>03:48:00</td>\n",
       "      <td>1869.0</td>\n",
       "      <td>Floor</td>\n",
       "      <td>Alive</td>\n",
       "      <td>002-23234</td>\n",
       "      <td>True</td>\n",
       "      <td>True</td>\n",
       "      <td>100 - 249</td>\n",
       "      <td>f</td>\n",
       "      <td>Midwest</td>\n",
       "      <td>True</td>\n",
       "      <td>90</td>\n",
       "      <td>2.0</td>\n",
       "    </tr>\n",
       "    <tr>\n",
       "      <td>3</td>\n",
       "      <td>141208</td>\n",
       "      <td>128952.0</td>\n",
       "      <td>Female</td>\n",
       "      <td>25.0</td>\n",
       "      <td>Caucasian</td>\n",
       "      <td>73.0</td>\n",
       "      <td>93.0</td>\n",
       "      <td>Overdose, sedatives, hypnotics, antipsychotics...</td>\n",
       "      <td>172.7</td>\n",
       "      <td>11:23:00</td>\n",
       "      <td>-1.0</td>\n",
       "      <td>Emergency Department</td>\n",
       "      <td>2015.0</td>\n",
       "      <td>21:30:00</td>\n",
       "      <td>606.0</td>\n",
       "      <td>Other Hospital</td>\n",
       "      <td>Alive</td>\n",
       "      <td>Med-Surg ICU</td>\n",
       "      <td>11:24:00</td>\n",
       "      <td>Emergency Department</td>\n",
       "      <td>1.0</td>\n",
       "      <td>admit</td>\n",
       "      <td>95.3</td>\n",
       "      <td>95.3</td>\n",
       "      <td>23:24:00</td>\n",
       "      <td>720.0</td>\n",
       "      <td>Home</td>\n",
       "      <td>Alive</td>\n",
       "      <td>002-34521</td>\n",
       "      <td>False</td>\n",
       "      <td>True</td>\n",
       "      <td>&gt;= 500</td>\n",
       "      <td>t</td>\n",
       "      <td>Midwest</td>\n",
       "      <td>True</td>\n",
       "      <td>17</td>\n",
       "      <td>0.0</td>\n",
       "    </tr>\n",
       "    <tr>\n",
       "      <td>4</td>\n",
       "      <td>141227</td>\n",
       "      <td>128968.0</td>\n",
       "      <td>Male</td>\n",
       "      <td>82.0</td>\n",
       "      <td>Caucasian</td>\n",
       "      <td>60.0</td>\n",
       "      <td>83.0</td>\n",
       "      <td>Sepsis, pulmonary</td>\n",
       "      <td>185.4</td>\n",
       "      <td>19:19:00</td>\n",
       "      <td>-1004.0</td>\n",
       "      <td>Floor</td>\n",
       "      <td>2015.0</td>\n",
       "      <td>16:35:00</td>\n",
       "      <td>1712.0</td>\n",
       "      <td>Other Hospital</td>\n",
       "      <td>Alive</td>\n",
       "      <td>Med-Surg ICU</td>\n",
       "      <td>12:03:00</td>\n",
       "      <td>Floor</td>\n",
       "      <td>1.0</td>\n",
       "      <td>admit</td>\n",
       "      <td>82.2</td>\n",
       "      <td>82.2</td>\n",
       "      <td>15:35:00</td>\n",
       "      <td>1652.0</td>\n",
       "      <td>Other Hospital</td>\n",
       "      <td>Alive</td>\n",
       "      <td>002-21459</td>\n",
       "      <td>True</td>\n",
       "      <td>True</td>\n",
       "      <td>&lt;100</td>\n",
       "      <td>f</td>\n",
       "      <td>Midwest</td>\n",
       "      <td>True</td>\n",
       "      <td>100</td>\n",
       "      <td>2.0</td>\n",
       "    </tr>\n",
       "  </tbody>\n",
       "</table>\n",
       "</div>"
      ],
      "text/plain": [
       "   patientunitstayid  patienthealthsystemstayid  gender   age  ethnicity  \\\n",
       "0             141168                   128919.0  Female  70.0  Caucasian   \n",
       "1             141194                   128941.0    Male  68.0  Caucasian   \n",
       "2             141203                   128948.0  Female  77.0  Caucasian   \n",
       "3             141208                   128952.0  Female  25.0  Caucasian   \n",
       "4             141227                   128968.0    Male  82.0  Caucasian   \n",
       "\n",
       "   hospitalid  wardid                                  apacheadmissiondx  \\\n",
       "0        59.0    91.0      Rhythm disturbance (atrial, supraventricular)   \n",
       "1        73.0    92.0              Sepsis, renal/UTI (including bladder)   \n",
       "2        66.0    90.0       Arrest, respiratory (without cardiac arrest)   \n",
       "3        73.0    93.0  Overdose, sedatives, hypnotics, antipsychotics...   \n",
       "4        60.0    83.0                                  Sepsis, pulmonary   \n",
       "\n",
       "   admissionheight hospitaladmittime24  hospitaladmitoffset  \\\n",
       "0            152.4            15:54:00                  0.0   \n",
       "1            180.3            18:18:40               -780.0   \n",
       "2            160.0            22:23:00              -1336.0   \n",
       "3            172.7            11:23:00                 -1.0   \n",
       "4            185.4            19:19:00              -1004.0   \n",
       "\n",
       "    hospitaladmitsource  hospitaldischargeyear hospitaldischargetime24  \\\n",
       "0          Direct Admit                 2015.0                03:50:00   \n",
       "1                 Floor                 2015.0                23:30:00   \n",
       "2                 Floor                 2014.0                16:22:00   \n",
       "3  Emergency Department                 2015.0                21:30:00   \n",
       "4                 Floor                 2015.0                16:35:00   \n",
       "\n",
       "   hospitaldischargeoffset hospitaldischargelocation hospitaldischargestatus  \\\n",
       "0                   3596.0                     Death                 Expired   \n",
       "1                  12492.0                      Home                   Alive   \n",
       "2                   4063.0            Other External                   Alive   \n",
       "3                    606.0            Other Hospital                   Alive   \n",
       "4                   1712.0            Other Hospital                   Alive   \n",
       "\n",
       "       unittype unitadmittime24       unitadmitsource  unitvisitnumber  \\\n",
       "0  Med-Surg ICU        15:54:00          Direct Admit              1.0   \n",
       "1         CTICU        07:18:00                 Floor              1.0   \n",
       "2  Med-Surg ICU        20:39:00                 Floor              1.0   \n",
       "3  Med-Surg ICU        11:24:00  Emergency Department              1.0   \n",
       "4  Med-Surg ICU        12:03:00                 Floor              1.0   \n",
       "\n",
       "  unitstaytype  admissionweight  dischargeweight unitdischargetime24  \\\n",
       "0        admit             84.3             85.8            03:50:00   \n",
       "1        admit             73.9             76.7            15:31:00   \n",
       "2        admit             70.2             70.3            03:48:00   \n",
       "3        admit             95.3             95.3            23:24:00   \n",
       "4        admit             82.2             82.2            15:35:00   \n",
       "\n",
       "   unitdischargeoffset unitdischargelocation unitdischargestatus  uniquepid  \\\n",
       "0               3596.0                 Death             Expired  002-34851   \n",
       "1               4813.0                 Floor               Alive   002-5276   \n",
       "2               1869.0                 Floor               Alive  002-23234   \n",
       "3                720.0                  Home               Alive  002-34521   \n",
       "4               1652.0        Other Hospital               Alive  002-21459   \n",
       "\n",
       "  opioid nsaid numbedscategory teachingstatus   region painmeds  apachescore  \\\n",
       "0   True  True            <100              f  Midwest     True           65   \n",
       "1   True  True          >= 500              t  Midwest     True           70   \n",
       "2   True  True       100 - 249              f  Midwest     True           90   \n",
       "3  False  True          >= 500              t  Midwest     True           17   \n",
       "4   True  True            <100              f  Midwest     True          100   \n",
       "\n",
       "   actualventdays  \n",
       "0             0.0  \n",
       "1             0.0  \n",
       "2             2.0  \n",
       "3             0.0  \n",
       "4             2.0  "
      ]
     },
     "execution_count": 73,
     "metadata": {},
     "output_type": "execute_result"
    }
   ],
   "source": [
    "pts.head()"
   ]
  },
  {
   "cell_type": "code",
   "execution_count": 60,
   "metadata": {},
   "outputs": [],
   "source": [
    "pts_final = pts[['patientunitstayid','gender', 'age', 'ethnicity', 'teachingstatus', 'actualventdays', 'painmeds', 'opioid', 'nsaid']]"
   ]
  },
  {
   "cell_type": "code",
   "execution_count": 61,
   "metadata": {},
   "outputs": [
    {
     "data": {
      "text/html": [
       "<div>\n",
       "<style scoped>\n",
       "    .dataframe tbody tr th:only-of-type {\n",
       "        vertical-align: middle;\n",
       "    }\n",
       "\n",
       "    .dataframe tbody tr th {\n",
       "        vertical-align: top;\n",
       "    }\n",
       "\n",
       "    .dataframe thead th {\n",
       "        text-align: right;\n",
       "    }\n",
       "</style>\n",
       "<table border=\"1\" class=\"dataframe\">\n",
       "  <thead>\n",
       "    <tr style=\"text-align: right;\">\n",
       "      <th></th>\n",
       "      <th>patientunitstayid</th>\n",
       "      <th>gender</th>\n",
       "      <th>age</th>\n",
       "      <th>ethnicity</th>\n",
       "      <th>teachingstatus</th>\n",
       "      <th>actualventdays</th>\n",
       "      <th>painmeds</th>\n",
       "      <th>opioid</th>\n",
       "      <th>nsaid</th>\n",
       "    </tr>\n",
       "  </thead>\n",
       "  <tbody>\n",
       "    <tr>\n",
       "      <td>0</td>\n",
       "      <td>141168</td>\n",
       "      <td>Female</td>\n",
       "      <td>70.0</td>\n",
       "      <td>Caucasian</td>\n",
       "      <td>f</td>\n",
       "      <td>0.0</td>\n",
       "      <td>True</td>\n",
       "      <td>True</td>\n",
       "      <td>True</td>\n",
       "    </tr>\n",
       "    <tr>\n",
       "      <td>1</td>\n",
       "      <td>141194</td>\n",
       "      <td>Male</td>\n",
       "      <td>68.0</td>\n",
       "      <td>Caucasian</td>\n",
       "      <td>t</td>\n",
       "      <td>0.0</td>\n",
       "      <td>True</td>\n",
       "      <td>True</td>\n",
       "      <td>True</td>\n",
       "    </tr>\n",
       "    <tr>\n",
       "      <td>2</td>\n",
       "      <td>141203</td>\n",
       "      <td>Female</td>\n",
       "      <td>77.0</td>\n",
       "      <td>Caucasian</td>\n",
       "      <td>f</td>\n",
       "      <td>2.0</td>\n",
       "      <td>True</td>\n",
       "      <td>True</td>\n",
       "      <td>True</td>\n",
       "    </tr>\n",
       "    <tr>\n",
       "      <td>3</td>\n",
       "      <td>141208</td>\n",
       "      <td>Female</td>\n",
       "      <td>25.0</td>\n",
       "      <td>Caucasian</td>\n",
       "      <td>t</td>\n",
       "      <td>0.0</td>\n",
       "      <td>True</td>\n",
       "      <td>False</td>\n",
       "      <td>True</td>\n",
       "    </tr>\n",
       "    <tr>\n",
       "      <td>4</td>\n",
       "      <td>141227</td>\n",
       "      <td>Male</td>\n",
       "      <td>82.0</td>\n",
       "      <td>Caucasian</td>\n",
       "      <td>f</td>\n",
       "      <td>2.0</td>\n",
       "      <td>True</td>\n",
       "      <td>True</td>\n",
       "      <td>True</td>\n",
       "    </tr>\n",
       "  </tbody>\n",
       "</table>\n",
       "</div>"
      ],
      "text/plain": [
       "   patientunitstayid  gender   age  ethnicity teachingstatus  actualventdays  \\\n",
       "0             141168  Female  70.0  Caucasian              f             0.0   \n",
       "1             141194    Male  68.0  Caucasian              t             0.0   \n",
       "2             141203  Female  77.0  Caucasian              f             2.0   \n",
       "3             141208  Female  25.0  Caucasian              t             0.0   \n",
       "4             141227    Male  82.0  Caucasian              f             2.0   \n",
       "\n",
       "  painmeds opioid nsaid  \n",
       "0     True   True  True  \n",
       "1     True   True  True  \n",
       "2     True   True  True  \n",
       "3     True  False  True  \n",
       "4     True   True  True  "
      ]
     },
     "execution_count": 61,
     "metadata": {},
     "output_type": "execute_result"
    }
   ],
   "source": [
    "pts_final.head()"
   ]
  },
  {
   "cell_type": "code",
   "execution_count": 62,
   "metadata": {},
   "outputs": [],
   "source": [
    "pts_final.to_csv('final_patients.csv')"
   ]
  },
  {
   "cell_type": "code",
   "execution_count": null,
   "metadata": {},
   "outputs": [],
   "source": [
    "from pandas.plotting import scatter_matrix\n",
    "\n",
    "scatter_matrix(pts_final, diagonal=\"kde\")\n",
    "plt.show()"
   ]
  },
  {
   "cell_type": "code",
   "execution_count": 63,
   "metadata": {},
   "outputs": [
    {
     "data": {
      "text/html": [
       "<div>\n",
       "<style scoped>\n",
       "    .dataframe tbody tr th:only-of-type {\n",
       "        vertical-align: middle;\n",
       "    }\n",
       "\n",
       "    .dataframe tbody tr th {\n",
       "        vertical-align: top;\n",
       "    }\n",
       "\n",
       "    .dataframe thead th {\n",
       "        text-align: right;\n",
       "    }\n",
       "</style>\n",
       "<table border=\"1\" class=\"dataframe\">\n",
       "  <thead>\n",
       "    <tr style=\"text-align: right;\">\n",
       "      <th></th>\n",
       "      <th>patientunitstayid</th>\n",
       "      <th>gender</th>\n",
       "      <th>age</th>\n",
       "      <th>ethnicity</th>\n",
       "      <th>teachingstatus</th>\n",
       "      <th>actualventdays</th>\n",
       "      <th>painmeds</th>\n",
       "      <th>opioid</th>\n",
       "      <th>nsaid</th>\n",
       "      <th>mme_per_day</th>\n",
       "    </tr>\n",
       "  </thead>\n",
       "  <tbody>\n",
       "    <tr>\n",
       "      <td>0</td>\n",
       "      <td>141168</td>\n",
       "      <td>Female</td>\n",
       "      <td>70.0</td>\n",
       "      <td>Caucasian</td>\n",
       "      <td>f</td>\n",
       "      <td>0.0</td>\n",
       "      <td>True</td>\n",
       "      <td>True</td>\n",
       "      <td>True</td>\n",
       "      <td>1728.0</td>\n",
       "    </tr>\n",
       "    <tr>\n",
       "      <td>1</td>\n",
       "      <td>141194</td>\n",
       "      <td>Male</td>\n",
       "      <td>68.0</td>\n",
       "      <td>Caucasian</td>\n",
       "      <td>t</td>\n",
       "      <td>0.0</td>\n",
       "      <td>True</td>\n",
       "      <td>True</td>\n",
       "      <td>True</td>\n",
       "      <td>140.3</td>\n",
       "    </tr>\n",
       "    <tr>\n",
       "      <td>2</td>\n",
       "      <td>141203</td>\n",
       "      <td>Female</td>\n",
       "      <td>77.0</td>\n",
       "      <td>Caucasian</td>\n",
       "      <td>f</td>\n",
       "      <td>2.0</td>\n",
       "      <td>True</td>\n",
       "      <td>True</td>\n",
       "      <td>True</td>\n",
       "      <td>192.0</td>\n",
       "    </tr>\n",
       "    <tr>\n",
       "      <td>3</td>\n",
       "      <td>141208</td>\n",
       "      <td>Female</td>\n",
       "      <td>25.0</td>\n",
       "      <td>Caucasian</td>\n",
       "      <td>t</td>\n",
       "      <td>0.0</td>\n",
       "      <td>True</td>\n",
       "      <td>False</td>\n",
       "      <td>True</td>\n",
       "      <td>NaN</td>\n",
       "    </tr>\n",
       "    <tr>\n",
       "      <td>4</td>\n",
       "      <td>141227</td>\n",
       "      <td>Male</td>\n",
       "      <td>82.0</td>\n",
       "      <td>Caucasian</td>\n",
       "      <td>f</td>\n",
       "      <td>2.0</td>\n",
       "      <td>True</td>\n",
       "      <td>True</td>\n",
       "      <td>True</td>\n",
       "      <td>3.5</td>\n",
       "    </tr>\n",
       "  </tbody>\n",
       "</table>\n",
       "</div>"
      ],
      "text/plain": [
       "   patientunitstayid  gender   age  ethnicity teachingstatus  actualventdays  \\\n",
       "0             141168  Female  70.0  Caucasian              f             0.0   \n",
       "1             141194    Male  68.0  Caucasian              t             0.0   \n",
       "2             141203  Female  77.0  Caucasian              f             2.0   \n",
       "3             141208  Female  25.0  Caucasian              t             0.0   \n",
       "4             141227    Male  82.0  Caucasian              f             2.0   \n",
       "\n",
       "  painmeds opioid nsaid  mme_per_day  \n",
       "0     True   True  True       1728.0  \n",
       "1     True   True  True        140.3  \n",
       "2     True   True  True        192.0  \n",
       "3     True  False  True          NaN  \n",
       "4     True   True  True          3.5  "
      ]
     },
     "execution_count": 63,
     "metadata": {},
     "output_type": "execute_result"
    }
   ],
   "source": [
    "pts_final = pd.merge(pts_final, opi_stat, on=['patientunitstayid'], how = 'left')\n",
    "pts_final.head()"
   ]
  },
  {
   "cell_type": "code",
   "execution_count": 64,
   "metadata": {},
   "outputs": [],
   "source": [
    "pts_final.mme_per_day.fillna(0.0,inplace=True)"
   ]
  },
  {
   "cell_type": "code",
   "execution_count": 65,
   "metadata": {},
   "outputs": [],
   "source": [
    "pts_final.dropna(inplace=True)"
   ]
  },
  {
   "cell_type": "code",
   "execution_count": 66,
   "metadata": {},
   "outputs": [],
   "source": [
    "pts_final[\"painmeds\"] = pts_final[\"painmeds\"].astype(int)\n",
    "pts_final[\"opioid\"] = pts_final[\"opioid\"].astype(int)\n",
    "pts_final[\"nsaid\"] = pts_final[\"nsaid\"].astype(int)"
   ]
  },
  {
   "cell_type": "code",
   "execution_count": 70,
   "metadata": {},
   "outputs": [
    {
     "data": {
      "text/html": [
       "<div>\n",
       "<style scoped>\n",
       "    .dataframe tbody tr th:only-of-type {\n",
       "        vertical-align: middle;\n",
       "    }\n",
       "\n",
       "    .dataframe tbody tr th {\n",
       "        vertical-align: top;\n",
       "    }\n",
       "\n",
       "    .dataframe thead th {\n",
       "        text-align: right;\n",
       "    }\n",
       "</style>\n",
       "<table border=\"1\" class=\"dataframe\">\n",
       "  <thead>\n",
       "    <tr style=\"text-align: right;\">\n",
       "      <th></th>\n",
       "      <th>patientunitstayid</th>\n",
       "      <th>age</th>\n",
       "      <th>actualventdays</th>\n",
       "      <th>painmeds</th>\n",
       "      <th>opioid</th>\n",
       "      <th>nsaid</th>\n",
       "      <th>mme_per_day</th>\n",
       "      <th>gender_Male</th>\n",
       "      <th>teachingstatus_t</th>\n",
       "      <th>ethnicity_African American</th>\n",
       "      <th>ethnicity_Asian</th>\n",
       "      <th>ethnicity_Caucasian</th>\n",
       "      <th>ethnicity_Hispanic</th>\n",
       "      <th>ethnicity_Native American</th>\n",
       "      <th>ethnicity_Other/Unknown</th>\n",
       "    </tr>\n",
       "  </thead>\n",
       "  <tbody>\n",
       "    <tr>\n",
       "      <td>0</td>\n",
       "      <td>141168</td>\n",
       "      <td>70.0</td>\n",
       "      <td>0.0</td>\n",
       "      <td>1</td>\n",
       "      <td>1</td>\n",
       "      <td>1</td>\n",
       "      <td>1728.0</td>\n",
       "      <td>0</td>\n",
       "      <td>0</td>\n",
       "      <td>0</td>\n",
       "      <td>0</td>\n",
       "      <td>1</td>\n",
       "      <td>0</td>\n",
       "      <td>0</td>\n",
       "      <td>0</td>\n",
       "    </tr>\n",
       "    <tr>\n",
       "      <td>1</td>\n",
       "      <td>141194</td>\n",
       "      <td>68.0</td>\n",
       "      <td>0.0</td>\n",
       "      <td>1</td>\n",
       "      <td>1</td>\n",
       "      <td>1</td>\n",
       "      <td>140.3</td>\n",
       "      <td>1</td>\n",
       "      <td>1</td>\n",
       "      <td>0</td>\n",
       "      <td>0</td>\n",
       "      <td>1</td>\n",
       "      <td>0</td>\n",
       "      <td>0</td>\n",
       "      <td>0</td>\n",
       "    </tr>\n",
       "    <tr>\n",
       "      <td>2</td>\n",
       "      <td>141203</td>\n",
       "      <td>77.0</td>\n",
       "      <td>2.0</td>\n",
       "      <td>1</td>\n",
       "      <td>1</td>\n",
       "      <td>1</td>\n",
       "      <td>192.0</td>\n",
       "      <td>0</td>\n",
       "      <td>0</td>\n",
       "      <td>0</td>\n",
       "      <td>0</td>\n",
       "      <td>1</td>\n",
       "      <td>0</td>\n",
       "      <td>0</td>\n",
       "      <td>0</td>\n",
       "    </tr>\n",
       "    <tr>\n",
       "      <td>3</td>\n",
       "      <td>141208</td>\n",
       "      <td>25.0</td>\n",
       "      <td>0.0</td>\n",
       "      <td>1</td>\n",
       "      <td>0</td>\n",
       "      <td>1</td>\n",
       "      <td>0.0</td>\n",
       "      <td>0</td>\n",
       "      <td>1</td>\n",
       "      <td>0</td>\n",
       "      <td>0</td>\n",
       "      <td>1</td>\n",
       "      <td>0</td>\n",
       "      <td>0</td>\n",
       "      <td>0</td>\n",
       "    </tr>\n",
       "    <tr>\n",
       "      <td>4</td>\n",
       "      <td>141227</td>\n",
       "      <td>82.0</td>\n",
       "      <td>2.0</td>\n",
       "      <td>1</td>\n",
       "      <td>1</td>\n",
       "      <td>1</td>\n",
       "      <td>3.5</td>\n",
       "      <td>1</td>\n",
       "      <td>0</td>\n",
       "      <td>0</td>\n",
       "      <td>0</td>\n",
       "      <td>1</td>\n",
       "      <td>0</td>\n",
       "      <td>0</td>\n",
       "      <td>0</td>\n",
       "    </tr>\n",
       "  </tbody>\n",
       "</table>\n",
       "</div>"
      ],
      "text/plain": [
       "   patientunitstayid   age  actualventdays  painmeds  opioid  nsaid  \\\n",
       "0             141168  70.0             0.0         1       1      1   \n",
       "1             141194  68.0             0.0         1       1      1   \n",
       "2             141203  77.0             2.0         1       1      1   \n",
       "3             141208  25.0             0.0         1       0      1   \n",
       "4             141227  82.0             2.0         1       1      1   \n",
       "\n",
       "   mme_per_day  gender_Male  teachingstatus_t  ethnicity_African American  \\\n",
       "0       1728.0            0                 0                           0   \n",
       "1        140.3            1                 1                           0   \n",
       "2        192.0            0                 0                           0   \n",
       "3          0.0            0                 1                           0   \n",
       "4          3.5            1                 0                           0   \n",
       "\n",
       "   ethnicity_Asian  ethnicity_Caucasian  ethnicity_Hispanic  \\\n",
       "0                0                    1                   0   \n",
       "1                0                    1                   0   \n",
       "2                0                    1                   0   \n",
       "3                0                    1                   0   \n",
       "4                0                    1                   0   \n",
       "\n",
       "   ethnicity_Native American  ethnicity_Other/Unknown  \n",
       "0                          0                        0  \n",
       "1                          0                        0  \n",
       "2                          0                        0  \n",
       "3                          0                        0  \n",
       "4                          0                        0  "
      ]
     },
     "execution_count": 70,
     "metadata": {},
     "output_type": "execute_result"
    }
   ],
   "source": [
    "pts_final.head()"
   ]
  },
  {
   "cell_type": "code",
   "execution_count": 69,
   "metadata": {},
   "outputs": [],
   "source": [
    "pts_final = pd.get_dummies(pts_final, columns = ['gender','teachingstatus'], drop_first = True)\n",
    "pts_final = pd.get_dummies(pts_final, columns = ['ethnicity'], drop_first = False)"
   ]
  },
  {
   "cell_type": "code",
   "execution_count": 71,
   "metadata": {},
   "outputs": [],
   "source": [
    "pts_final.to_csv('pts_dummies.csv')"
   ]
  },
  {
   "cell_type": "code",
   "execution_count": 53,
   "metadata": {},
   "outputs": [
    {
     "name": "stdout",
     "output_type": "stream",
     "text": [
      "<class 'pandas.core.frame.DataFrame'>\n",
      "Int64Index: 146751 entries, 0 to 148501\n",
      "Data columns (total 15 columns):\n",
      "patientunitstayid             146751 non-null int64\n",
      "age                           146751 non-null float64\n",
      "actualventdays                146751 non-null float64\n",
      "painmeds                      146751 non-null int64\n",
      "opioid                        146751 non-null int64\n",
      "nsaid                         146751 non-null int64\n",
      "mme_per_day                   146751 non-null float64\n",
      "gender_Male                   146751 non-null uint8\n",
      "teachingstatus_t              146751 non-null uint8\n",
      "ethnicity_African American    146751 non-null uint8\n",
      "ethnicity_Asian               146751 non-null uint8\n",
      "ethnicity_Caucasian           146751 non-null uint8\n",
      "ethnicity_Hispanic            146751 non-null uint8\n",
      "ethnicity_Native American     146751 non-null uint8\n",
      "ethnicity_Other/Unknown       146751 non-null uint8\n",
      "dtypes: float64(3), int64(4), uint8(8)\n",
      "memory usage: 10.1 MB\n"
     ]
    }
   ],
   "source": [
    "pts_final.info()"
   ]
  },
  {
   "cell_type": "code",
   "execution_count": 72,
   "metadata": {},
   "outputs": [
    {
     "data": {
      "text/html": [
       "<div>\n",
       "<style scoped>\n",
       "    .dataframe tbody tr th:only-of-type {\n",
       "        vertical-align: middle;\n",
       "    }\n",
       "\n",
       "    .dataframe tbody tr th {\n",
       "        vertical-align: top;\n",
       "    }\n",
       "\n",
       "    .dataframe thead th {\n",
       "        text-align: right;\n",
       "    }\n",
       "</style>\n",
       "<table border=\"1\" class=\"dataframe\">\n",
       "  <thead>\n",
       "    <tr style=\"text-align: right;\">\n",
       "      <th></th>\n",
       "      <th>patientunitstayid</th>\n",
       "      <th>age</th>\n",
       "      <th>actualventdays</th>\n",
       "      <th>painmeds</th>\n",
       "      <th>opioid</th>\n",
       "      <th>nsaid</th>\n",
       "      <th>mme_per_day</th>\n",
       "      <th>gender_Male</th>\n",
       "      <th>teachingstatus_t</th>\n",
       "      <th>ethnicity_African American</th>\n",
       "      <th>ethnicity_Asian</th>\n",
       "      <th>ethnicity_Caucasian</th>\n",
       "      <th>ethnicity_Hispanic</th>\n",
       "      <th>ethnicity_Native American</th>\n",
       "      <th>ethnicity_Other/Unknown</th>\n",
       "    </tr>\n",
       "  </thead>\n",
       "  <tbody>\n",
       "    <tr>\n",
       "      <td>0</td>\n",
       "      <td>141168</td>\n",
       "      <td>70.0</td>\n",
       "      <td>0.0</td>\n",
       "      <td>1</td>\n",
       "      <td>1</td>\n",
       "      <td>1</td>\n",
       "      <td>1728.0</td>\n",
       "      <td>0</td>\n",
       "      <td>0</td>\n",
       "      <td>0</td>\n",
       "      <td>0</td>\n",
       "      <td>1</td>\n",
       "      <td>0</td>\n",
       "      <td>0</td>\n",
       "      <td>0</td>\n",
       "    </tr>\n",
       "    <tr>\n",
       "      <td>1</td>\n",
       "      <td>141194</td>\n",
       "      <td>68.0</td>\n",
       "      <td>0.0</td>\n",
       "      <td>1</td>\n",
       "      <td>1</td>\n",
       "      <td>1</td>\n",
       "      <td>140.3</td>\n",
       "      <td>1</td>\n",
       "      <td>1</td>\n",
       "      <td>0</td>\n",
       "      <td>0</td>\n",
       "      <td>1</td>\n",
       "      <td>0</td>\n",
       "      <td>0</td>\n",
       "      <td>0</td>\n",
       "    </tr>\n",
       "    <tr>\n",
       "      <td>2</td>\n",
       "      <td>141203</td>\n",
       "      <td>77.0</td>\n",
       "      <td>2.0</td>\n",
       "      <td>1</td>\n",
       "      <td>1</td>\n",
       "      <td>1</td>\n",
       "      <td>192.0</td>\n",
       "      <td>0</td>\n",
       "      <td>0</td>\n",
       "      <td>0</td>\n",
       "      <td>0</td>\n",
       "      <td>1</td>\n",
       "      <td>0</td>\n",
       "      <td>0</td>\n",
       "      <td>0</td>\n",
       "    </tr>\n",
       "    <tr>\n",
       "      <td>3</td>\n",
       "      <td>141208</td>\n",
       "      <td>25.0</td>\n",
       "      <td>0.0</td>\n",
       "      <td>1</td>\n",
       "      <td>0</td>\n",
       "      <td>1</td>\n",
       "      <td>0.0</td>\n",
       "      <td>0</td>\n",
       "      <td>1</td>\n",
       "      <td>0</td>\n",
       "      <td>0</td>\n",
       "      <td>1</td>\n",
       "      <td>0</td>\n",
       "      <td>0</td>\n",
       "      <td>0</td>\n",
       "    </tr>\n",
       "    <tr>\n",
       "      <td>4</td>\n",
       "      <td>141227</td>\n",
       "      <td>82.0</td>\n",
       "      <td>2.0</td>\n",
       "      <td>1</td>\n",
       "      <td>1</td>\n",
       "      <td>1</td>\n",
       "      <td>3.5</td>\n",
       "      <td>1</td>\n",
       "      <td>0</td>\n",
       "      <td>0</td>\n",
       "      <td>0</td>\n",
       "      <td>1</td>\n",
       "      <td>0</td>\n",
       "      <td>0</td>\n",
       "      <td>0</td>\n",
       "    </tr>\n",
       "  </tbody>\n",
       "</table>\n",
       "</div>"
      ],
      "text/plain": [
       "   patientunitstayid   age  actualventdays  painmeds  opioid  nsaid  \\\n",
       "0             141168  70.0             0.0         1       1      1   \n",
       "1             141194  68.0             0.0         1       1      1   \n",
       "2             141203  77.0             2.0         1       1      1   \n",
       "3             141208  25.0             0.0         1       0      1   \n",
       "4             141227  82.0             2.0         1       1      1   \n",
       "\n",
       "   mme_per_day  gender_Male  teachingstatus_t  ethnicity_African American  \\\n",
       "0       1728.0            0                 0                           0   \n",
       "1        140.3            1                 1                           0   \n",
       "2        192.0            0                 0                           0   \n",
       "3          0.0            0                 1                           0   \n",
       "4          3.5            1                 0                           0   \n",
       "\n",
       "   ethnicity_Asian  ethnicity_Caucasian  ethnicity_Hispanic  \\\n",
       "0                0                    1                   0   \n",
       "1                0                    1                   0   \n",
       "2                0                    1                   0   \n",
       "3                0                    1                   0   \n",
       "4                0                    1                   0   \n",
       "\n",
       "   ethnicity_Native American  ethnicity_Other/Unknown  \n",
       "0                          0                        0  \n",
       "1                          0                        0  \n",
       "2                          0                        0  \n",
       "3                          0                        0  \n",
       "4                          0                        0  "
      ]
     },
     "execution_count": 72,
     "metadata": {},
     "output_type": "execute_result"
    }
   ],
   "source": [
    "pts_final.head()"
   ]
  },
  {
   "cell_type": "code",
   "execution_count": 57,
   "metadata": {},
   "outputs": [],
   "source": [
    "def logreg_df(df, norm_cols, drop_cols, y_col, drop=False, reg=0):\n",
    "    \"\"\"\n",
    "    df (string): CSV path.\n",
    "    cat_cols (list): categorical columns to one-hot-encode.\n",
    "    norm_cols (list): columns in df to normalize.\n",
    "    drop_cols (list): columns to drop.\n",
    "    y_col (string): variable of interest.\n",
    "    \"\"\"\n",
    "    \n",
    "    #df = pd.read_csv('df')\n",
    "    #df = pd.get_dummies(df, columns = cat_cols, drop_first = drop)\n",
    "    \n",
    "    from sklearn.preprocessing import MinMaxScaler\n",
    "    from sklearn.model_selection import train_test_split\n",
    "    \n",
    "    from sklearn.linear_model import LogisticRegression\n",
    "    from sklearn.datasets import load_iris\n",
    "    \n",
    "    df[norm_cols] = MinMaxScaler().fit_transform(df[norm_cols])\n",
    "    \n",
    "    if reg == 0:\n",
    "        X = df.drop(columns = drop_cols)\n",
    "        y = df[y_col]\n",
    "\n",
    "        X_train, X_test, y_train, y_test = train_test_split(X, y, test_size=0.3, random_state=0)\n",
    "        \n",
    "        log = LogisticRegression(penalty='l1',solver='liblinear')\n",
    "        res = log.fit(X, y)\n",
    "        \n",
    "        #print(res)\n",
    "        #print(res.coef_, res.intercept_)\n",
    "        \n",
    "        logit_model = sm.Logit(y, X)\n",
    "        result = logit_model.fit_regularized()\n",
    "\n",
    "        print(result.summary2())\n",
    "        \n",
    "        params = result.params\n",
    "        conf = result.conf_int()\n",
    "        conf['Odds Ratio'] = params\n",
    "        conf.columns = ['5%', '95%', 'Odds Ratio']\n",
    "        print(np.exp(conf))\n",
    "        print('==========================')\n",
    "        \n",
    "    elif reg == 1:\n",
    "        X = df.drop(columns = drop_cols)\n",
    "        y = df[y_col]\n",
    "        X = sm.add_constant(X)\n",
    "        \n",
    "        ols_model = sm.OLS(y,X)\n",
    "        result = ols_model.fit()\n",
    "        \n",
    "        print(result.summary())\n",
    "    \n",
    "    return result"
   ]
  },
  {
   "cell_type": "markdown",
   "metadata": {},
   "source": [
    "#### Painmeds by Ethnicity"
   ]
  },
  {
   "cell_type": "code",
   "execution_count": 58,
   "metadata": {},
   "outputs": [
    {
     "name": "stdout",
     "output_type": "stream",
     "text": [
      "Compared to  ethnicity_Caucasian\n"
     ]
    },
    {
     "name": "stderr",
     "output_type": "stream",
     "text": [
      "/Users/adeshkadambi/opt/anaconda3/lib/python3.7/site-packages/statsmodels/discrete/discrete_model.py:1789: RuntimeWarning: divide by zero encountered in log\n",
      "  return np.sum(np.log(self.cdf(q*np.dot(X,params))))\n"
     ]
    },
    {
     "name": "stdout",
     "output_type": "stream",
     "text": [
      "Optimization terminated successfully.    (Exit mode 0)\n",
      "            Current function value: 0.48315456155488823\n",
      "            Iterations: 75\n",
      "            Function evaluations: 79\n",
      "            Gradient evaluations: 75\n",
      "                              Results: Logit\n",
      "===========================================================================\n",
      "Model:                 Logit               Pseudo R-squared:    0.217      \n",
      "Dependent Variable:    painmeds            AIC:                 141826.8301\n",
      "Date:                  2021-03-16 23:14    BIC:                 141925.7951\n",
      "No. Observations:      146751              Log-Likelihood:      -70903.    \n",
      "Df Model:              9                   LL-Null:             -90605.    \n",
      "Df Residuals:          146741              LLR p-value:         0.0000     \n",
      "Converged:             1.0000              Scale:               1.0000     \n",
      "No. Iterations:        75.0000                                             \n",
      "---------------------------------------------------------------------------\n",
      "                            Coef.  Std.Err.    z     P>|z|   [0.025  0.975]\n",
      "---------------------------------------------------------------------------\n",
      "age                        -0.0032   0.0137  -0.2331 0.8157 -0.0301  0.0237\n",
      "actualventdays              0.3846   0.0674   5.7023 0.0000  0.2524  0.5168\n",
      "mme_per_day                 0.1087   0.0011 103.2576 0.0000  0.1066  0.1108\n",
      "gender_Male                -0.0909   0.0122  -7.4268 0.0000 -0.1149 -0.0669\n",
      "teachingstatus_t            0.8596   0.0161  53.4959 0.0000  0.8282  0.8911\n",
      "ethnicity_African American -0.0059   0.0198  -0.2991 0.7648 -0.0446  0.0328\n",
      "ethnicity_Asian            -0.1204   0.0531  -2.2699 0.0232 -0.2244 -0.0164\n",
      "ethnicity_Hispanic          0.1822   0.0320   5.6864 0.0000  0.1194  0.2449\n",
      "ethnicity_Native American   0.6670   0.0894   7.4578 0.0000  0.4917  0.8423\n",
      "ethnicity_Other/Unknown     0.3297   0.0320  10.2949 0.0000  0.2669  0.3924\n",
      "===========================================================================\n",
      "\n",
      "                                  5%       95%  Odds Ratio\n",
      "age                         0.970353  1.023981    0.996806\n",
      "actualventdays              1.287133  1.676680    1.469051\n",
      "mme_per_day                 1.112524  1.117124    1.114822\n",
      "gender_Male                 0.891479  0.935287    0.913120\n",
      "teachingstatus_t            2.289090  2.437921    2.362333\n",
      "ethnicity_African American  0.956357  1.033351    0.994109\n",
      "ethnicity_Asian             0.798979  0.983692    0.886538\n",
      "ethnicity_Hispanic          1.126793  1.277557    1.199809\n",
      "ethnicity_Native American   1.635124  2.321734    1.948415\n",
      "ethnicity_Other/Unknown     1.305902  1.480552    1.390488\n",
      "==========================\n",
      "Compared to  ethnicity_African American\n"
     ]
    },
    {
     "name": "stderr",
     "output_type": "stream",
     "text": [
      "/Users/adeshkadambi/opt/anaconda3/lib/python3.7/site-packages/statsmodels/discrete/discrete_model.py:1789: RuntimeWarning: divide by zero encountered in log\n",
      "  return np.sum(np.log(self.cdf(q*np.dot(X,params))))\n"
     ]
    },
    {
     "name": "stdout",
     "output_type": "stream",
     "text": [
      "Optimization terminated successfully.    (Exit mode 0)\n",
      "            Current function value: 0.48282502008888145\n",
      "            Iterations: 75\n",
      "            Function evaluations: 79\n",
      "            Gradient evaluations: 75\n",
      "                              Results: Logit\n",
      "==========================================================================\n",
      "Model:                  Logit              Pseudo R-squared:   0.218      \n",
      "Dependent Variable:     painmeds           AIC:                141730.1090\n",
      "Date:                   2021-03-16 23:14   BIC:                141829.0740\n",
      "No. Observations:       146751             Log-Likelihood:     -70855.    \n",
      "Df Model:               9                  LL-Null:            -90605.    \n",
      "Df Residuals:           146741             LLR p-value:        0.0000     \n",
      "Converged:              1.0000             Scale:              1.0000     \n",
      "No. Iterations:         75.0000                                           \n",
      "--------------------------------------------------------------------------\n",
      "                           Coef.  Std.Err.    z     P>|z|   [0.025  0.975]\n",
      "--------------------------------------------------------------------------\n",
      "age                        0.1790   0.0230   7.7667 0.0000  0.1338  0.2241\n",
      "actualventdays             0.4086   0.0676   6.0463 0.0000  0.2761  0.5411\n",
      "mme_per_day                0.1091   0.0011 103.5641 0.0000  0.1071  0.1112\n",
      "gender_Male               -0.0697   0.0124  -5.6129 0.0000 -0.0941 -0.0454\n",
      "teachingstatus_t           0.8621   0.0160  53.8813 0.0000  0.8307  0.8934\n",
      "ethnicity_Asian           -0.2632   0.0550  -4.7848 0.0000 -0.3711 -0.1554\n",
      "ethnicity_Caucasian       -0.1741   0.0177  -9.8131 0.0000 -0.2088 -0.1393\n",
      "ethnicity_Hispanic         0.0426   0.0350   1.2170 0.2236 -0.0260  0.1113\n",
      "ethnicity_Native American  0.5473   0.0903   6.0624 0.0000  0.3704  0.7242\n",
      "ethnicity_Other/Unknown    0.1945   0.0348   5.5840 0.0000  0.1262  0.2628\n",
      "==========================================================================\n",
      "\n",
      "                                 5%       95%  Odds Ratio\n",
      "age                        1.143174  1.251243    1.195988\n",
      "actualventdays             1.318045  1.717819    1.504714\n",
      "mme_per_day                1.113002  1.117608    1.115303\n",
      "gender_Male                0.910213  0.955635    0.932647\n",
      "teachingstatus_t           2.294983  2.443529    2.368092\n",
      "ethnicity_Asian            0.690007  0.856069    0.768566\n",
      "ethnicity_Caucasian        0.811531  0.869966    0.840241\n",
      "ethnicity_Hispanic         0.974312  1.117707    1.043549\n",
      "ethnicity_Native American  1.448257  2.063166    1.728581\n",
      "ethnicity_Other/Unknown    1.134551  1.300539    1.214713\n",
      "==========================\n",
      "Compared to  ethnicity_Asian\n"
     ]
    },
    {
     "name": "stderr",
     "output_type": "stream",
     "text": [
      "/Users/adeshkadambi/opt/anaconda3/lib/python3.7/site-packages/statsmodels/discrete/discrete_model.py:1789: RuntimeWarning: divide by zero encountered in log\n",
      "  return np.sum(np.log(self.cdf(q*np.dot(X,params))))\n"
     ]
    },
    {
     "name": "stdout",
     "output_type": "stream",
     "text": [
      "Optimization terminated successfully.    (Exit mode 0)\n",
      "            Current function value: 0.4826032418699313\n",
      "            Iterations: 74\n",
      "            Function evaluations: 78\n",
      "            Gradient evaluations: 74\n",
      "                              Results: Logit\n",
      "===========================================================================\n",
      "Model:                 Logit               Pseudo R-squared:    0.218      \n",
      "Dependent Variable:    painmeds            AIC:                 141665.0167\n",
      "Date:                  2021-03-16 23:14    BIC:                 141763.9816\n",
      "No. Observations:      146751              Log-Likelihood:      -70823.    \n",
      "Df Model:              9                   LL-Null:             -90605.    \n",
      "Df Residuals:          146741              LLR p-value:         0.0000     \n",
      "Converged:             1.0000              Scale:               1.0000     \n",
      "No. Iterations:        74.0000                                             \n",
      "---------------------------------------------------------------------------\n",
      "                            Coef.  Std.Err.    z     P>|z|   [0.025  0.975]\n",
      "---------------------------------------------------------------------------\n",
      "age                         0.3473   0.0306  11.3432 0.0000  0.2873  0.4073\n",
      "actualventdays              0.4578   0.0680   6.7368 0.0000  0.3246  0.5910\n",
      "mme_per_day                 0.1097   0.0011 103.7163 0.0000  0.1076  0.1118\n",
      "gender_Male                -0.0463   0.0127  -3.6406 0.0003 -0.0713 -0.0214\n",
      "teachingstatus_t            0.8852   0.0162  54.6588 0.0000  0.8535  0.9170\n",
      "ethnicity_African American -0.2654   0.0283  -9.3713 0.0000 -0.3209 -0.2099\n",
      "ethnicity_Caucasian        -0.3147   0.0244 -12.8899 0.0000 -0.3626 -0.2669\n",
      "ethnicity_Hispanic         -0.0920   0.0386  -2.3861 0.0170 -0.1676 -0.0164\n",
      "ethnicity_Native American   0.4306   0.0914   4.7101 0.0000  0.2514  0.6097\n",
      "ethnicity_Other/Unknown     0.0635   0.0382   1.6622 0.0965 -0.0114  0.1383\n",
      "===========================================================================\n",
      "\n",
      "                                  5%       95%  Odds Ratio\n",
      "age                         1.332814  1.502772    1.415244\n",
      "actualventdays              1.383480  1.805750    1.580576\n",
      "mme_per_day                 1.113646  1.118273    1.115957\n",
      "gender_Male                 0.931198  0.978836    0.954720\n",
      "teachingstatus_t            2.347798  2.501680    2.423518\n",
      "ethnicity_African American  0.725522  0.810694    0.766926\n",
      "ethnicity_Caucasian         0.695864  0.765761    0.729976\n",
      "ethnicity_Hispanic          0.845726  0.983704    0.912110\n",
      "ethnicity_Native American   1.285817  1.839920    1.538116\n",
      "ethnicity_Other/Unknown     0.988693  1.148362    1.065541\n",
      "==========================\n",
      "Compared to  ethnicity_Hispanic\n"
     ]
    },
    {
     "name": "stderr",
     "output_type": "stream",
     "text": [
      "/Users/adeshkadambi/opt/anaconda3/lib/python3.7/site-packages/statsmodels/discrete/discrete_model.py:1789: RuntimeWarning: divide by zero encountered in log\n",
      "  return np.sum(np.log(self.cdf(q*np.dot(X,params))))\n"
     ]
    },
    {
     "name": "stdout",
     "output_type": "stream",
     "text": [
      "Optimization terminated successfully.    (Exit mode 0)\n",
      "            Current function value: 0.4824336869238345\n",
      "            Iterations: 74\n",
      "            Function evaluations: 78\n",
      "            Gradient evaluations: 74\n",
      "                              Results: Logit\n",
      "===========================================================================\n",
      "Model:                 Logit               Pseudo R-squared:    0.219      \n",
      "Dependent Variable:    painmeds            AIC:                 141615.2520\n",
      "Date:                  2021-03-16 23:14    BIC:                 141714.2169\n",
      "No. Observations:      146751              Log-Likelihood:      -70798.    \n",
      "Df Model:              9                   LL-Null:             -90605.    \n",
      "Df Residuals:          146741              LLR p-value:         0.0000     \n",
      "Converged:             1.0000              Scale:               1.0000     \n",
      "No. Iterations:        74.0000                                             \n",
      "---------------------------------------------------------------------------\n",
      "                            Coef.  Std.Err.    z     P>|z|   [0.025  0.975]\n",
      "---------------------------------------------------------------------------\n",
      "age                         0.3727   0.0272  13.7235 0.0000  0.3195  0.4259\n",
      "actualventdays              0.4632   0.0679   6.8222 0.0000  0.3302  0.5963\n",
      "mme_per_day                 0.1098   0.0011 103.8667 0.0000  0.1077  0.1119\n",
      "gender_Male                -0.0435   0.0126  -3.4550 0.0006 -0.0682 -0.0188\n",
      "teachingstatus_t            0.8881   0.0162  54.8560 0.0000  0.8563  0.9198\n",
      "ethnicity_African American -0.2842   0.0263 -10.7867 0.0000 -0.3358 -0.2326\n",
      "ethnicity_Asian            -0.4226   0.0564  -7.4918 0.0000 -0.5331 -0.3120\n",
      "ethnicity_Caucasian        -0.3353   0.0216 -15.5502 0.0000 -0.3776 -0.2931\n",
      "ethnicity_Native American   0.4137   0.0909   4.5496 0.0000  0.2355  0.5919\n",
      "ethnicity_Other/Unknown     0.0443   0.0367   1.2097 0.2264 -0.0275  0.1162\n",
      "===========================================================================\n",
      "\n",
      "                                  5%       95%  Odds Ratio\n",
      "age                         1.376384  1.530987    1.451629\n",
      "actualventdays              1.391188  1.815449    1.589223\n",
      "mme_per_day                 1.113730  1.118354    1.116040\n",
      "gender_Male                 0.934101  0.981355    0.957436\n",
      "teachingstatus_t            2.354529  2.508791    2.430437\n",
      "ethnicity_African American  0.714732  0.792498    0.752611\n",
      "ethnicity_Asian             0.586778  0.731972    0.655366\n",
      "ethnicity_Caucasian         0.685496  0.745964    0.715091\n",
      "ethnicity_Native American   1.265514  1.807462    1.512405\n",
      "ethnicity_Other/Unknown     0.972868  1.123220    1.045344\n",
      "==========================\n",
      "Compared to  ethnicity_Native American\n"
     ]
    },
    {
     "name": "stderr",
     "output_type": "stream",
     "text": [
      "/Users/adeshkadambi/opt/anaconda3/lib/python3.7/site-packages/statsmodels/discrete/discrete_model.py:1789: RuntimeWarning: divide by zero encountered in log\n",
      "  return np.sum(np.log(self.cdf(q*np.dot(X,params))))\n"
     ]
    },
    {
     "name": "stdout",
     "output_type": "stream",
     "text": [
      "Optimization terminated successfully.    (Exit mode 0)\n",
      "            Current function value: 0.4824174537280123\n",
      "            Iterations: 66\n",
      "            Function evaluations: 71\n",
      "            Gradient evaluations: 66\n",
      "                              Results: Logit\n",
      "===========================================================================\n",
      "Model:                 Logit               Pseudo R-squared:    0.219      \n",
      "Dependent Variable:    painmeds            AIC:                 141610.4875\n",
      "Date:                  2021-03-16 23:14    BIC:                 141709.4524\n",
      "No. Observations:      146751              Log-Likelihood:      -70795.    \n",
      "Df Model:              9                   LL-Null:             -90605.    \n",
      "Df Residuals:          146741              LLR p-value:         0.0000     \n",
      "Converged:             1.0000              Scale:               1.0000     \n",
      "No. Iterations:        66.0000                                             \n",
      "---------------------------------------------------------------------------\n",
      "                            Coef.  Std.Err.    z     P>|z|   [0.025  0.975]\n",
      "---------------------------------------------------------------------------\n",
      "age                         0.4909   0.0325  15.0882 0.0000  0.4271  0.5546\n",
      "actualventdays              0.4864   0.0681   7.1476 0.0000  0.3530  0.6198\n",
      "mme_per_day                 0.1102   0.0011 104.0175 0.0000  0.1081  0.1123\n",
      "gender_Male                -0.0277   0.0128  -2.1654 0.0304 -0.0528 -0.0026\n",
      "teachingstatus_t            0.8948   0.0162  55.1965 0.0000  0.8631  0.9266\n",
      "ethnicity_African American -0.3714   0.0294 -12.6175 0.0000 -0.4291 -0.3137\n",
      "ethnicity_Asian            -0.5200   0.0582  -8.9304 0.0000 -0.6341 -0.4059\n",
      "ethnicity_Caucasian        -0.4314   0.0260 -16.6130 0.0000 -0.4823 -0.3805\n",
      "ethnicity_Hispanic         -0.2041   0.0395  -5.1689 0.0000 -0.2815 -0.1267\n",
      "ethnicity_Other/Unknown    -0.0452   0.0391  -1.1573 0.2472 -0.1218  0.0314\n",
      "===========================================================================\n",
      "\n",
      "                                  5%       95%  Odds Ratio\n",
      "age                         1.532805  1.741290    1.633725\n",
      "actualventdays              1.423390  1.858575    1.626492\n",
      "mme_per_day                 1.114158  1.118793    1.116473\n",
      "gender_Male                 0.948587  0.997376    0.972676\n",
      "teachingstatus_t            2.370404  2.525930    2.446931\n",
      "ethnicity_African American  0.651104  0.730736    0.689771\n",
      "ethnicity_Asian             0.530419  0.666409    0.594538\n",
      "ethnicity_Caucasian         0.617382  0.683531    0.649615\n",
      "ethnicity_Hispanic          0.754649  0.880987    0.815375\n",
      "ethnicity_Other/Unknown     0.885337  1.031857    0.955793\n",
      "==========================\n",
      "Compared to  ethnicity_Other/Unknown\n"
     ]
    },
    {
     "name": "stderr",
     "output_type": "stream",
     "text": [
      "/Users/adeshkadambi/opt/anaconda3/lib/python3.7/site-packages/statsmodels/discrete/discrete_model.py:1789: RuntimeWarning: divide by zero encountered in log\n",
      "  return np.sum(np.log(self.cdf(q*np.dot(X,params))))\n"
     ]
    },
    {
     "name": "stdout",
     "output_type": "stream",
     "text": [
      "Optimization terminated successfully.    (Exit mode 0)\n",
      "            Current function value: 0.48236562880230166\n",
      "            Iterations: 76\n",
      "            Function evaluations: 80\n",
      "            Gradient evaluations: 76\n",
      "                              Results: Logit\n",
      "===========================================================================\n",
      "Model:                 Logit               Pseudo R-squared:    0.219      \n",
      "Dependent Variable:    painmeds            AIC:                 141595.2768\n",
      "Date:                  2021-03-16 23:14    BIC:                 141694.2417\n",
      "No. Observations:      146751              Log-Likelihood:      -70788.    \n",
      "Df Model:              9                   LL-Null:             -90605.    \n",
      "Df Residuals:          146741              LLR p-value:         0.0000     \n",
      "Converged:             1.0000              Scale:               1.0000     \n",
      "No. Iterations:        76.0000                                             \n",
      "---------------------------------------------------------------------------\n",
      "                            Coef.  Std.Err.    z     P>|z|   [0.025  0.975]\n",
      "---------------------------------------------------------------------------\n",
      "age                         0.4500   0.0275  16.3487 0.0000  0.3961  0.5040\n",
      "actualventdays              0.4801   0.0679   7.0683 0.0000  0.3470  0.6133\n",
      "mme_per_day                 0.1100   0.0011 104.1161 0.0000  0.1079  0.1121\n",
      "gender_Male                -0.0336   0.0125  -2.6770 0.0074 -0.0582 -0.0090\n",
      "teachingstatus_t            0.8920   0.0162  55.1168 0.0000  0.8603  0.9237\n",
      "ethnicity_African American -0.3409   0.0264 -12.8960 0.0000 -0.3927 -0.2891\n",
      "ethnicity_Asian            -0.4844   0.0565  -8.5772 0.0000 -0.5952 -0.3737\n",
      "ethnicity_Caucasian        -0.3979   0.0217 -18.3251 0.0000 -0.4404 -0.3553\n",
      "ethnicity_Hispanic         -0.1719   0.0370  -4.6424 0.0000 -0.2445 -0.0993\n",
      "ethnicity_Native American   0.3620   0.0910   3.9786 0.0001  0.1837  0.5403\n",
      "===========================================================================\n",
      "\n",
      "                                  5%       95%  Odds Ratio\n",
      "age                         1.486006  1.655327    1.568383\n",
      "actualventdays              1.414829  1.846497    1.616316\n",
      "mme_per_day                 1.113971  1.118594    1.116280\n",
      "gender_Male                 0.943489  0.991045    0.966975\n",
      "teachingstatus_t            2.363832  2.518652    2.440014\n",
      "ethnicity_African American  0.675207  0.748931    0.711114\n",
      "ethnicity_Asian             0.551479  0.688150    0.616036\n",
      "ethnicity_Caucasian         0.643764  0.700953    0.671750\n",
      "ethnicity_Hispanic          0.783107  0.905443    0.842056\n",
      "ethnicity_Native American   1.201598  1.716485    1.436149\n",
      "==========================\n"
     ]
    }
   ],
   "source": [
    "eth = ['ethnicity_Caucasian', 'ethnicity_African American', 'ethnicity_Asian',\n",
    "      'ethnicity_Hispanic', 'ethnicity_Native American', 'ethnicity_Other/Unknown']\n",
    "\n",
    "for i in eth:\n",
    "    norm = ['actualventdays','age']\n",
    "    dp = ['opioid', 'nsaid', 'patientunitstayid','painmeds',i]\n",
    "    \n",
    "    print(\"Compared to \", i)\n",
    "    logreg_df(pts_final, norm, dp, 'painmeds')"
   ]
  },
  {
   "cell_type": "code",
   "execution_count": null,
   "metadata": {},
   "outputs": [],
   "source": [
    "# In the above Caucasian baseline, there was no significance with African Americans, so why is it not both ways?"
   ]
  },
  {
   "cell_type": "code",
   "execution_count": null,
   "metadata": {},
   "outputs": [],
   "source": [
    "# basically the above is saying compared to caucasians, hispanic and native american are signiciant \n",
    "# - both are more likely to receive pain meds"
   ]
  },
  {
   "cell_type": "markdown",
   "metadata": {},
   "source": [
    "#### Ethnicity vs. Receiving Opioids"
   ]
  },
  {
   "cell_type": "code",
   "execution_count": null,
   "metadata": {},
   "outputs": [],
   "source": [
    "eth = ['ethnicity_Caucasian', 'ethnicity_African American', 'ethnicity_Asian',\n",
    "      'ethnicity_Hispanic', 'ethnicity_Native American', 'ethnicity_Other/Unknown']\n",
    "\n",
    "for i in eth:\n",
    "    norm = ['actualventdays','age']\n",
    "    dp = ['patientunitstayid','painmeds','opioid', i]\n",
    "    \n",
    "    print(\"Compared to \", i)\n",
    "    logreg_df(pts_final, norm, dp, 'opioid', reg=0)"
   ]
  },
  {
   "cell_type": "markdown",
   "metadata": {},
   "source": [
    "#### Ethnicity vs. MME"
   ]
  },
  {
   "cell_type": "code",
   "execution_count": null,
   "metadata": {},
   "outputs": [],
   "source": [
    "eth = ['ethnicity_Caucasian', 'ethnicity_African American', 'ethnicity_Asian',\n",
    "      'ethnicity_Hispanic', 'ethnicity_Native American', 'ethnicity_Other/Unknown']\n",
    "\n",
    "for i in eth:\n",
    "    norm = ['actualventdays','age']\n",
    "    dp = ['mme_per_day','patientunitstayid','painmeds', i]\n",
    "    \n",
    "    print(\"Compared to \", i)\n",
    "    logreg_df(pts_final, norm, dp, 'mme_per_day', reg=1)"
   ]
  },
  {
   "cell_type": "code",
   "execution_count": null,
   "metadata": {},
   "outputs": [],
   "source": [
    "# fake patient with figure"
   ]
  },
  {
   "cell_type": "code",
   "execution_count": null,
   "metadata": {},
   "outputs": [],
   "source": [
    "# https://towardsdatascience.com/multiple-imputation-with-random-forests-in-python-dec83c0ac55b"
   ]
  },
  {
   "cell_type": "code",
   "execution_count": null,
   "metadata": {},
   "outputs": [],
   "source": [
    "# rib fractures - love to give opioids sometimes not necessary"
   ]
  }
 ],
 "metadata": {
  "kernelspec": {
   "display_name": "Python 3",
   "language": "python",
   "name": "python3"
  },
  "language_info": {
   "codemirror_mode": {
    "name": "ipython",
    "version": 3
   },
   "file_extension": ".py",
   "mimetype": "text/x-python",
   "name": "python",
   "nbconvert_exporter": "python",
   "pygments_lexer": "ipython3",
   "version": "3.7.4"
  }
 },
 "nbformat": 4,
 "nbformat_minor": 4
}
