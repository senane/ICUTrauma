{
 "cells": [
  {
   "cell_type": "code",
   "execution_count": 1,
   "metadata": {},
   "outputs": [],
   "source": [
    "import pandas as pd\n",
    "import matplotlib.pyplot as plt\n",
    "import seaborn as sns\n",
    "import numpy as np\n",
    "import scipy.stats as stat\n",
    "import statsmodels.api as sm\n",
    "\n",
    "from mpl_toolkits import mplot3d\n",
    "\n",
    "pd.set_option('display.max_columns', 9999)\n",
    "\n",
    "%matplotlib notebook"
   ]
  },
  {
   "cell_type": "code",
   "execution_count": 2,
   "metadata": {},
   "outputs": [
    {
     "name": "stderr",
     "output_type": "stream",
     "text": [
      "/Users/adeshkadambi/opt/anaconda3/lib/python3.7/site-packages/IPython/core/interactiveshell.py:3058: DtypeWarning: Columns (11) have mixed types. Specify dtype option on import or set low_memory=False.\n",
      "  interactivity=interactivity, compiler=compiler, result=result)\n"
     ]
    }
   ],
   "source": [
    "med = pd.read_csv('eicu-collaborative-research-database-2.0/medication.csv.gz')"
   ]
  },
  {
   "cell_type": "code",
   "execution_count": 3,
   "metadata": {},
   "outputs": [],
   "source": [
    "def opioids (x):\n",
    "    \n",
    "    opiods = ['hydromorphone','hydrocodone','morphine','oxycodone','oxymorphone','codeine','fentanyl','meperidine',\n",
    "          'tramadol','carfentanil','percocet','norco']\n",
    "\n",
    "    for i in opiods:\n",
    "        if i in str(x).lower():\n",
    "            return 1\n",
    "        \n",
    "    return 0"
   ]
  },
  {
   "cell_type": "code",
   "execution_count": 4,
   "metadata": {},
   "outputs": [],
   "source": [
    "def nsaids (x):\n",
    "    \n",
    "    non_op = ['acetaminophen','amitriptyline', 'doxepin', 'imipramine', 'desipramine', 'nortriptyline',\n",
    "         'ibuprofen', 'naproxen', 'diclofenac', 'piroxicam', 'sulindac', 'indomethacin', 'ketorolac', 'meloxicam', \n",
    "          'celecoxib', 'ketoprofen', 'oxaprozin', 'toradol', 'valdecoxib', 'bextra', 'rofecoxib', 'vioxx', 'gabapentin', \n",
    "          'neurontin', 'cyclobenzaprine', 'duloxetine', 'cymbalta', 'pregabalin', 'lyrica', 'venlafaxine', 'effexor', \n",
    "          'tylenol', 'voltaren', 'naprosyn', 'paracetamol', 'aspirin']\n",
    "    \n",
    "    for j in non_op:\n",
    "        if j in str(x).lower():\n",
    "            return 1\n",
    "\n",
    "    return 0"
   ]
  },
  {
   "cell_type": "code",
   "execution_count": 5,
   "metadata": {},
   "outputs": [],
   "source": [
    "med['opioid'] = med.drugname.apply(lambda x: opioids(x))\n",
    "med['nsaid'] = med.drugname.apply(lambda x: nsaids(x))\n",
    "\n",
    "med = med[med.drugordercancelled == 'No']"
   ]
  },
  {
   "cell_type": "code",
   "execution_count": 6,
   "metadata": {},
   "outputs": [],
   "source": [
    "cols_drop = ['medicationid','drugorderoffset','drugivadmixture','drugordercancelled','drughiclseqno',\n",
    "            'routeadmin','loadingdose','prn','gtc']\n",
    "\n",
    "med.drop(columns=cols_drop, inplace=True)\n",
    "med = med[(med.opioid == 1) | (med.nsaid == 1)]"
   ]
  },
  {
   "cell_type": "code",
   "execution_count": 7,
   "metadata": {},
   "outputs": [
    {
     "data": {
      "text/html": [
       "<div>\n",
       "<style scoped>\n",
       "    .dataframe tbody tr th:only-of-type {\n",
       "        vertical-align: middle;\n",
       "    }\n",
       "\n",
       "    .dataframe tbody tr th {\n",
       "        vertical-align: top;\n",
       "    }\n",
       "\n",
       "    .dataframe thead th {\n",
       "        text-align: right;\n",
       "    }\n",
       "</style>\n",
       "<table border=\"1\" class=\"dataframe\">\n",
       "  <thead>\n",
       "    <tr style=\"text-align: right;\">\n",
       "      <th></th>\n",
       "      <th>patientunitstayid</th>\n",
       "      <th>drugstartoffset</th>\n",
       "      <th>drugname</th>\n",
       "      <th>dosage</th>\n",
       "      <th>frequency</th>\n",
       "      <th>drugstopoffset</th>\n",
       "      <th>opioid</th>\n",
       "      <th>nsaid</th>\n",
       "    </tr>\n",
       "  </thead>\n",
       "  <tbody>\n",
       "    <tr>\n",
       "      <td>2</td>\n",
       "      <td>141168</td>\n",
       "      <td>1386</td>\n",
       "      <td>ASPIRIN EC 81 MG PO TBEC</td>\n",
       "      <td>81 3</td>\n",
       "      <td>Daily</td>\n",
       "      <td>2390</td>\n",
       "      <td>0</td>\n",
       "      <td>1</td>\n",
       "    </tr>\n",
       "    <tr>\n",
       "      <td>15</td>\n",
       "      <td>141194</td>\n",
       "      <td>2109</td>\n",
       "      <td>1 ML  -  HYDROMORPHONE HCL 1 MG/ML IJ SOLN</td>\n",
       "      <td>0.4 3</td>\n",
       "      <td>Q3H PRN</td>\n",
       "      <td>12622</td>\n",
       "      <td>1</td>\n",
       "      <td>0</td>\n",
       "    </tr>\n",
       "    <tr>\n",
       "      <td>33</td>\n",
       "      <td>141203</td>\n",
       "      <td>-339</td>\n",
       "      <td>ASPIRIN EC 81 MG PO TBEC</td>\n",
       "      <td>81 3</td>\n",
       "      <td>Daily</td>\n",
       "      <td>2414</td>\n",
       "      <td>0</td>\n",
       "      <td>1</td>\n",
       "    </tr>\n",
       "    <tr>\n",
       "      <td>37</td>\n",
       "      <td>141203</td>\n",
       "      <td>1873</td>\n",
       "      <td>MORPHINE INJ</td>\n",
       "      <td>2 3</td>\n",
       "      <td>Q15 Min PRN</td>\n",
       "      <td>4189</td>\n",
       "      <td>1</td>\n",
       "      <td>0</td>\n",
       "    </tr>\n",
       "    <tr>\n",
       "      <td>51</td>\n",
       "      <td>141227</td>\n",
       "      <td>-843</td>\n",
       "      <td>ASPIRIN EC 81 MG PO TBEC</td>\n",
       "      <td>81 3</td>\n",
       "      <td>Daily</td>\n",
       "      <td>1744</td>\n",
       "      <td>0</td>\n",
       "      <td>1</td>\n",
       "    </tr>\n",
       "  </tbody>\n",
       "</table>\n",
       "</div>"
      ],
      "text/plain": [
       "    patientunitstayid  drugstartoffset  \\\n",
       "2              141168             1386   \n",
       "15             141194             2109   \n",
       "33             141203             -339   \n",
       "37             141203             1873   \n",
       "51             141227             -843   \n",
       "\n",
       "                                      drugname dosage    frequency  \\\n",
       "2                     ASPIRIN EC 81 MG PO TBEC   81 3        Daily   \n",
       "15  1 ML  -  HYDROMORPHONE HCL 1 MG/ML IJ SOLN  0.4 3      Q3H PRN   \n",
       "33                    ASPIRIN EC 81 MG PO TBEC   81 3        Daily   \n",
       "37                                MORPHINE INJ    2 3  Q15 Min PRN   \n",
       "51                    ASPIRIN EC 81 MG PO TBEC   81 3        Daily   \n",
       "\n",
       "    drugstopoffset  opioid  nsaid  \n",
       "2             2390       0      1  \n",
       "15           12622       1      0  \n",
       "33            2414       0      1  \n",
       "37            4189       1      0  \n",
       "51            1744       0      1  "
      ]
     },
     "execution_count": 7,
     "metadata": {},
     "output_type": "execute_result"
    }
   ],
   "source": [
    "med.head()"
   ]
  },
  {
   "cell_type": "code",
   "execution_count": null,
   "metadata": {},
   "outputs": [],
   "source": [
    "mg = med.groupby(['patientunitstayid']).agg({'opioid': lambda x:sum(x), 'nsaid': lambda x:sum(x)})\n",
    "mg[mg != 0] = 1"
   ]
  },
  {
   "cell_type": "code",
   "execution_count": null,
   "metadata": {},
   "outputs": [],
   "source": [
    "def op_find (x, arr):\n",
    "    try:\n",
    "        return arr['opioid'][x]\n",
    "    except:\n",
    "        return np.nan\n",
    "    \n",
    "def nsaid_find (x, arr):\n",
    "    try:\n",
    "        return arr['nsaid'][x]\n",
    "    except:\n",
    "        return np.nan"
   ]
  },
  {
   "cell_type": "code",
   "execution_count": null,
   "metadata": {},
   "outputs": [],
   "source": [
    "pts = pd.read_csv('eicu-collaborative-research-database-2.0/patient.csv.gz')\n",
    "hos = pd.read_csv('eicu-collaborative-research-database-2.0/hospital.csv.gz')"
   ]
  },
  {
   "cell_type": "code",
   "execution_count": null,
   "metadata": {},
   "outputs": [],
   "source": [
    "pts['opioid'] = pts['patientunitstayid'].apply(lambda x: op_find(x, mg))\n",
    "pts['nsaid'] = pts['patientunitstayid'].apply(lambda x: nsaid_find(x, mg))\n",
    "\n",
    "pts = pd.merge(pts, hos, on=['hospitalid'], how = 'left')"
   ]
  },
  {
   "cell_type": "code",
   "execution_count": null,
   "metadata": {},
   "outputs": [],
   "source": [
    "pts = pts[pts.gender != 'Unknown']\n",
    "pts = pts[pts.gender != 'Other']"
   ]
  },
  {
   "cell_type": "code",
   "execution_count": null,
   "metadata": {},
   "outputs": [],
   "source": [
    "pts['apacheadmissiondx'].fillna(value = 'N/A', inplace = True)\n",
    "pts['hospitaladmitsource'].fillna(value = 'Unknown', inplace = True)\n",
    "\n",
    "def age (x):\n",
    "    if x == '> 89':\n",
    "        return 90\n",
    "    else:\n",
    "        return int(x)\n",
    "\n",
    "pts['age'].fillna(value = 0, inplace = True)\n",
    "pts['age'] = pts['age'].apply(lambda x: age(x))"
   ]
  },
  {
   "cell_type": "code",
   "execution_count": null,
   "metadata": {},
   "outputs": [],
   "source": [
    "pts.opioid.fillna(0, inplace = True)\n",
    "pts.nsaid.fillna(0, inplace = True)"
   ]
  },
  {
   "cell_type": "code",
   "execution_count": null,
   "metadata": {},
   "outputs": [],
   "source": [
    "pts.opioid.replace(1.0,True,inplace=True)\n",
    "pts.opioid.replace(0.0,False,inplace=True)\n",
    "\n",
    "pts.nsaid.replace(1.0,True,inplace=True)\n",
    "pts.nsaid.replace(0.0,False,inplace=True)"
   ]
  },
  {
   "cell_type": "code",
   "execution_count": null,
   "metadata": {},
   "outputs": [],
   "source": [
    "pts['painmeds'] = pts.opioid|pts.nsaid"
   ]
  },
  {
   "cell_type": "code",
   "execution_count": null,
   "metadata": {},
   "outputs": [],
   "source": [
    "pts.head()"
   ]
  },
  {
   "cell_type": "code",
   "execution_count": null,
   "metadata": {},
   "outputs": [],
   "source": [
    "apv = pd.read_csv('eicu-collaborative-research-database-2.0/apachePredVar.csv.gz')\n",
    "apv = apv[['patientunitstayid', 'bedcount']]\n",
    "pts = pd.merge(pts, apv, on=['patientunitstayid'], how='left')"
   ]
  },
  {
   "cell_type": "code",
   "execution_count": null,
   "metadata": {},
   "outputs": [],
   "source": [
    "# hospital odds ratios\n",
    "\n",
    "pts_hosp = pts[['patientunitstayid','ethnicity','hospitalid','wardid','region','numbedscategory',\n",
    "                'bedcount','teachingstatus','opioid','nsaid','painmeds']]\n",
    "pts_hosp.head()"
   ]
  },
  {
   "cell_type": "code",
   "execution_count": null,
   "metadata": {},
   "outputs": [],
   "source": [
    "plt.figure(figsize=(14, 4.5))\n",
    "sns.barplot(x='gender',y='painmeds',hue='ethnicity',data=pts, estimator=np.mean)\n",
    "plt.xlabel('Patient Gender')\n",
    "plt.ylabel('Proportion Receiving Pain Medications')"
   ]
  },
  {
   "cell_type": "code",
   "execution_count": null,
   "metadata": {},
   "outputs": [],
   "source": [
    "plt.figure(figsize=(14, 4.5))\n",
    "sns.barplot(x='gender',y='nsaid',hue='ethnicity',data=pts, estimator=np.mean)\n",
    "plt.xlabel('Patient Gender')\n",
    "plt.ylabel('Proportion Receiving NSAIDs')"
   ]
  },
  {
   "cell_type": "code",
   "execution_count": null,
   "metadata": {},
   "outputs": [],
   "source": [
    "plt.figure(figsize=(14, 4.5))\n",
    "sns.barplot(x='gender',y='opioid',hue='ethnicity',data=pts, estimator=np.mean)\n",
    "plt.xlabel('Patient Gender')\n",
    "plt.ylabel('Proportion Receiving Opioids')"
   ]
  },
  {
   "cell_type": "code",
   "execution_count": null,
   "metadata": {},
   "outputs": [],
   "source": [
    "ct_eth = pd.crosstab(pts.painmeds, pts.ethnicity, margins= True)\n",
    "ct_eth"
   ]
  },
  {
   "cell_type": "code",
   "execution_count": null,
   "metadata": {},
   "outputs": [],
   "source": [
    "fobs = [14170, 1933, 99411, 4763, 1214, 6736]\n",
    "ftots = [21303, 3270, 155273, 7462, 1700, 9523]\n",
    "fexp = np.multiply(np.sum(fobs)/np.sum(ftots),ftots)\n",
    "stat.chisquare(f_obs = fobs, f_exp = fexp)"
   ]
  },
  {
   "cell_type": "code",
   "execution_count": null,
   "metadata": {},
   "outputs": [],
   "source": [
    "ct_op = pd.crosstab(pts.opioid, pts.ethnicity, margins= True)\n",
    "ct_op"
   ]
  },
  {
   "cell_type": "code",
   "execution_count": null,
   "metadata": {},
   "outputs": [],
   "source": [
    "fobs = [10510,1487,75398,3175,989,5277]\n",
    "ftots = [21303, 3270, 155273, 7462, 1700, 9523]\n",
    "fexp = np.multiply(np.sum(fobs)/np.sum(ftots),ftots)\n",
    "stat.chisquare(f_obs = fobs, f_exp = fexp)"
   ]
  },
  {
   "cell_type": "code",
   "execution_count": null,
   "metadata": {},
   "outputs": [],
   "source": [
    "ct_ns = pd.crosstab(pts.nsaid, pts.ethnicity, margins= True)\n",
    "ct_ns"
   ]
  },
  {
   "cell_type": "code",
   "execution_count": null,
   "metadata": {},
   "outputs": [],
   "source": [
    "fobs = [12165,1688,83939,4151,868,5634]\n",
    "ftots = [21303, 3270, 155273, 7462, 1700, 9523]\n",
    "fexp = np.multiply(np.sum(fobs)/np.sum(ftots),ftots)\n",
    "stat.chisquare(f_obs = fobs, f_exp = fexp)"
   ]
  },
  {
   "cell_type": "code",
   "execution_count": null,
   "metadata": {},
   "outputs": [],
   "source": [
    "dxs = pd.read_csv('eicu-collaborative-research-database-2.0/diagnosis.csv.gz')\n",
    "\n",
    "# adding icd9 codes\n",
    "dxs = dxs.drop(columns=['diagnosisid', 'activeupondischarge', 'diagnosisoffset', 'diagnosisstring'])\n",
    "dxs.dropna(inplace=True)\n",
    "\n",
    "# merge\n",
    "dxs = dxs.groupby('patientunitstayid')['icd9code'].apply(list).reset_index(name='icd9codes')\n",
    "pts = pd.merge(pts, dxs, on=['patientunitstayid'], how='left')"
   ]
  },
  {
   "cell_type": "code",
   "execution_count": null,
   "metadata": {},
   "outputs": [],
   "source": [
    "cpg = pd.read_csv('eicu-collaborative-research-database-2.0/carePlanGeneral.csv.gz')\n",
    "\n",
    "# adding ordered protocols\n",
    "cpg = cpg[cpg.cplgroup == 'Ordered Protocols']\n",
    "cpg.drop(columns=['cplgeneralid', 'activeupondischarge', 'cplitemoffset', 'cplgroup'], inplace = True)\n",
    "cpg.drop_duplicates(inplace=True)\n",
    "\n",
    "# merge\n",
    "cpg = cpg.groupby('patientunitstayid')['cplitemvalue'].apply(list).reset_index(name='orderedprotocols')\n",
    "pts = pd.merge(pts, cpg, on=['patientunitstayid'], how = 'left')"
   ]
  },
  {
   "cell_type": "code",
   "execution_count": null,
   "metadata": {},
   "outputs": [],
   "source": [
    "nsc = pd.read_csv('eicu-collaborative-research-database-2.0/nurseCharting.csv.gz')\n",
    "\n",
    "# adding pain scores\n",
    "nsc.drop(['nursingchartid', 'nursingchartoffset', \n",
    "          'nursingchartcelltypecat', 'nursingchartcelltypevallabel'], axis=1, inplace=True)\n",
    "nsc = nsc[nsc['nursingchartcelltypevalname'] == 'Pain Score']"
   ]
  },
  {
   "cell_type": "code",
   "execution_count": null,
   "metadata": {},
   "outputs": [],
   "source": [
    "valid = [0.0, 1.0, 2.0, 3.0, 4.0, 5.0, 6.0, 7.0, 8.0, 9.0, 10.0]\n",
    "\n",
    "nsc['nursingchartvalue'] = nsc['nursingchartvalue'].apply(lambda x: float(x))\n",
    "nsc = nsc[nsc['nursingchartvalue'].isin(valid)]\n",
    "\n",
    "nsc['nursingchartvalue'] = nsc['nursingchartvalue'].apply(lambda x: int(x))\n",
    "nsc.drop(['nursingchartcelltypevalname'], axis=1, inplace=True)"
   ]
  },
  {
   "cell_type": "code",
   "execution_count": null,
   "metadata": {},
   "outputs": [],
   "source": [
    "max_pain = nsc.groupby('patientunitstayid').max()\n",
    "mean_pain = nsc.groupby('patientunitstayid').mean()"
   ]
  },
  {
   "cell_type": "code",
   "execution_count": null,
   "metadata": {},
   "outputs": [],
   "source": [
    "def pain_val (x, arr):\n",
    "    try:\n",
    "        return round(arr['nursingchartvalue'][x])\n",
    "    except:\n",
    "        return np.nan\n",
    "\n",
    "pts['max_pain'] = pts['patientunitstayid'].apply(lambda x: pain_val(x, max_pain))\n",
    "pts['mean_pain'] = pts['patientunitstayid'].apply(lambda x: pain_val(x, mean_pain))"
   ]
  },
  {
   "cell_type": "code",
   "execution_count": null,
   "metadata": {},
   "outputs": [],
   "source": [
    "# Two way T test for Native American no-analgesia vs all other Ethnicities no-analgesia PAIN SCORES\n",
    "npts = pts[pts.painmeds == False]\n",
    "\n",
    "natpts = npts[npts.ethnicity == 'Native American']\n",
    "othpts = npts[npts.ethnicity != 'Native American']\n",
    "\n",
    "print(stat.ttest_ind(natpts.mean_pain.dropna(), othpts.mean_pain.dropna()))"
   ]
  },
  {
   "cell_type": "markdown",
   "metadata": {},
   "source": [
    "**Difference in pain scores between Native American no-analgesia vs all other Ethnicities no-analgesia not significant**"
   ]
  },
  {
   "cell_type": "code",
   "execution_count": null,
   "metadata": {},
   "outputs": [],
   "source": [
    "# pts['native'] = pts.ethnicity\n",
    "\n",
    "# pts.native.replace('African American', 'Non-native', inplace=True)\n",
    "# pts.native.replace('Asian', 'Non-native', inplace=True)\n",
    "# pts.native.replace('Caucasian', 'Non-native', inplace=True)\n",
    "# pts.native.replace('Hispanic', 'Non-native', inplace=True)\n",
    "# pts.native.replace('Other/Unknown', 'Non-native', inplace=True)\n",
    "# pts.native.replace('Native American', 'Native', inplace=True)"
   ]
  },
  {
   "cell_type": "code",
   "execution_count": null,
   "metadata": {},
   "outputs": [],
   "source": [
    "ct_eth = pd.crosstab(pts.painmeds, pts.ethnicity, margins= True)\n",
    "ct_eth"
   ]
  },
  {
   "cell_type": "code",
   "execution_count": null,
   "metadata": {},
   "outputs": [],
   "source": [
    "fobs = [14550, 1953, 100655, 4770, 1218, 6796]\n",
    "ftots = [21303, 3270, 155273, 7462, 1700, 9523]\n",
    "fexp = np.multiply(np.sum(fobs)/np.sum(ftots),ftots)\n",
    "stat.chisquare(f_obs = fobs, f_exp = fexp)"
   ]
  },
  {
   "cell_type": "markdown",
   "metadata": {},
   "source": [
    "_____\n",
    "#### Temporal Analysis"
   ]
  },
  {
   "cell_type": "code",
   "execution_count": 8,
   "metadata": {},
   "outputs": [
    {
     "data": {
      "text/html": [
       "<div>\n",
       "<style scoped>\n",
       "    .dataframe tbody tr th:only-of-type {\n",
       "        vertical-align: middle;\n",
       "    }\n",
       "\n",
       "    .dataframe tbody tr th {\n",
       "        vertical-align: top;\n",
       "    }\n",
       "\n",
       "    .dataframe thead th {\n",
       "        text-align: right;\n",
       "    }\n",
       "</style>\n",
       "<table border=\"1\" class=\"dataframe\">\n",
       "  <thead>\n",
       "    <tr style=\"text-align: right;\">\n",
       "      <th></th>\n",
       "      <th>patientunitstayid</th>\n",
       "      <th>drugstartoffset</th>\n",
       "      <th>drugname</th>\n",
       "      <th>dosage</th>\n",
       "      <th>frequency</th>\n",
       "      <th>drugstopoffset</th>\n",
       "      <th>opioid</th>\n",
       "      <th>nsaid</th>\n",
       "    </tr>\n",
       "  </thead>\n",
       "  <tbody>\n",
       "    <tr>\n",
       "      <td>2</td>\n",
       "      <td>141168</td>\n",
       "      <td>1386</td>\n",
       "      <td>ASPIRIN EC 81 MG PO TBEC</td>\n",
       "      <td>81 3</td>\n",
       "      <td>Daily</td>\n",
       "      <td>2390</td>\n",
       "      <td>0</td>\n",
       "      <td>1</td>\n",
       "    </tr>\n",
       "    <tr>\n",
       "      <td>15</td>\n",
       "      <td>141194</td>\n",
       "      <td>2109</td>\n",
       "      <td>1 ML  -  HYDROMORPHONE HCL 1 MG/ML IJ SOLN</td>\n",
       "      <td>0.4 3</td>\n",
       "      <td>Q3H PRN</td>\n",
       "      <td>12622</td>\n",
       "      <td>1</td>\n",
       "      <td>0</td>\n",
       "    </tr>\n",
       "    <tr>\n",
       "      <td>33</td>\n",
       "      <td>141203</td>\n",
       "      <td>-339</td>\n",
       "      <td>ASPIRIN EC 81 MG PO TBEC</td>\n",
       "      <td>81 3</td>\n",
       "      <td>Daily</td>\n",
       "      <td>2414</td>\n",
       "      <td>0</td>\n",
       "      <td>1</td>\n",
       "    </tr>\n",
       "    <tr>\n",
       "      <td>37</td>\n",
       "      <td>141203</td>\n",
       "      <td>1873</td>\n",
       "      <td>MORPHINE INJ</td>\n",
       "      <td>2 3</td>\n",
       "      <td>Q15 Min PRN</td>\n",
       "      <td>4189</td>\n",
       "      <td>1</td>\n",
       "      <td>0</td>\n",
       "    </tr>\n",
       "    <tr>\n",
       "      <td>51</td>\n",
       "      <td>141227</td>\n",
       "      <td>-843</td>\n",
       "      <td>ASPIRIN EC 81 MG PO TBEC</td>\n",
       "      <td>81 3</td>\n",
       "      <td>Daily</td>\n",
       "      <td>1744</td>\n",
       "      <td>0</td>\n",
       "      <td>1</td>\n",
       "    </tr>\n",
       "    <tr>\n",
       "      <td>62</td>\n",
       "      <td>141229</td>\n",
       "      <td>-100</td>\n",
       "      <td>MORPHINE INJ</td>\n",
       "      <td>4 3</td>\n",
       "      <td>Q30 Min PRN</td>\n",
       "      <td>3628</td>\n",
       "      <td>1</td>\n",
       "      <td>0</td>\n",
       "    </tr>\n",
       "    <tr>\n",
       "      <td>92</td>\n",
       "      <td>141244</td>\n",
       "      <td>-10800</td>\n",
       "      <td>ASPIRIN EC 81 MG PO TBEC</td>\n",
       "      <td>81 3</td>\n",
       "      <td>Daily</td>\n",
       "      <td>-9715</td>\n",
       "      <td>0</td>\n",
       "      <td>1</td>\n",
       "    </tr>\n",
       "    <tr>\n",
       "      <td>94</td>\n",
       "      <td>141244</td>\n",
       "      <td>-11713</td>\n",
       "      <td>MORPHINE INJ</td>\n",
       "      <td>4 3</td>\n",
       "      <td>Q30 Min PRN</td>\n",
       "      <td>-11517</td>\n",
       "      <td>1</td>\n",
       "      <td>0</td>\n",
       "    </tr>\n",
       "    <tr>\n",
       "      <td>96</td>\n",
       "      <td>141244</td>\n",
       "      <td>-9285</td>\n",
       "      <td>ASPIRIN EC 81 MG PO TBEC</td>\n",
       "      <td>81 3</td>\n",
       "      <td>Daily</td>\n",
       "      <td>8416</td>\n",
       "      <td>0</td>\n",
       "      <td>1</td>\n",
       "    </tr>\n",
       "    <tr>\n",
       "      <td>104</td>\n",
       "      <td>141260</td>\n",
       "      <td>30</td>\n",
       "      <td>OXYCODONE-ACETAMINOPHEN 5-325 MG PO TABS</td>\n",
       "      <td>1 5002</td>\n",
       "      <td>Q6H PRN</td>\n",
       "      <td>1999</td>\n",
       "      <td>1</td>\n",
       "      <td>1</td>\n",
       "    </tr>\n",
       "    <tr>\n",
       "      <td>108</td>\n",
       "      <td>141260</td>\n",
       "      <td>705</td>\n",
       "      <td>ASPIRIN EC 81 MG PO TBEC</td>\n",
       "      <td>81 3</td>\n",
       "      <td>Daily</td>\n",
       "      <td>1999</td>\n",
       "      <td>0</td>\n",
       "      <td>1</td>\n",
       "    </tr>\n",
       "    <tr>\n",
       "      <td>141</td>\n",
       "      <td>141266</td>\n",
       "      <td>1037</td>\n",
       "      <td>GABAPENTIN 100 MG PO CAPS</td>\n",
       "      <td>100 MG</td>\n",
       "      <td>Q12H SCH</td>\n",
       "      <td>11268</td>\n",
       "      <td>0</td>\n",
       "      <td>1</td>\n",
       "    </tr>\n",
       "    <tr>\n",
       "      <td>152</td>\n",
       "      <td>141276</td>\n",
       "      <td>436</td>\n",
       "      <td>ASPIRIN EC 81 MG PO TBEC</td>\n",
       "      <td>81 3</td>\n",
       "      <td>Daily</td>\n",
       "      <td>1836</td>\n",
       "      <td>0</td>\n",
       "      <td>1</td>\n",
       "    </tr>\n",
       "    <tr>\n",
       "      <td>166</td>\n",
       "      <td>141288</td>\n",
       "      <td>-10</td>\n",
       "      <td>1 ML  -  HYDROMORPHONE HCL 1 MG/ML IJ SOLN</td>\n",
       "      <td>0.4 3</td>\n",
       "      <td>Q3H PRN</td>\n",
       "      <td>5369</td>\n",
       "      <td>1</td>\n",
       "      <td>0</td>\n",
       "    </tr>\n",
       "    <tr>\n",
       "      <td>167</td>\n",
       "      <td>141288</td>\n",
       "      <td>5369</td>\n",
       "      <td>OXYCODONE-ACETAMINOPHEN 5-325 MG PO TABS</td>\n",
       "      <td>2 5002</td>\n",
       "      <td>Q6H PRN</td>\n",
       "      <td>7382</td>\n",
       "      <td>1</td>\n",
       "      <td>1</td>\n",
       "    </tr>\n",
       "    <tr>\n",
       "      <td>175</td>\n",
       "      <td>141289</td>\n",
       "      <td>754</td>\n",
       "      <td>1 ML  -  HYDROMORPHONE HCL 1 MG/ML IJ SOLN</td>\n",
       "      <td>0.4 3</td>\n",
       "      <td>Q2H PRN</td>\n",
       "      <td>1332</td>\n",
       "      <td>1</td>\n",
       "      <td>0</td>\n",
       "    </tr>\n",
       "    <tr>\n",
       "      <td>179</td>\n",
       "      <td>141289</td>\n",
       "      <td>98</td>\n",
       "      <td>1 ML  -  HYDROMORPHONE HCL 1 MG/ML IJ SOLN</td>\n",
       "      <td>0.4 3</td>\n",
       "      <td>Q2H PRN</td>\n",
       "      <td>754</td>\n",
       "      <td>1</td>\n",
       "      <td>0</td>\n",
       "    </tr>\n",
       "    <tr>\n",
       "      <td>189</td>\n",
       "      <td>141296</td>\n",
       "      <td>-2213</td>\n",
       "      <td>1 ML  -  HYDROMORPHONE HCL 1 MG/ML IJ SOLN</td>\n",
       "      <td>1 3</td>\n",
       "      <td>Q3H PRN</td>\n",
       "      <td>0</td>\n",
       "      <td>1</td>\n",
       "      <td>0</td>\n",
       "    </tr>\n",
       "    <tr>\n",
       "      <td>241</td>\n",
       "      <td>141360</td>\n",
       "      <td>4011</td>\n",
       "      <td>ASPIRIN 325 MG PO TABS</td>\n",
       "      <td>325 3</td>\n",
       "      <td>Daily</td>\n",
       "      <td>5915</td>\n",
       "      <td>0</td>\n",
       "      <td>1</td>\n",
       "    </tr>\n",
       "    <tr>\n",
       "      <td>243</td>\n",
       "      <td>141360</td>\n",
       "      <td>1791</td>\n",
       "      <td>ASPIRIN 325 MG PO TABS</td>\n",
       "      <td>325 3</td>\n",
       "      <td>Daily</td>\n",
       "      <td>3998</td>\n",
       "      <td>0</td>\n",
       "      <td>1</td>\n",
       "    </tr>\n",
       "  </tbody>\n",
       "</table>\n",
       "</div>"
      ],
      "text/plain": [
       "     patientunitstayid  drugstartoffset  \\\n",
       "2               141168             1386   \n",
       "15              141194             2109   \n",
       "33              141203             -339   \n",
       "37              141203             1873   \n",
       "51              141227             -843   \n",
       "62              141229             -100   \n",
       "92              141244           -10800   \n",
       "94              141244           -11713   \n",
       "96              141244            -9285   \n",
       "104             141260               30   \n",
       "108             141260              705   \n",
       "141             141266             1037   \n",
       "152             141276              436   \n",
       "166             141288              -10   \n",
       "167             141288             5369   \n",
       "175             141289              754   \n",
       "179             141289               98   \n",
       "189             141296            -2213   \n",
       "241             141360             4011   \n",
       "243             141360             1791   \n",
       "\n",
       "                                       drugname  dosage    frequency  \\\n",
       "2                      ASPIRIN EC 81 MG PO TBEC    81 3        Daily   \n",
       "15   1 ML  -  HYDROMORPHONE HCL 1 MG/ML IJ SOLN   0.4 3      Q3H PRN   \n",
       "33                     ASPIRIN EC 81 MG PO TBEC    81 3        Daily   \n",
       "37                                 MORPHINE INJ     2 3  Q15 Min PRN   \n",
       "51                     ASPIRIN EC 81 MG PO TBEC    81 3        Daily   \n",
       "62                                 MORPHINE INJ     4 3  Q30 Min PRN   \n",
       "92                     ASPIRIN EC 81 MG PO TBEC    81 3        Daily   \n",
       "94                                 MORPHINE INJ     4 3  Q30 Min PRN   \n",
       "96                     ASPIRIN EC 81 MG PO TBEC    81 3        Daily   \n",
       "104    OXYCODONE-ACETAMINOPHEN 5-325 MG PO TABS  1 5002      Q6H PRN   \n",
       "108                    ASPIRIN EC 81 MG PO TBEC    81 3        Daily   \n",
       "141                   GABAPENTIN 100 MG PO CAPS  100 MG     Q12H SCH   \n",
       "152                    ASPIRIN EC 81 MG PO TBEC    81 3        Daily   \n",
       "166  1 ML  -  HYDROMORPHONE HCL 1 MG/ML IJ SOLN   0.4 3      Q3H PRN   \n",
       "167    OXYCODONE-ACETAMINOPHEN 5-325 MG PO TABS  2 5002      Q6H PRN   \n",
       "175  1 ML  -  HYDROMORPHONE HCL 1 MG/ML IJ SOLN   0.4 3      Q2H PRN   \n",
       "179  1 ML  -  HYDROMORPHONE HCL 1 MG/ML IJ SOLN   0.4 3      Q2H PRN   \n",
       "189  1 ML  -  HYDROMORPHONE HCL 1 MG/ML IJ SOLN     1 3      Q3H PRN   \n",
       "241                      ASPIRIN 325 MG PO TABS   325 3        Daily   \n",
       "243                      ASPIRIN 325 MG PO TABS   325 3        Daily   \n",
       "\n",
       "     drugstopoffset  opioid  nsaid  \n",
       "2              2390       0      1  \n",
       "15            12622       1      0  \n",
       "33             2414       0      1  \n",
       "37             4189       1      0  \n",
       "51             1744       0      1  \n",
       "62             3628       1      0  \n",
       "92            -9715       0      1  \n",
       "94           -11517       1      0  \n",
       "96             8416       0      1  \n",
       "104            1999       1      1  \n",
       "108            1999       0      1  \n",
       "141           11268       0      1  \n",
       "152            1836       0      1  \n",
       "166            5369       1      0  \n",
       "167            7382       1      1  \n",
       "175            1332       1      0  \n",
       "179             754       1      0  \n",
       "189               0       1      0  \n",
       "241            5915       0      1  \n",
       "243            3998       0      1  "
      ]
     },
     "execution_count": 8,
     "metadata": {},
     "output_type": "execute_result"
    }
   ],
   "source": [
    "med.head(20)"
   ]
  },
  {
   "cell_type": "code",
   "execution_count": null,
   "metadata": {},
   "outputs": [],
   "source": [
    "med['duration_min'] = med.drugstopoffset - med.drugstartoffset\n",
    "med.drop(columns=['drugstopoffset'], inplace=True)"
   ]
  },
  {
   "cell_type": "code",
   "execution_count": null,
   "metadata": {},
   "outputs": [],
   "source": [
    "med.dropna(inplace=True)"
   ]
  },
  {
   "cell_type": "code",
   "execution_count": null,
   "metadata": {},
   "outputs": [],
   "source": [
    "opi = med[med.opioid==1]"
   ]
  },
  {
   "cell_type": "code",
   "execution_count": null,
   "metadata": {},
   "outputs": [],
   "source": [
    "opi.head()"
   ]
  },
  {
   "cell_type": "code",
   "execution_count": null,
   "metadata": {},
   "outputs": [],
   "source": [
    "opi = opi[opi.frequency != 'Pyxis']"
   ]
  },
  {
   "cell_type": "code",
   "execution_count": null,
   "metadata": {},
   "outputs": [],
   "source": [
    "dict(opi.frequency.value_counts())"
   ]
  },
  {
   "cell_type": "code",
   "execution_count": null,
   "metadata": {},
   "outputs": [],
   "source": [
    "dict(opi.dosage.value_counts())"
   ]
  },
  {
   "cell_type": "code",
   "execution_count": null,
   "metadata": {},
   "outputs": [],
   "source": [
    "import re"
   ]
  },
  {
   "cell_type": "code",
   "execution_count": null,
   "metadata": {},
   "outputs": [],
   "source": [
    "t = '25-200 mcg/hr'"
   ]
  },
  {
   "cell_type": "code",
   "execution_count": null,
   "metadata": {},
   "outputs": [],
   "source": [
    "regex = re.findall(r\"[-+]?\\d*\\.\\d+|\\d+\", t)\n",
    "regex = [float(x) for x in regex]\n",
    "regex\n",
    "\n",
    "if len(regex) > 1:\n",
    "    print( regex[-1] )\n",
    "else:\n",
    "    print( regex[0] )"
   ]
  },
  {
   "cell_type": "code",
   "execution_count": null,
   "metadata": {},
   "outputs": [],
   "source": [
    "def cases (x):\n",
    "    \n",
    "    try:\n",
    "        if 'mcg/hr' in x.lower():\n",
    "            regex = re.findall(r\"[-+]?\\d*\\.\\d+|\\d+\", x)\n",
    "            regex = [float(i) for i in regex]\n",
    "\n",
    "            if len(regex) > 1:\n",
    "                return str(regex[-1]/1000) + ' hr'\n",
    "            else:\n",
    "                return str(regex[0]/1000) + ' hr'\n",
    "    \n",
    "        elif 'mg' in x.lower():\n",
    "            regex = re.findall(r\"[-+]?\\d*\\.\\d+|\\d+\", x)\n",
    "            regex = [float(i) for i in regex]\n",
    "\n",
    "            if len(regex) > 1:\n",
    "                return regex[-1]\n",
    "            else:\n",
    "                return regex[0]\n",
    "\n",
    "        elif 'mcg' in x.lower():\n",
    "            regex = re.findall(r\"[-+]?\\d*\\.\\d+|\\d+\", x)\n",
    "            regex = [float(i) for i in regex]\n",
    "\n",
    "            if len(regex) > 1:\n",
    "                return regex[-1]/1000\n",
    "            else:\n",
    "                return regex[0]/1000\n",
    "        else:\n",
    "            return x.lower()\n",
    "    except:\n",
    "        return x.lower()"
   ]
  },
  {
   "cell_type": "code",
   "execution_count": null,
   "metadata": {},
   "outputs": [],
   "source": [
    "cases(t)"
   ]
  },
  {
   "cell_type": "code",
   "execution_count": null,
   "metadata": {},
   "outputs": [],
   "source": [
    "opi['dos_mg'] = opi.dosage.apply(lambda x: cases(x))"
   ]
  },
  {
   "cell_type": "code",
   "execution_count": null,
   "metadata": {},
   "outputs": [],
   "source": [
    "opi"
   ]
  },
  {
   "cell_type": "code",
   "execution_count": null,
   "metadata": {},
   "outputs": [],
   "source": [
    "import sys\n",
    "np.set_printoptions(threshold=sys.maxsize)"
   ]
  },
  {
   "cell_type": "code",
   "execution_count": null,
   "metadata": {},
   "outputs": [],
   "source": [
    "opi.dos_mg.value_counts().index"
   ]
  },
  {
   "cell_type": "code",
   "execution_count": null,
   "metadata": {},
   "outputs": [],
   "source": []
  }
 ],
 "metadata": {
  "kernelspec": {
   "display_name": "Python 3",
   "language": "python",
   "name": "python3"
  },
  "language_info": {
   "codemirror_mode": {
    "name": "ipython",
    "version": 3
   },
   "file_extension": ".py",
   "mimetype": "text/x-python",
   "name": "python",
   "nbconvert_exporter": "python",
   "pygments_lexer": "ipython3",
   "version": "3.7.4"
  }
 },
 "nbformat": 4,
 "nbformat_minor": 4
}
